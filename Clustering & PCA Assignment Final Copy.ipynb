{
 "cells": [
  {
   "cell_type": "markdown",
   "metadata": {},
   "source": [
    "## Clustering & PCA Assignment for HELP International \n",
    "\n",
    "### Objective: To categorise the countries using socio-economic and health factors that determine the overall development of the country.\n",
    "\n",
    "\n",
    "#### Import all necessary libraries"
   ]
  },
  {
   "cell_type": "code",
   "execution_count": 1,
   "metadata": {},
   "outputs": [],
   "source": [
    "\n",
    "import pandas as pd\n",
    "import numpy as np\n",
    "\n",
    "# For Visualisation\n",
    "import matplotlib.pyplot as plt\n",
    "import seaborn as sns\n",
    "%matplotlib inline\n",
    "\n",
    "# For scaling the data\n",
    "from sklearn.preprocessing import scale\n",
    "\n",
    "# To perform K-means clustering\n",
    "from sklearn.cluster import KMeans\n",
    "\n",
    "# To perform PCA\n",
    "from sklearn.decomposition import PCA\n",
    "\n",
    "#To perform hierarchical clustering\n",
    "from scipy.cluster.hierarchy import linkage\n",
    "from scipy.cluster.hierarchy import dendrogram\n",
    "from scipy.cluster.hierarchy import cut_tree"
   ]
  },
  {
   "cell_type": "code",
   "execution_count": 2,
   "metadata": {},
   "outputs": [],
   "source": [
    "#Reaidng the Dataset \n",
    "path=\"C:/Subhajit/Newfolder/IOT/DS/Assgnments/Clustering & PCA Assignment/\"\n",
    "Country_data=pd.read_csv(path+\"Country-data.csv\")"
   ]
  },
  {
   "cell_type": "markdown",
   "metadata": {},
   "source": [
    "#### Let's understand the structure of our dataframe"
   ]
  },
  {
   "cell_type": "code",
   "execution_count": 3,
   "metadata": {},
   "outputs": [
    {
     "data": {
      "text/html": [
       "<div>\n",
       "<style scoped>\n",
       "    .dataframe tbody tr th:only-of-type {\n",
       "        vertical-align: middle;\n",
       "    }\n",
       "\n",
       "    .dataframe tbody tr th {\n",
       "        vertical-align: top;\n",
       "    }\n",
       "\n",
       "    .dataframe thead th {\n",
       "        text-align: right;\n",
       "    }\n",
       "</style>\n",
       "<table border=\"1\" class=\"dataframe\">\n",
       "  <thead>\n",
       "    <tr style=\"text-align: right;\">\n",
       "      <th></th>\n",
       "      <th>country</th>\n",
       "      <th>child_mort</th>\n",
       "      <th>exports</th>\n",
       "      <th>health</th>\n",
       "      <th>imports</th>\n",
       "      <th>income</th>\n",
       "      <th>inflation</th>\n",
       "      <th>life_expec</th>\n",
       "      <th>total_fer</th>\n",
       "      <th>gdpp</th>\n",
       "    </tr>\n",
       "  </thead>\n",
       "  <tbody>\n",
       "    <tr>\n",
       "      <th>0</th>\n",
       "      <td>Afghanistan</td>\n",
       "      <td>90.2</td>\n",
       "      <td>10.0</td>\n",
       "      <td>7.58</td>\n",
       "      <td>44.9</td>\n",
       "      <td>1610</td>\n",
       "      <td>9.44</td>\n",
       "      <td>56.2</td>\n",
       "      <td>5.82</td>\n",
       "      <td>553</td>\n",
       "    </tr>\n",
       "    <tr>\n",
       "      <th>1</th>\n",
       "      <td>Albania</td>\n",
       "      <td>16.6</td>\n",
       "      <td>28.0</td>\n",
       "      <td>6.55</td>\n",
       "      <td>48.6</td>\n",
       "      <td>9930</td>\n",
       "      <td>4.49</td>\n",
       "      <td>76.3</td>\n",
       "      <td>1.65</td>\n",
       "      <td>4090</td>\n",
       "    </tr>\n",
       "    <tr>\n",
       "      <th>2</th>\n",
       "      <td>Algeria</td>\n",
       "      <td>27.3</td>\n",
       "      <td>38.4</td>\n",
       "      <td>4.17</td>\n",
       "      <td>31.4</td>\n",
       "      <td>12900</td>\n",
       "      <td>16.10</td>\n",
       "      <td>76.5</td>\n",
       "      <td>2.89</td>\n",
       "      <td>4460</td>\n",
       "    </tr>\n",
       "    <tr>\n",
       "      <th>3</th>\n",
       "      <td>Angola</td>\n",
       "      <td>119.0</td>\n",
       "      <td>62.3</td>\n",
       "      <td>2.85</td>\n",
       "      <td>42.9</td>\n",
       "      <td>5900</td>\n",
       "      <td>22.40</td>\n",
       "      <td>60.1</td>\n",
       "      <td>6.16</td>\n",
       "      <td>3530</td>\n",
       "    </tr>\n",
       "    <tr>\n",
       "      <th>4</th>\n",
       "      <td>Antigua and Barbuda</td>\n",
       "      <td>10.3</td>\n",
       "      <td>45.5</td>\n",
       "      <td>6.03</td>\n",
       "      <td>58.9</td>\n",
       "      <td>19100</td>\n",
       "      <td>1.44</td>\n",
       "      <td>76.8</td>\n",
       "      <td>2.13</td>\n",
       "      <td>12200</td>\n",
       "    </tr>\n",
       "  </tbody>\n",
       "</table>\n",
       "</div>"
      ],
      "text/plain": [
       "               country  child_mort  exports  health  imports  income  \\\n",
       "0          Afghanistan        90.2     10.0    7.58     44.9    1610   \n",
       "1              Albania        16.6     28.0    6.55     48.6    9930   \n",
       "2              Algeria        27.3     38.4    4.17     31.4   12900   \n",
       "3               Angola       119.0     62.3    2.85     42.9    5900   \n",
       "4  Antigua and Barbuda        10.3     45.5    6.03     58.9   19100   \n",
       "\n",
       "   inflation  life_expec  total_fer   gdpp  \n",
       "0       9.44        56.2       5.82    553  \n",
       "1       4.49        76.3       1.65   4090  \n",
       "2      16.10        76.5       2.89   4460  \n",
       "3      22.40        60.1       6.16   3530  \n",
       "4       1.44        76.8       2.13  12200  "
      ]
     },
     "execution_count": 3,
     "metadata": {},
     "output_type": "execute_result"
    }
   ],
   "source": [
    "#Reading the first 5 rows of the dataset\n",
    "Country_data.head()"
   ]
  },
  {
   "cell_type": "markdown",
   "metadata": {},
   "source": [
    "- Here, exports, heath and imports variables are in percenatge of the total GDP format. So, It is converted into actual value on the basis of GDPP as below since, GDP data and population data is not present ihe data set."
   ]
  },
  {
   "cell_type": "code",
   "execution_count": 4,
   "metadata": {},
   "outputs": [],
   "source": [
    "Country_data['exports'] = Country_data['exports']*Country_data['gdpp']/100\n",
    "Country_data['imports'] = Country_data['imports']*Country_data['gdpp']/100\n",
    "Country_data['health'] = Country_data['health']*Country_data['gdpp']/100"
   ]
  },
  {
   "cell_type": "markdown",
   "metadata": {},
   "source": [
    "#### Let's read first 5 rows after converting the exports, heath and imports variables"
   ]
  },
  {
   "cell_type": "code",
   "execution_count": 5,
   "metadata": {},
   "outputs": [
    {
     "data": {
      "text/html": [
       "<div>\n",
       "<style scoped>\n",
       "    .dataframe tbody tr th:only-of-type {\n",
       "        vertical-align: middle;\n",
       "    }\n",
       "\n",
       "    .dataframe tbody tr th {\n",
       "        vertical-align: top;\n",
       "    }\n",
       "\n",
       "    .dataframe thead th {\n",
       "        text-align: right;\n",
       "    }\n",
       "</style>\n",
       "<table border=\"1\" class=\"dataframe\">\n",
       "  <thead>\n",
       "    <tr style=\"text-align: right;\">\n",
       "      <th></th>\n",
       "      <th>country</th>\n",
       "      <th>child_mort</th>\n",
       "      <th>exports</th>\n",
       "      <th>health</th>\n",
       "      <th>imports</th>\n",
       "      <th>income</th>\n",
       "      <th>inflation</th>\n",
       "      <th>life_expec</th>\n",
       "      <th>total_fer</th>\n",
       "      <th>gdpp</th>\n",
       "    </tr>\n",
       "  </thead>\n",
       "  <tbody>\n",
       "    <tr>\n",
       "      <th>0</th>\n",
       "      <td>Afghanistan</td>\n",
       "      <td>90.2</td>\n",
       "      <td>55.30</td>\n",
       "      <td>41.9174</td>\n",
       "      <td>248.297</td>\n",
       "      <td>1610</td>\n",
       "      <td>9.44</td>\n",
       "      <td>56.2</td>\n",
       "      <td>5.82</td>\n",
       "      <td>553</td>\n",
       "    </tr>\n",
       "    <tr>\n",
       "      <th>1</th>\n",
       "      <td>Albania</td>\n",
       "      <td>16.6</td>\n",
       "      <td>1145.20</td>\n",
       "      <td>267.8950</td>\n",
       "      <td>1987.740</td>\n",
       "      <td>9930</td>\n",
       "      <td>4.49</td>\n",
       "      <td>76.3</td>\n",
       "      <td>1.65</td>\n",
       "      <td>4090</td>\n",
       "    </tr>\n",
       "    <tr>\n",
       "      <th>2</th>\n",
       "      <td>Algeria</td>\n",
       "      <td>27.3</td>\n",
       "      <td>1712.64</td>\n",
       "      <td>185.9820</td>\n",
       "      <td>1400.440</td>\n",
       "      <td>12900</td>\n",
       "      <td>16.10</td>\n",
       "      <td>76.5</td>\n",
       "      <td>2.89</td>\n",
       "      <td>4460</td>\n",
       "    </tr>\n",
       "    <tr>\n",
       "      <th>3</th>\n",
       "      <td>Angola</td>\n",
       "      <td>119.0</td>\n",
       "      <td>2199.19</td>\n",
       "      <td>100.6050</td>\n",
       "      <td>1514.370</td>\n",
       "      <td>5900</td>\n",
       "      <td>22.40</td>\n",
       "      <td>60.1</td>\n",
       "      <td>6.16</td>\n",
       "      <td>3530</td>\n",
       "    </tr>\n",
       "    <tr>\n",
       "      <th>4</th>\n",
       "      <td>Antigua and Barbuda</td>\n",
       "      <td>10.3</td>\n",
       "      <td>5551.00</td>\n",
       "      <td>735.6600</td>\n",
       "      <td>7185.800</td>\n",
       "      <td>19100</td>\n",
       "      <td>1.44</td>\n",
       "      <td>76.8</td>\n",
       "      <td>2.13</td>\n",
       "      <td>12200</td>\n",
       "    </tr>\n",
       "  </tbody>\n",
       "</table>\n",
       "</div>"
      ],
      "text/plain": [
       "               country  child_mort  exports    health   imports  income  \\\n",
       "0          Afghanistan        90.2    55.30   41.9174   248.297    1610   \n",
       "1              Albania        16.6  1145.20  267.8950  1987.740    9930   \n",
       "2              Algeria        27.3  1712.64  185.9820  1400.440   12900   \n",
       "3               Angola       119.0  2199.19  100.6050  1514.370    5900   \n",
       "4  Antigua and Barbuda        10.3  5551.00  735.6600  7185.800   19100   \n",
       "\n",
       "   inflation  life_expec  total_fer   gdpp  \n",
       "0       9.44        56.2       5.82    553  \n",
       "1       4.49        76.3       1.65   4090  \n",
       "2      16.10        76.5       2.89   4460  \n",
       "3      22.40        60.1       6.16   3530  \n",
       "4       1.44        76.8       2.13  12200  "
      ]
     },
     "execution_count": 5,
     "metadata": {},
     "output_type": "execute_result"
    }
   ],
   "source": [
    "Country_data.head()"
   ]
  },
  {
   "cell_type": "markdown",
   "metadata": {},
   "source": [
    "#### Checking of the outliers in each columns"
   ]
  },
  {
   "cell_type": "code",
   "execution_count": 6,
   "metadata": {},
   "outputs": [
    {
     "data": {
      "text/html": [
       "<div>\n",
       "<style scoped>\n",
       "    .dataframe tbody tr th:only-of-type {\n",
       "        vertical-align: middle;\n",
       "    }\n",
       "\n",
       "    .dataframe tbody tr th {\n",
       "        vertical-align: top;\n",
       "    }\n",
       "\n",
       "    .dataframe thead th {\n",
       "        text-align: right;\n",
       "    }\n",
       "</style>\n",
       "<table border=\"1\" class=\"dataframe\">\n",
       "  <thead>\n",
       "    <tr style=\"text-align: right;\">\n",
       "      <th></th>\n",
       "      <th>child_mort</th>\n",
       "      <th>exports</th>\n",
       "      <th>health</th>\n",
       "      <th>imports</th>\n",
       "      <th>income</th>\n",
       "      <th>inflation</th>\n",
       "      <th>life_expec</th>\n",
       "      <th>total_fer</th>\n",
       "      <th>gdpp</th>\n",
       "    </tr>\n",
       "  </thead>\n",
       "  <tbody>\n",
       "    <tr>\n",
       "      <th>count</th>\n",
       "      <td>167.000000</td>\n",
       "      <td>167.000000</td>\n",
       "      <td>167.000000</td>\n",
       "      <td>167.000000</td>\n",
       "      <td>167.000000</td>\n",
       "      <td>167.000000</td>\n",
       "      <td>167.000000</td>\n",
       "      <td>167.000000</td>\n",
       "      <td>167.000000</td>\n",
       "    </tr>\n",
       "    <tr>\n",
       "      <th>mean</th>\n",
       "      <td>38.270060</td>\n",
       "      <td>7420.618847</td>\n",
       "      <td>1056.733204</td>\n",
       "      <td>6588.352108</td>\n",
       "      <td>17144.688623</td>\n",
       "      <td>7.781832</td>\n",
       "      <td>70.555689</td>\n",
       "      <td>2.947964</td>\n",
       "      <td>12964.155689</td>\n",
       "    </tr>\n",
       "    <tr>\n",
       "      <th>std</th>\n",
       "      <td>40.328931</td>\n",
       "      <td>17973.885795</td>\n",
       "      <td>1801.408906</td>\n",
       "      <td>14710.810418</td>\n",
       "      <td>19278.067698</td>\n",
       "      <td>10.570704</td>\n",
       "      <td>8.893172</td>\n",
       "      <td>1.513848</td>\n",
       "      <td>18328.704809</td>\n",
       "    </tr>\n",
       "    <tr>\n",
       "      <th>min</th>\n",
       "      <td>2.600000</td>\n",
       "      <td>1.076920</td>\n",
       "      <td>12.821200</td>\n",
       "      <td>0.651092</td>\n",
       "      <td>609.000000</td>\n",
       "      <td>-4.210000</td>\n",
       "      <td>32.100000</td>\n",
       "      <td>1.150000</td>\n",
       "      <td>231.000000</td>\n",
       "    </tr>\n",
       "    <tr>\n",
       "      <th>25%</th>\n",
       "      <td>8.250000</td>\n",
       "      <td>447.140000</td>\n",
       "      <td>78.535500</td>\n",
       "      <td>640.215000</td>\n",
       "      <td>3355.000000</td>\n",
       "      <td>1.810000</td>\n",
       "      <td>65.300000</td>\n",
       "      <td>1.795000</td>\n",
       "      <td>1330.000000</td>\n",
       "    </tr>\n",
       "    <tr>\n",
       "      <th>50%</th>\n",
       "      <td>19.300000</td>\n",
       "      <td>1777.440000</td>\n",
       "      <td>321.886000</td>\n",
       "      <td>2045.580000</td>\n",
       "      <td>9960.000000</td>\n",
       "      <td>5.390000</td>\n",
       "      <td>73.100000</td>\n",
       "      <td>2.410000</td>\n",
       "      <td>4660.000000</td>\n",
       "    </tr>\n",
       "    <tr>\n",
       "      <th>75%</th>\n",
       "      <td>62.100000</td>\n",
       "      <td>7278.000000</td>\n",
       "      <td>976.940000</td>\n",
       "      <td>7719.600000</td>\n",
       "      <td>22800.000000</td>\n",
       "      <td>10.750000</td>\n",
       "      <td>76.800000</td>\n",
       "      <td>3.880000</td>\n",
       "      <td>14050.000000</td>\n",
       "    </tr>\n",
       "    <tr>\n",
       "      <th>90%</th>\n",
       "      <td>100.220000</td>\n",
       "      <td>17760.600000</td>\n",
       "      <td>3825.416000</td>\n",
       "      <td>15034.280000</td>\n",
       "      <td>41220.000000</td>\n",
       "      <td>16.640000</td>\n",
       "      <td>80.400000</td>\n",
       "      <td>5.322000</td>\n",
       "      <td>41840.000000</td>\n",
       "    </tr>\n",
       "    <tr>\n",
       "      <th>95%</th>\n",
       "      <td>116.000000</td>\n",
       "      <td>31385.100000</td>\n",
       "      <td>4966.701000</td>\n",
       "      <td>24241.560000</td>\n",
       "      <td>48290.000000</td>\n",
       "      <td>20.870000</td>\n",
       "      <td>81.400000</td>\n",
       "      <td>5.861000</td>\n",
       "      <td>48610.000000</td>\n",
       "    </tr>\n",
       "    <tr>\n",
       "      <th>99%</th>\n",
       "      <td>153.400000</td>\n",
       "      <td>64794.260000</td>\n",
       "      <td>8410.330400</td>\n",
       "      <td>55371.390000</td>\n",
       "      <td>84374.000000</td>\n",
       "      <td>41.478000</td>\n",
       "      <td>82.370000</td>\n",
       "      <td>6.563600</td>\n",
       "      <td>79088.000000</td>\n",
       "    </tr>\n",
       "    <tr>\n",
       "      <th>max</th>\n",
       "      <td>208.000000</td>\n",
       "      <td>183750.000000</td>\n",
       "      <td>8663.600000</td>\n",
       "      <td>149100.000000</td>\n",
       "      <td>125000.000000</td>\n",
       "      <td>104.000000</td>\n",
       "      <td>82.800000</td>\n",
       "      <td>7.490000</td>\n",
       "      <td>105000.000000</td>\n",
       "    </tr>\n",
       "  </tbody>\n",
       "</table>\n",
       "</div>"
      ],
      "text/plain": [
       "       child_mort        exports       health        imports         income  \\\n",
       "count  167.000000     167.000000   167.000000     167.000000     167.000000   \n",
       "mean    38.270060    7420.618847  1056.733204    6588.352108   17144.688623   \n",
       "std     40.328931   17973.885795  1801.408906   14710.810418   19278.067698   \n",
       "min      2.600000       1.076920    12.821200       0.651092     609.000000   \n",
       "25%      8.250000     447.140000    78.535500     640.215000    3355.000000   \n",
       "50%     19.300000    1777.440000   321.886000    2045.580000    9960.000000   \n",
       "75%     62.100000    7278.000000   976.940000    7719.600000   22800.000000   \n",
       "90%    100.220000   17760.600000  3825.416000   15034.280000   41220.000000   \n",
       "95%    116.000000   31385.100000  4966.701000   24241.560000   48290.000000   \n",
       "99%    153.400000   64794.260000  8410.330400   55371.390000   84374.000000   \n",
       "max    208.000000  183750.000000  8663.600000  149100.000000  125000.000000   \n",
       "\n",
       "        inflation  life_expec   total_fer           gdpp  \n",
       "count  167.000000  167.000000  167.000000     167.000000  \n",
       "mean     7.781832   70.555689    2.947964   12964.155689  \n",
       "std     10.570704    8.893172    1.513848   18328.704809  \n",
       "min     -4.210000   32.100000    1.150000     231.000000  \n",
       "25%      1.810000   65.300000    1.795000    1330.000000  \n",
       "50%      5.390000   73.100000    2.410000    4660.000000  \n",
       "75%     10.750000   76.800000    3.880000   14050.000000  \n",
       "90%     16.640000   80.400000    5.322000   41840.000000  \n",
       "95%     20.870000   81.400000    5.861000   48610.000000  \n",
       "99%     41.478000   82.370000    6.563600   79088.000000  \n",
       "max    104.000000   82.800000    7.490000  105000.000000  "
      ]
     },
     "execution_count": 6,
     "metadata": {},
     "output_type": "execute_result"
    }
   ],
   "source": [
    "# Checking outliers at 25%,50%,75%,90%,95% and 99%\n",
    "Country_data.describe(percentiles=[.25,.5,.75,.90,.95,.99])"
   ]
  },
  {
   "cell_type": "markdown",
   "metadata": {},
   "source": [
    "- Let's plot the box plots to check outliers "
   ]
  },
  {
   "cell_type": "code",
   "execution_count": 7,
   "metadata": {},
   "outputs": [
    {
     "data": {
      "text/plain": [
       "<matplotlib.axes._subplots.AxesSubplot at 0x98651f1b00>"
      ]
     },
     "execution_count": 7,
     "metadata": {},
     "output_type": "execute_result"
    },
    {
     "data": {
      "image/png": "[encoded data removed]",
      "text/plain": [
       "<Figure size 864x576 with 1 Axes>"
      ]
     },
     "metadata": {
      "needs_background": "light"
     },
     "output_type": "display_data"
    }
   ],
   "source": [
    "fig = plt.figure(figsize = (12,8))\n",
    "sns.boxplot(data=Country_data)"
   ]
  },
  {
   "cell_type": "markdown",
   "metadata": {},
   "source": [
    "- From the above table, we can see there are some outliers in case of exports,imports,income, gdpp, etc. We will handle this after performing PCA to derive principal components after considering the elemination of Country."
   ]
  },
  {
   "cell_type": "code",
   "execution_count": 8,
   "metadata": {},
   "outputs": [
    {
     "name": "stdout",
     "output_type": "stream",
     "text": [
      "The number of countries are :  167\n"
     ]
    }
   ],
   "source": [
    "print(\"The number of countries are : \",Country_data.shape[0])"
   ]
  },
  {
   "cell_type": "markdown",
   "metadata": {},
   "source": [
    "#### Checking the datatypes of each variable"
   ]
  },
  {
   "cell_type": "code",
   "execution_count": 9,
   "metadata": {},
   "outputs": [
    {
     "name": "stdout",
     "output_type": "stream",
     "text": [
      "<class 'pandas.core.frame.DataFrame'>\n",
      "RangeIndex: 167 entries, 0 to 166\n",
      "Data columns (total 10 columns):\n",
      "country       167 non-null object\n",
      "child_mort    167 non-null float64\n",
      "exports       167 non-null float64\n",
      "health        167 non-null float64\n",
      "imports       167 non-null float64\n",
      "income        167 non-null int64\n",
      "inflation     167 non-null float64\n",
      "life_expec    167 non-null float64\n",
      "total_fer     167 non-null float64\n",
      "gdpp          167 non-null int64\n",
      "dtypes: float64(7), int64(2), object(1)\n",
      "memory usage: 13.1+ KB\n"
     ]
    }
   ],
   "source": [
    "Country_data.info()"
   ]
  },
  {
   "cell_type": "markdown",
   "metadata": {},
   "source": [
    "From above datatype information all the datattypes are in correct format.\n",
    "\n",
    "#### Checking of null or NaN values"
   ]
  },
  {
   "cell_type": "code",
   "execution_count": 10,
   "metadata": {},
   "outputs": [
    {
     "data": {
      "text/plain": [
       "country       0\n",
       "child_mort    0\n",
       "exports       0\n",
       "health        0\n",
       "imports       0\n",
       "income        0\n",
       "inflation     0\n",
       "life_expec    0\n",
       "total_fer     0\n",
       "gdpp          0\n",
       "dtype: int64"
      ]
     },
     "execution_count": 10,
     "metadata": {},
     "output_type": "execute_result"
    }
   ],
   "source": [
    "Country_data.isnull().sum()"
   ]
  },
  {
   "cell_type": "code",
   "execution_count": 11,
   "metadata": {},
   "outputs": [
    {
     "data": {
      "text/plain": [
       "country       0\n",
       "child_mort    0\n",
       "exports       0\n",
       "health        0\n",
       "imports       0\n",
       "income        0\n",
       "inflation     0\n",
       "life_expec    0\n",
       "total_fer     0\n",
       "gdpp          0\n",
       "dtype: int64"
      ]
     },
     "execution_count": 11,
     "metadata": {},
     "output_type": "execute_result"
    }
   ],
   "source": [
    "Country_data.isna().sum()"
   ]
  },
  {
   "cell_type": "markdown",
   "metadata": {},
   "source": [
    "##### As we can see there is no missing data(null,NaN values) in the list\n",
    "\n",
    "#### Let's plot the heat map to check the multicollinearity of the variables."
   ]
  },
  {
   "cell_type": "code",
   "execution_count": 12,
   "metadata": {},
   "outputs": [
    {
     "data": {
      "text/plain": [
       "<matplotlib.axes._subplots.AxesSubplot at 0x98657b78d0>"
      ]
     },
     "execution_count": 12,
     "metadata": {},
     "output_type": "execute_result"
    },
    {
     "data": {
      "image/png": "[encoded data removed]",
      "text/plain": [
       "<Figure size 1440x720 with 2 Axes>"
      ]
     },
     "metadata": {
      "needs_background": "light"
     },
     "output_type": "display_data"
    }
   ],
   "source": [
    "#plotting the correlation matrix\n",
    "%matplotlib inline\n",
    "plt.figure(figsize = (20,10))\n",
    "sns.heatmap(Country_data.corr(),annot = True)"
   ]
  },
  {
   "cell_type": "markdown",
   "metadata": {},
   "source": [
    "- from above heatmap, we can see exports is highly correlated with import. health, exports, income,imports are highly correlated with gdpp. So, it will be treated after performing PCA.\n",
    "\n",
    "### Data Preparation\n",
    "\n",
    "####  Performing PCA on the data ( Principal Component Analysis)\n",
    "\n",
    "\n",
    "- Applying scaling to the data \n"
   ]
  },
  {
   "cell_type": "code",
   "execution_count": 13,
   "metadata": {
    "scrolled": true
   },
   "outputs": [
    {
     "name": "stderr",
     "output_type": "stream",
     "text": [
      "C:\\Users\\611806022\\AppData\\Local\\Continuum\\anaconda3\\lib\\site-packages\\sklearn\\preprocessing\\data.py:625: DataConversionWarning: Data with input dtype int64, float64 were all converted to float64 by StandardScaler.\n",
      "  return self.partial_fit(X, y)\n",
      "C:\\Users\\611806022\\AppData\\Local\\Continuum\\anaconda3\\lib\\site-packages\\sklearn\\base.py:462: DataConversionWarning: Data with input dtype int64, float64 were all converted to float64 by StandardScaler.\n",
      "  return self.fit(X, **fit_params).transform(X)\n"
     ]
    }
   ],
   "source": [
    "## First let us see if we can explain the dataset using fewer variables\n",
    "from sklearn.preprocessing import StandardScaler\n",
    "Country_data1=Country_data.drop('country',1) ## Droping string feature country name.\n",
    "standard_scaler = StandardScaler()\n",
    "Country_scaled = standard_scaler.fit_transform(Country_data1)"
   ]
  },
  {
   "cell_type": "markdown",
   "metadata": {},
   "source": [
    "- Perfoming PCA"
   ]
  },
  {
   "cell_type": "code",
   "execution_count": 14,
   "metadata": {},
   "outputs": [
    {
     "data": {
      "text/plain": [
       "PCA(copy=True, iterated_power='auto', n_components=None, random_state=42,\n",
       "  svd_solver='randomized', tol=0.0, whiten=False)"
      ]
     },
     "execution_count": 14,
     "metadata": {},
     "output_type": "execute_result"
    }
   ],
   "source": [
    "pca = PCA(svd_solver='randomized', random_state=42)\n",
    "\n",
    "\n",
    "# fiting PCA on the dataset\n",
    "pca.fit(Country_scaled)"
   ]
  },
  {
   "cell_type": "markdown",
   "metadata": {},
   "source": [
    "###### List of PCA components."
   ]
  },
  {
   "cell_type": "code",
   "execution_count": 15,
   "metadata": {},
   "outputs": [
    {
     "data": {
      "text/plain": [
       "array([[-0.31639186,  0.34288671,  0.358535  ,  0.34486492,  0.38004113,\n",
       "        -0.14308531,  0.34385651, -0.30284224,  0.39998795],\n",
       "       [ 0.47626735,  0.39731091,  0.1550529 ,  0.37078075,  0.12838448,\n",
       "         0.22126089, -0.36981973,  0.4597152 ,  0.2006241 ],\n",
       "       [-0.15001225, -0.03057367, -0.07570322, -0.07217386,  0.14576421,\n",
       "         0.94841868,  0.19675173, -0.07783431,  0.01033941],\n",
       "       [-0.14805195,  0.44942527, -0.59971228,  0.46179779, -0.15480592,\n",
       "        -0.00762798, -0.01839465, -0.21392805, -0.36477239],\n",
       "       [ 0.1019948 , -0.03853829, -0.49319984, -0.2527867 ,  0.79407469,\n",
       "        -0.13642345, -0.15404105, -0.02033568,  0.08750149],\n",
       "       [ 0.19658519, -0.03891112,  0.18069888, -0.01217988, -0.03814681,\n",
       "         0.10840284, -0.58600986, -0.75390075,  0.04538167],\n",
       "       [ 0.76126725, -0.01366973, -0.06461567,  0.02718244, -0.02311312,\n",
       "        -0.02207663,  0.58120846, -0.27314534, -0.04402264],\n",
       "       [ 0.00644411, -0.05526371,  0.43007213,  0.1311355 ,  0.3938113 ,\n",
       "        -0.00607016,  0.002966  ,  0.03429334, -0.79902242],\n",
       "       [-0.00495137, -0.71792388, -0.13034593,  0.66568664,  0.07901102,\n",
       "         0.01128137, -0.03159406,  0.02368185,  0.12846398]])"
      ]
     },
     "execution_count": 15,
     "metadata": {},
     "output_type": "execute_result"
    }
   ],
   "source": [
    "\n",
    "pca.components_"
   ]
  },
  {
   "cell_type": "markdown",
   "metadata": {},
   "source": [
    "##### Let's check the variance ratios of each features"
   ]
  },
  {
   "cell_type": "code",
   "execution_count": 16,
   "metadata": {},
   "outputs": [
    {
     "data": {
      "text/plain": [
       "array([5.89372984e-01, 1.84451685e-01, 9.91147170e-02, 6.07227801e-02,\n",
       "       3.02917253e-02, 2.45982702e-02, 9.39743701e-03, 1.55641971e-03,\n",
       "       4.93981394e-04])"
      ]
     },
     "execution_count": 16,
     "metadata": {},
     "output_type": "execute_result"
    }
   ],
   "source": [
    "\n",
    "pca.explained_variance_ratio_"
   ]
  },
  {
   "cell_type": "markdown",
   "metadata": {},
   "source": [
    "#####  Plotting the scree plot"
   ]
  },
  {
   "cell_type": "code",
   "execution_count": 17,
   "metadata": {},
   "outputs": [
    {
     "data": {
      "image/png": "[encoded data removed]",
      "text/plain": [
       "<Figure size 864x576 with 1 Axes>"
      ]
     },
     "metadata": {
      "needs_background": "light"
     },
     "output_type": "display_data"
    }
   ],
   "source": [
    "\n",
    "%matplotlib inline\n",
    "fig = plt.figure(figsize = (12,8))\n",
    "plt.plot(np.cumsum(pca.explained_variance_ratio_))\n",
    "plt.xlabel('number of components')\n",
    "plt.ylabel('cumulative explained variance')\n",
    "plt.show()"
   ]
  },
  {
   "cell_type": "markdown",
   "metadata": {},
   "source": [
    "##### From above scree plot, Around 98% of the information is being explained by 5 components.\n",
    "\n",
    "- Understanding how the original 9 variables are loaded on the principal components. It can be verified from above as well."
   ]
  },
  {
   "cell_type": "code",
   "execution_count": 18,
   "metadata": {},
   "outputs": [
    {
     "data": {
      "text/html": [
       "<div>\n",
       "<style scoped>\n",
       "    .dataframe tbody tr th:only-of-type {\n",
       "        vertical-align: middle;\n",
       "    }\n",
       "\n",
       "    .dataframe tbody tr th {\n",
       "        vertical-align: top;\n",
       "    }\n",
       "\n",
       "    .dataframe thead th {\n",
       "        text-align: right;\n",
       "    }\n",
       "</style>\n",
       "<table border=\"1\" class=\"dataframe\">\n",
       "  <thead>\n",
       "    <tr style=\"text-align: right;\">\n",
       "      <th></th>\n",
       "      <th>Feature</th>\n",
       "      <th>PC1</th>\n",
       "      <th>PC2</th>\n",
       "      <th>PC3</th>\n",
       "      <th>PC4</th>\n",
       "      <th>PC5</th>\n",
       "    </tr>\n",
       "  </thead>\n",
       "  <tbody>\n",
       "    <tr>\n",
       "      <th>0</th>\n",
       "      <td>child_mort</td>\n",
       "      <td>-0.316392</td>\n",
       "      <td>0.476267</td>\n",
       "      <td>-0.150012</td>\n",
       "      <td>-0.148052</td>\n",
       "      <td>0.101995</td>\n",
       "    </tr>\n",
       "    <tr>\n",
       "      <th>1</th>\n",
       "      <td>exports</td>\n",
       "      <td>0.342887</td>\n",
       "      <td>0.397311</td>\n",
       "      <td>-0.030574</td>\n",
       "      <td>0.449425</td>\n",
       "      <td>-0.038538</td>\n",
       "    </tr>\n",
       "    <tr>\n",
       "      <th>2</th>\n",
       "      <td>health</td>\n",
       "      <td>0.358535</td>\n",
       "      <td>0.155053</td>\n",
       "      <td>-0.075703</td>\n",
       "      <td>-0.599712</td>\n",
       "      <td>-0.493200</td>\n",
       "    </tr>\n",
       "    <tr>\n",
       "      <th>3</th>\n",
       "      <td>imports</td>\n",
       "      <td>0.344865</td>\n",
       "      <td>0.370781</td>\n",
       "      <td>-0.072174</td>\n",
       "      <td>0.461798</td>\n",
       "      <td>-0.252787</td>\n",
       "    </tr>\n",
       "    <tr>\n",
       "      <th>4</th>\n",
       "      <td>income</td>\n",
       "      <td>0.380041</td>\n",
       "      <td>0.128384</td>\n",
       "      <td>0.145764</td>\n",
       "      <td>-0.154806</td>\n",
       "      <td>0.794075</td>\n",
       "    </tr>\n",
       "    <tr>\n",
       "      <th>5</th>\n",
       "      <td>inflation</td>\n",
       "      <td>-0.143085</td>\n",
       "      <td>0.221261</td>\n",
       "      <td>0.948419</td>\n",
       "      <td>-0.007628</td>\n",
       "      <td>-0.136423</td>\n",
       "    </tr>\n",
       "    <tr>\n",
       "      <th>6</th>\n",
       "      <td>life_expec</td>\n",
       "      <td>0.343857</td>\n",
       "      <td>-0.369820</td>\n",
       "      <td>0.196752</td>\n",
       "      <td>-0.018395</td>\n",
       "      <td>-0.154041</td>\n",
       "    </tr>\n",
       "    <tr>\n",
       "      <th>7</th>\n",
       "      <td>total_fer</td>\n",
       "      <td>-0.302842</td>\n",
       "      <td>0.459715</td>\n",
       "      <td>-0.077834</td>\n",
       "      <td>-0.213928</td>\n",
       "      <td>-0.020336</td>\n",
       "    </tr>\n",
       "    <tr>\n",
       "      <th>8</th>\n",
       "      <td>gdpp</td>\n",
       "      <td>0.399988</td>\n",
       "      <td>0.200624</td>\n",
       "      <td>0.010339</td>\n",
       "      <td>-0.364772</td>\n",
       "      <td>0.087501</td>\n",
       "    </tr>\n",
       "  </tbody>\n",
       "</table>\n",
       "</div>"
      ],
      "text/plain": [
       "      Feature       PC1       PC2       PC3       PC4       PC5\n",
       "0  child_mort -0.316392  0.476267 -0.150012 -0.148052  0.101995\n",
       "1     exports  0.342887  0.397311 -0.030574  0.449425 -0.038538\n",
       "2      health  0.358535  0.155053 -0.075703 -0.599712 -0.493200\n",
       "3     imports  0.344865  0.370781 -0.072174  0.461798 -0.252787\n",
       "4      income  0.380041  0.128384  0.145764 -0.154806  0.794075\n",
       "5   inflation -0.143085  0.221261  0.948419 -0.007628 -0.136423\n",
       "6  life_expec  0.343857 -0.369820  0.196752 -0.018395 -0.154041\n",
       "7   total_fer -0.302842  0.459715 -0.077834 -0.213928 -0.020336\n",
       "8        gdpp  0.399988  0.200624  0.010339 -0.364772  0.087501"
      ]
     },
     "execution_count": 18,
     "metadata": {},
     "output_type": "execute_result"
    }
   ],
   "source": [
    "\n",
    "colnames = list(Country_data1.columns)\n",
    "pcs_df = pd.DataFrame({ 'Feature':colnames,'PC1':pca.components_[0],'PC2':pca.components_[1],'PC3':pca.components_[2],\n",
    "                      'PC4':pca.components_[3],'PC5':pca.components_[4]})\n",
    "pcs_df"
   ]
  },
  {
   "cell_type": "markdown",
   "metadata": {},
   "source": [
    "#### Let's plot the principal components and try to make sense of them\n",
    "- We'll plot original features on the first 2 principal components as axes\n",
    "\n",
    "- Let's plot them to visualise how these features are loaded"
   ]
  },
  {
   "cell_type": "code",
   "execution_count": 19,
   "metadata": {},
   "outputs": [
    {
     "data": {
      "image/png": "[encoded data removed]",
      "text/plain": [
       "<Figure size 576x576 with 1 Axes>"
      ]
     },
     "metadata": {
      "needs_background": "light"
     },
     "output_type": "display_data"
    }
   ],
   "source": [
    "\n",
    "%matplotlib inline\n",
    "fig = plt.figure(figsize = (8,8))\n",
    "plt.scatter(pcs_df.PC1, pcs_df.PC2)\n",
    "plt.xlabel('Principal Component 1')\n",
    "plt.ylabel('Principal Component 2')\n",
    "for i, txt in enumerate(pcs_df.Feature):\n",
    "    plt.annotate(txt, (pcs_df.PC1[i],pcs_df.PC2[i]))\n",
    "plt.tight_layout()\n",
    "plt.show()"
   ]
  },
  {
   "cell_type": "markdown",
   "metadata": {},
   "source": [
    "From the above plot, we can see the first component is in the dirction where the imports, exports, gdpp,income, health,life_expec are heavy and second component is in the direction where child_mort , total_fer is more.\n",
    "\n",
    " - These variables also have the highest of the loadings\n",
    " \n",
    " \n",
    " #### Performing Incremental PCA"
   ]
  },
  {
   "cell_type": "code",
   "execution_count": 20,
   "metadata": {},
   "outputs": [],
   "source": [
    "#Finally let's go ahead and do dimenstionality reduction using the four Principal Components\n",
    "from sklearn.decomposition import IncrementalPCA\n",
    "pca_final = IncrementalPCA(n_components=5)"
   ]
  },
  {
   "cell_type": "code",
   "execution_count": 21,
   "metadata": {},
   "outputs": [
    {
     "data": {
      "text/plain": [
       "(167, 5)"
      ]
     },
     "execution_count": 21,
     "metadata": {},
     "output_type": "execute_result"
    }
   ],
   "source": [
    "df_pca = pca_final.fit_transform(Country_scaled)\n",
    "df_pca.shape"
   ]
  },
  {
   "cell_type": "code",
   "execution_count": 22,
   "metadata": {
    "scrolled": true
   },
   "outputs": [
    {
     "data": {
      "text/plain": [
       "array([[-2.63633780e+00,  1.47225984e+00, -5.48330498e-01,\n",
       "         2.38302128e-01,  6.10029273e-02],\n",
       "       [-2.37829162e-02, -1.43553539e+00, -1.54701978e-02,\n",
       "        -4.28278354e-01, -1.54305141e-01],\n",
       "       [-4.59228259e-01, -6.79704711e-01,  9.56536815e-01,\n",
       "        -1.93531315e-01, -9.21275020e-02],\n",
       "       [-2.72347181e+00,  2.17496646e+00,  5.97396852e-01,\n",
       "         4.17695067e-01,  5.66944470e-02],\n",
       "       [ 6.49103499e-01, -1.02640436e+00, -2.58645163e-01,\n",
       "        -2.76882415e-01,  7.70873177e-02],\n",
       "       [ 3.59501355e-02, -6.85691881e-01,  1.46841882e+00,\n",
       "         4.60321765e-02, -9.31926507e-02],\n",
       "       [-3.34457119e-01, -1.27861656e+00,  1.90805480e-01,\n",
       "        -4.77018594e-01, -2.53557140e-01],\n",
       "       [ 3.18403890e+00, -2.39407303e-01, -1.31692434e-01,\n",
       "         1.67437937e+00,  8.73676249e-02],\n",
       "       [ 3.81774167e+00,  2.62449000e-01, -2.58554292e-01,\n",
       "         1.02465750e+00, -2.99611118e-01],\n",
       "       [-4.68004699e-01, -4.93948233e-01,  6.11513868e-01,\n",
       "        -2.76290913e-01,  1.15536307e-01],\n",
       "       [ 1.49946356e+00, -4.25403860e-01, -5.43188833e-01,\n",
       "         2.54181402e-01, -1.09091167e-01],\n",
       "       [ 1.47143260e+00, -3.26326702e-01,  3.97743640e-01,\n",
       "        -2.17918978e-01,  7.96269292e-01],\n",
       "       [-1.01526893e+00, -7.13953680e-01, -1.02949577e-01,\n",
       "        -3.54865875e-01, -2.54570490e-01],\n",
       "       [ 8.44643313e-01, -1.00952007e+00, -4.11578573e-01,\n",
       "        -1.16555146e-01, -2.02065607e-01],\n",
       "       [-1.51885284e-02, -9.86231378e-01,  8.96114083e-01,\n",
       "        -5.13359668e-01, -4.67369769e-02],\n",
       "       [ 3.96103473e+00,  8.37822447e-01, -2.71866280e-01,\n",
       "         3.11797667e-01, -5.33685628e-01],\n",
       "       [-4.03753630e-01, -9.23972570e-01, -5.05497008e-01,\n",
       "        -3.55780316e-01, -9.31953610e-02],\n",
       "       [-2.36423532e+00,  1.17352908e+00, -1.25074092e+00,\n",
       "         2.42826717e-01,  1.49385935e-01],\n",
       "       [-7.15991977e-01, -7.70400643e-01, -1.27548222e-01,\n",
       "        -3.44813442e-01, -1.49521165e-01],\n",
       "       [-1.01873279e+00, -4.29274420e-01,  5.23464370e-02,\n",
       "        -1.92257229e-01, -1.65402287e-01],\n",
       "       [ 2.51255457e-01, -1.70010208e+00, -2.41858936e-01,\n",
       "        -4.34006184e-01, -2.27721408e-01],\n",
       "       [-1.13016378e+00,  4.02021948e-01, -2.25403431e-01,\n",
       "        -1.41536965e-01,  1.97822002e-01],\n",
       "       [ 1.65858523e-01, -1.01886132e+00,  2.83248270e-01,\n",
       "         3.78576888e-02, -1.17450941e-01],\n",
       "       [ 2.69856192e+00,  3.74733380e-01,  1.56233291e+00,\n",
       "         1.46604773e-02,  2.36625226e+00],\n",
       "       [ 2.79686469e-01, -1.32232123e+00, -3.23306394e-01,\n",
       "        -4.28927378e-01,  5.42423297e-02],\n",
       "       [-2.75209021e+00,  1.66724052e+00, -8.50067229e-01,\n",
       "         3.27684263e-01,  1.27909639e-01],\n",
       "       [-2.76318275e+00,  1.62858320e+00, -2.99614669e-01,\n",
       "         3.16131409e-01, -3.67928539e-03],\n",
       "       [-1.17989039e+00, -4.93762242e-01, -5.69754818e-01,\n",
       "        -3.19317842e-01, -1.45094124e-01],\n",
       "       [-2.43945813e+00,  1.29052537e+00, -1.22648379e+00,\n",
       "         1.98708904e-01,  2.02107270e-01],\n",
       "       [ 3.39718173e+00, -6.60646709e-02, -4.76429156e-02,\n",
       "         1.62247985e+00, -2.91629221e-01],\n",
       "       [-5.24266414e-01, -9.80279388e-01, -5.73835422e-01,\n",
       "        -3.46541359e-01, -1.37144634e-01],\n",
       "       [-3.23809665e+00,  2.18421586e+00, -1.60075184e+00,\n",
       "         2.62970334e-01,  3.51212423e-01],\n",
       "       [-3.18604011e+00,  2.35971082e+00, -1.08276050e+00,\n",
       "         5.30972452e-01,  2.66734617e-01],\n",
       "       [ 6.91419616e-01, -1.11761495e+00,  4.94528749e-01,\n",
       "        -7.07726286e-02, -6.22963669e-02],\n",
       "       [-1.30373674e-01, -1.36558403e+00,  1.78344242e-01,\n",
       "        -4.23151036e-01, -1.57646292e-01],\n",
       "       [-1.48910540e-02, -1.29472473e+00, -9.19162432e-02,\n",
       "        -2.18015315e-01, -1.12431319e-01],\n",
       "       [-1.94929834e+00,  6.05933955e-01, -7.78443480e-01,\n",
       "         9.98253061e-02, -3.29755349e-02],\n",
       "       [-3.11589805e+00,  2.17194637e+00,  3.59768430e-01,\n",
       "         4.31400702e-01, -6.81928359e-02],\n",
       "       [-2.04824110e+00,  1.08616029e+00,  7.19239955e-01,\n",
       "         3.20281922e-02, -1.10849442e-01],\n",
       "       [ 4.30050318e-01, -1.37732068e+00,  2.63130401e-01,\n",
       "        -1.37670816e-01, -2.69840569e-01],\n",
       "       [-2.57289374e+00,  1.50015907e+00, -9.55725062e-01,\n",
       "         2.15847874e-01,  1.75420425e-01],\n",
       "       [ 8.45886963e-01, -1.26414490e+00, -2.70247877e-01,\n",
       "        -1.70011939e-01,  7.05220270e-02],\n",
       "       [ 2.31375359e+00, -5.50775615e-01, -6.90122204e-02,\n",
       "        -1.41129173e-01,  1.89212689e-01],\n",
       "       [ 1.67439409e+00, -8.68372925e-01, -4.41958470e-01,\n",
       "        -2.60272214e-01,  1.55603717e-01],\n",
       "       [ 4.37874567e+00,  9.28095773e-01, -1.61887310e-01,\n",
       "         1.59496586e+00, -6.58337876e-01],\n",
       "       [-3.68475106e-01, -8.14995033e-01, -7.67786752e-02,\n",
       "        -1.75366875e-01, -3.27086765e-02],\n",
       "       [-3.03979341e-01, -9.77017260e-01,  1.69652873e-01,\n",
       "        -1.85932639e-01, -1.85512994e-01],\n",
       "       [-8.37625700e-01, -5.32583166e-01,  2.48087127e-01,\n",
       "        -1.99860621e-01, -2.38338653e-02],\n",
       "       [-3.37888814e-01, -1.22054410e+00, -2.85673012e-01,\n",
       "        -3.66907331e-01, -1.61428919e-01],\n",
       "       [-1.05344224e+00,  2.70069088e+00,  1.04827820e+00,\n",
       "         3.17983365e-01,  8.15992627e-01],\n",
       "       [-1.94891730e+00,  4.92318874e-01, -3.79818143e-02,\n",
       "        -3.29136431e-02, -1.53073070e-01],\n",
       "       [ 1.06461155e+00, -9.26815010e-01, -2.05893536e-01,\n",
       "        -4.67821366e-01,  1.06812861e-01],\n",
       "       [-7.63406954e-01, -5.82307178e-01, -3.78052339e-01,\n",
       "        -3.87646163e-01, -5.99801315e-02],\n",
       "       [ 3.20372425e+00,  2.39238089e-03, -2.81518428e-01,\n",
       "         1.00651905e+00, -3.30231613e-02],\n",
       "       [ 2.89490551e+00, -2.98425520e-01, -2.14798171e-01,\n",
       "         1.51748060e+00, -2.43477366e-01],\n",
       "       [-1.28221066e+00,  8.52033851e-01,  5.16413776e-01,\n",
       "         8.34204768e-02,  2.69032383e-01],\n",
       "       [-2.10476044e+00,  8.25478462e-01, -7.66035704e-01,\n",
       "         2.23241341e-01, -2.79954611e-03],\n",
       "       [-3.62277192e-01, -1.16847784e+00,  2.36606264e-01,\n",
       "        -4.10071524e-01, -2.97300202e-01],\n",
       "       [ 3.30170785e+00, -1.55398559e-01, -2.40857511e-01,\n",
       "         1.16453092e+00, -2.03114253e-01],\n",
       "       [-2.00264134e+00,  7.50936528e-01,  3.74269244e-01,\n",
       "         1.46711546e-03, -1.50877994e-01],\n",
       "       [ 1.93154936e+00, -1.01763072e+00, -2.00726950e-01,\n",
       "         6.20709629e-01, -5.62120549e-02],\n",
       "       [-8.62260160e-02, -1.04001774e+00, -5.12251148e-01,\n",
       "        -3.09421917e-01, -2.51625584e-02],\n",
       "       [-8.58362476e-01, -5.37487549e-01, -2.43963280e-01,\n",
       "        -1.55037851e-01, -1.01340554e-01],\n",
       "       [-2.71347417e+00,  1.61553187e+00,  4.07241905e-02,\n",
       "         2.28763143e-01, -4.59796014e-02],\n",
       "       [-2.60886003e+00,  1.40913052e+00, -1.19555042e+00,\n",
       "         1.82710861e-01,  1.70777021e-01],\n",
       "       [-9.33046598e-01, -4.33130944e-01, -2.99677570e-01,\n",
       "        -3.60298748e-01, -1.17465159e-01],\n",
       "       [-3.93954022e+00,  3.04850935e+00, -1.74750175e+00,\n",
       "         9.19213202e-02,  5.63375781e-01],\n",
       "       [ 1.05100887e+00, -9.95450937e-01, -1.73020374e-01,\n",
       "        -5.38124076e-01,  5.85555270e-02],\n",
       "       [ 3.10151692e+00,  1.68439475e-01,  1.92851012e-01,\n",
       "         7.75542077e-01, -1.65966782e-01],\n",
       "       [-1.26575408e+00, -2.73511889e-01, -6.50739617e-02,\n",
       "        -2.81430294e-01, -1.24551969e-01],\n",
       "       [-8.43456800e-01, -5.68292256e-01,  7.15274717e-01,\n",
       "        -3.09809664e-01, -1.52656061e-01],\n",
       "       [-7.96066480e-02, -9.75349727e-01,  1.01388038e+00,\n",
       "        -2.67545815e-01,  3.35944183e-02],\n",
       "       [-1.19807283e+00,  3.63927496e-01,  6.66187606e-01,\n",
       "         1.11568331e-01,  3.59200374e-02],\n",
       "       [ 4.66041154e+00,  1.40214823e+00, -7.54224188e-01,\n",
       "        -3.34533616e-01, -4.09162441e-01],\n",
       "       [ 1.78420908e+00, -3.97292536e-01, -1.54209703e-01,\n",
       "         6.15361962e-01,  9.20536816e-02],\n",
       "       [ 2.55508731e+00, -7.70212072e-01, -1.80859943e-01,\n",
       "         9.35171313e-01,  9.05428564e-02],\n",
       "       [-2.94312124e-01, -1.07627971e+00,  3.81180616e-01,\n",
       "        -3.76794519e-01, -2.59980714e-01],\n",
       "       [ 2.86196065e+00, -8.68471054e-01, -3.59774606e-01,\n",
       "         1.54440892e+00,  6.59731677e-03],\n",
       "       [-5.22882864e-01, -6.43525977e-01,  1.97151788e-01,\n",
       "        -1.36745303e-01, -1.61433174e-01],\n",
       "       [-3.57503427e-01, -2.24449690e-01,  1.16356214e+00,\n",
       "        -1.89155208e-01,  1.78226287e-01],\n",
       "       [-1.73719248e+00,  2.82650209e-01, -8.78821464e-01,\n",
       "        -3.93438483e-02,  4.47947653e-03],\n",
       "       [-1.66730589e+00,  2.35865844e-01, -9.64390178e-01,\n",
       "        -1.06889831e-01, -5.69015051e-02],\n",
       "       [ 2.78337904e+00,  4.15724598e-01,  1.01849013e+00,\n",
       "         5.06528652e-03,  2.18968887e+00],\n",
       "       [-1.09212787e+00, -5.48887175e-01,  1.46669651e-01,\n",
       "        -3.12851671e-01, -2.88585249e-01],\n",
       "       [-1.63783081e+00,  2.40206118e-01, -2.06802129e-01,\n",
       "        -1.63138364e-01, -5.76327901e-02],\n",
       "       [ 6.65798534e-01, -1.21006884e+00, -4.94995984e-01,\n",
       "        -4.20664301e-01,  9.33349516e-02],\n",
       "       [ 6.46278323e-01, -1.50076877e+00, -2.80115299e-01,\n",
       "        -3.46461285e-01, -2.41036295e-02],\n",
       "       [-2.43444700e+00,  1.16414823e+00, -1.14081762e+00,\n",
       "        -1.62731806e-01,  1.74770123e-01],\n",
       "       [-2.25836383e+00,  9.34606847e-01, -7.68179034e-01,\n",
       "         1.16935969e-01, -1.13709263e-02],\n",
       "       [ 4.91704980e-01, -5.20736573e-01,  9.33630620e-01,\n",
       "        -2.39774320e-01,  4.72335725e-01],\n",
       "       [ 7.77137750e-01, -1.00529350e+00, -2.00463348e-01,\n",
       "        -4.41043365e-01,  1.05255664e-01],\n",
       "       [ 1.26348745e+01,  8.22317047e+00, -6.19223710e-01,\n",
       "        -4.39746865e+00, -1.81607581e+00],\n",
       "       [ 8.27302346e-02, -1.46879490e+00, -2.47851794e-01,\n",
       "        -4.89207753e-01, -7.70191359e-02],\n",
       "       [-1.99722667e+00,  5.54216753e-01, -3.37354995e-01,\n",
       "        -2.52910269e-02, -9.26476620e-02],\n",
       "       [-2.70998097e+00,  1.49829717e+00, -3.53837915e-01,\n",
       "         1.42369932e-01,  2.41446790e-02],\n",
       "       [ 4.25940891e-01, -8.49832807e-01,  2.51800683e-01,\n",
       "        -4.88192076e-01,  1.79336439e-01],\n",
       "       [ 2.29724910e-01, -1.18437407e+00, -1.65423115e-01,\n",
       "        -4.10236679e-01, -2.11761585e-01],\n",
       "       [-2.94467165e+00,  2.01452740e+00, -1.14762289e+00,\n",
       "         4.99753322e-01,  2.29804918e-01],\n",
       "       [ 2.63276230e+00,  7.51261919e-02, -5.51355981e-02,\n",
       "        -1.22983276e+00, -4.70955248e-01],\n",
       "       [-2.11493639e+00,  1.04302904e+00,  5.88903864e-01,\n",
       "         1.93108337e-01, -1.71138030e-01],\n",
       "       [ 3.10564256e-01, -1.18470561e+00, -3.51255666e-01,\n",
       "        -4.47429494e-01,  6.93934059e-02],\n",
       "       [-1.11608440e+00, -2.13290317e-01, -5.54543655e-01,\n",
       "        -1.37919694e-01, -2.18028247e-01],\n",
       "       [-5.13324993e-01, -1.23548510e+00,  4.14999557e-01,\n",
       "        -5.78427675e-01, -4.07218493e-01],\n",
       "       [-1.27133811e+00,  7.53295919e-02,  2.79287904e+00,\n",
       "        -3.23060343e-01, -5.12643453e-01],\n",
       "       [ 3.54765408e-01, -1.40887207e+00, -2.37376593e-01,\n",
       "        -3.52638174e-01, -8.27232513e-02],\n",
       "       [-5.47641444e-01, -9.80530704e-01, -5.23472234e-01,\n",
       "        -3.06564886e-01, -1.07771172e-01],\n",
       "       [-2.73118909e+00,  1.54739493e+00, -7.78918224e-01,\n",
       "         2.07555619e-01,  9.64534343e-02],\n",
       "       [-1.26501552e+00, -3.58054869e-01, -2.39772783e-01,\n",
       "        -2.97384982e-01, -1.13776653e-01],\n",
       "       [-1.33523177e+00,  4.16923264e-01, -7.55851404e-01,\n",
       "        -1.17977319e-01,  1.26253836e-01],\n",
       "       [-1.25409822e+00, -4.07664374e-01,  5.58918850e-01,\n",
       "        -3.23242620e-01, -3.55080864e-01],\n",
       "       [ 4.49565181e+00,  9.94097780e-01, -3.58735177e-01,\n",
       "         8.49291127e-01, -6.17332346e-01],\n",
       "       [ 2.20867042e+00, -4.55859587e-01,  3.21815174e-02,\n",
       "         9.67164780e-01, -8.76207180e-02],\n",
       "       [-3.06116318e+00,  2.10846634e+00, -1.32968121e+00,\n",
       "         5.82765045e-01,  2.27999744e-01],\n",
       "       [-3.93456168e+00,  3.81988863e+00,  7.92861207e+00,\n",
       "         5.52149869e-01, -1.07663082e+00],\n",
       "       [ 5.84824852e+00,  1.66835778e+00,  1.92655378e-01,\n",
       "         2.74877619e+00, -2.37380799e-01],\n",
       "       [ 1.05212208e+00, -2.90598741e-02,  1.15143375e+00,\n",
       "        -1.41152377e-01,  1.06781401e+00],\n",
       "       [-1.86230310e+00,  5.67797841e-01, -1.02646031e-01,\n",
       "         3.69264309e-04, -1.86381034e-02],\n",
       "       [ 3.01947222e-01, -8.81426331e-01, -2.18071880e-01,\n",
       "        -2.70327222e-01, -5.37293348e-02],\n",
       "       [-4.89031677e-01, -9.20478290e-01, -2.00688224e-02,\n",
       "        -3.11559961e-01, -1.85382965e-01],\n",
       "       [-1.81278810e-01, -1.16601052e+00,  7.29622399e-02,\n",
       "        -2.40270788e-01, -1.26234830e-01],\n",
       "       [-9.29788741e-01, -6.01468566e-01, -3.54401565e-01,\n",
       "        -2.63765780e-01, -9.13975542e-02],\n",
       "       [ 8.54391522e-01, -1.28768975e+00, -1.73107872e-01,\n",
       "        -2.39458354e-01,  1.45713222e-01],\n",
       "       [ 1.76011692e+00, -1.08617020e+00, -2.15437910e-01,\n",
       "         3.83998350e-01, -6.89326441e-02],\n",
       "       [ 5.13206420e+00,  1.46013127e+00,  1.01202344e+00,\n",
       "         3.31412654e-01,  4.25254951e+00],\n",
       "       [ 2.82867277e-01, -1.24376720e+00, -8.97428095e-02,\n",
       "        -3.53876101e-01,  1.51892523e-01],\n",
       "       [ 1.41208703e-01, -7.97501443e-01,  8.22572515e-01,\n",
       "        -2.47617363e-01,  2.86445171e-01],\n",
       "       [-1.74824014e+00,  2.59649035e-01, -8.14183618e-01,\n",
       "        -5.74060509e-03, -6.61184964e-02],\n",
       "       [-8.49130691e-01, -4.95132008e-01, -5.50451088e-01,\n",
       "        -7.63963321e-02, -1.32344128e-01],\n",
       "       [ 9.12204637e-01,  3.19017843e-02,  1.25716307e+00,\n",
       "         1.06752293e-01,  1.03971689e+00],\n",
       "       [-1.86224603e+00,  4.94968265e-01, -9.31382733e-01,\n",
       "         8.49049825e-02,  1.12058178e-02],\n",
       "       [ 1.85066383e-01, -1.43378580e+00,  1.27939972e-01,\n",
       "        -3.90974283e-01, -1.48806137e-01],\n",
       "       [ 6.67431523e-01, -7.69822892e-01, -8.63953620e-01,\n",
       "        -6.80945008e-01,  2.44398732e-01],\n",
       "       [-3.22480450e+00,  2.32261358e+00, -1.11519642e-01,\n",
       "         3.58402757e-01,  7.71093715e-02],\n",
       "       [ 6.58396483e+00,  2.91519719e+00, -3.22629151e-01,\n",
       "        -3.55377517e+00,  3.36902441e-01],\n",
       "       [ 1.40979941e+00, -7.90340525e-01, -3.45099874e-01,\n",
       "        -3.85471192e-01,  2.94884498e-02],\n",
       "       [ 2.04142058e+00, -7.26673067e-01, -3.97472350e-01,\n",
       "        -6.51017262e-02, -5.29775017e-02],\n",
       "       [-1.51836951e+00,  1.28375272e-02, -3.53271143e-01,\n",
       "        -1.69333580e-01, -1.84201047e-01],\n",
       "       [-1.17856693e+00,  3.57243873e-01, -5.13738769e-01,\n",
       "        -8.81210715e-02,  2.05570787e-01],\n",
       "       [ 1.75620599e+00, -1.02255881e+00,  7.27930434e-02,\n",
       "        -1.16541557e-01,  2.11397211e-01],\n",
       "       [ 2.24496442e+00, -1.00179335e+00, -1.86866756e-01,\n",
       "         7.11404753e-01,  6.13161265e-02],\n",
       "       [-5.46925252e-01, -9.53848040e-01,  1.58729852e+00,\n",
       "        -3.91224075e-01, -3.65525598e-01],\n",
       "       [-2.26419639e-01, -9.87630320e-01, -1.67061993e-01,\n",
       "        -3.89318638e-01, -9.54597558e-02],\n",
       "       [-2.01735186e+00,  8.47894830e-01,  6.96611807e-01,\n",
       "         1.50028284e-01, -2.01538568e-01],\n",
       "       [-1.98244111e-01, -5.67999113e-01,  3.51582150e-02,\n",
       "        -2.00601965e-01,  1.57498578e-02],\n",
       "       [ 3.80832892e+00,  3.86351829e-01, -2.37049798e-01,\n",
       "         1.19388304e+00, -2.20076236e-01],\n",
       "       [ 6.26604980e+00,  1.85834279e+00, -4.36016170e-01,\n",
       "         1.71322774e+00, -9.45591915e-01],\n",
       "       [-1.37697536e+00, -1.67381044e-01,  2.84455654e-01,\n",
       "        -1.65781136e-01, -2.92793028e-01],\n",
       "       [-2.27787934e+00,  1.00711959e+00, -4.04580608e-01,\n",
       "         1.42103366e-01, -6.21739128e-03],\n",
       "       [ 1.73549043e-01, -1.40146991e+00, -1.27262445e-02,\n",
       "        -5.24677391e-01, -1.61539139e-02],\n",
       "       [-2.00790902e+00,  1.08320446e+00,  1.38086173e+00,\n",
       "         4.42455510e-01, -4.62284963e-01],\n",
       "       [-2.24396893e+00,  9.06388512e-01, -1.19179873e+00,\n",
       "         8.49684022e-02,  9.27280869e-02],\n",
       "       [-8.58227997e-01, -5.46646984e-01, -3.82174827e-01,\n",
       "        -1.62538736e-01, -1.68337161e-01],\n",
       "       [-6.25865971e-02, -1.28465363e+00, -9.06319126e-02,\n",
       "        -3.81933807e-01, -1.19530796e-01],\n",
       "       [ 3.28152036e-01, -1.06737313e+00,  2.57679451e-01,\n",
       "        -5.35884981e-02,  5.09058035e-02],\n",
       "       [-8.95280414e-01, -1.89937456e-01, -6.24749768e-01,\n",
       "        -2.55191732e-01,  1.53183713e-01],\n",
       "       [-2.62168238e+00,  1.46240664e+00, -4.13947578e-01,\n",
       "         2.71157487e-01,  2.57064420e-02],\n",
       "       [-3.73654908e-01, -1.16196499e+00,  6.75665703e-01,\n",
       "        -5.29782804e-01, -2.99318689e-01],\n",
       "       [ 2.68993109e+00,  5.40482257e-01,  9.23005162e-01,\n",
       "        -4.84674823e-01,  1.14007149e+00],\n",
       "       [ 2.60725776e+00, -3.67546119e-01, -1.53902620e-01,\n",
       "         1.06504360e+00, -1.07489540e-02],\n",
       "       [ 3.78619060e+00,  1.41649993e-01, -2.97774223e-01,\n",
       "         3.29124818e+00, -5.38677048e-01],\n",
       "       [ 4.55607220e-01, -1.09932638e+00,  4.51179027e-02,\n",
       "        -1.96618883e-02, -2.90938249e-02],\n",
       "       [-1.03229566e+00, -5.67502483e-01,  7.64642172e-01,\n",
       "        -3.64002038e-01, -3.32114480e-01],\n",
       "       [-1.17560608e+00, -2.81249100e-01, -6.63618938e-01,\n",
       "        -2.58950482e-01, -1.33250526e-01],\n",
       "       [-3.14504831e-01, -1.91426333e-02,  3.68085401e+00,\n",
       "         1.67724380e-02, -4.75066116e-01],\n",
       "       [-5.94560306e-01, -1.08412972e+00,  5.28668085e-01,\n",
       "        -4.78067262e-01, -3.73131976e-01],\n",
       "       [-1.80283959e+00,  5.84669129e-01,  1.17955134e+00,\n",
       "         5.15095885e-02, -2.74607707e-01],\n",
       "       [-2.64560383e+00,  1.57191703e+00, -1.69911274e-01,\n",
       "         1.61734999e-01,  7.70921275e-02]])"
      ]
     },
     "execution_count": 22,
     "metadata": {},
     "output_type": "execute_result"
    }
   ],
   "source": [
    "df_pca"
   ]
  },
  {
   "cell_type": "markdown",
   "metadata": {},
   "source": [
    "#### Creating a transpose so that the each column is properly arranged"
   ]
  },
  {
   "cell_type": "code",
   "execution_count": 23,
   "metadata": {},
   "outputs": [],
   "source": [
    "\n",
    "pc = np.transpose(df_pca)"
   ]
  },
  {
   "cell_type": "markdown",
   "metadata": {},
   "source": [
    "- Creating correlation matrix for the principal components"
   ]
  },
  {
   "cell_type": "code",
   "execution_count": 24,
   "metadata": {},
   "outputs": [],
   "source": [
    "\n",
    "corrmat = np.corrcoef(pc)"
   ]
  },
  {
   "cell_type": "markdown",
   "metadata": {},
   "source": [
    "- Plotting the correlation matrix of the principal components"
   ]
  },
  {
   "cell_type": "code",
   "execution_count": 25,
   "metadata": {},
   "outputs": [
    {
     "data": {
      "text/plain": [
       "<matplotlib.axes._subplots.AxesSubplot at 0x9865ab7748>"
      ]
     },
     "execution_count": 25,
     "metadata": {},
     "output_type": "execute_result"
    },
    {
     "data": {
      "image/png": "[encoded data removed]",
      "text/plain": [
       "<Figure size 1440x720 with 2 Axes>"
      ]
     },
     "metadata": {
      "needs_background": "light"
     },
     "output_type": "display_data"
    }
   ],
   "source": [
    "\n",
    "%matplotlib inline\n",
    "plt.figure(figsize = (20,10))\n",
    "sns.heatmap(corrmat,annot = True)"
   ]
  },
  {
   "cell_type": "markdown",
   "metadata": {},
   "source": [
    "- From above heat map, we can see all the compnents are not correlated to each other.\n",
    "\n",
    "##### Creating the dataframe of all 5 principal components"
   ]
  },
  {
   "cell_type": "code",
   "execution_count": 26,
   "metadata": {},
   "outputs": [],
   "source": [
    "pcs_df2 = pd.DataFrame({'PC1':pc[0],'PC2':pc[1],'PC3':pc[2],'PC4':pc[3],'PC5':pc[4]})"
   ]
  },
  {
   "cell_type": "markdown",
   "metadata": {},
   "source": [
    "##### Checking outliers of all the principal complnents"
   ]
  },
  {
   "cell_type": "code",
   "execution_count": 27,
   "metadata": {},
   "outputs": [
    {
     "data": {
      "image/png": "[encoded data removed]",
      "text/plain": [
       "<Figure size 864x576 with 1 Axes>"
      ]
     },
     "metadata": {
      "needs_background": "light"
     },
     "output_type": "display_data"
    }
   ],
   "source": [
    "fig = plt.figure(figsize = (12,8))\n",
    "sns.boxplot(data=pcs_df2)\n",
    "plt.show()"
   ]
  },
  {
   "cell_type": "markdown",
   "metadata": {},
   "source": [
    "##### From above boxplots, we can see the Outliers in the data, So we will do the outlier treatment below"
   ]
  },
  {
   "cell_type": "code",
   "execution_count": 28,
   "metadata": {},
   "outputs": [
    {
     "data": {
      "text/plain": [
       "(167, 5)"
      ]
     },
     "execution_count": 28,
     "metadata": {},
     "output_type": "execute_result"
    }
   ],
   "source": [
    "pcs_df2.shape"
   ]
  },
  {
   "cell_type": "code",
   "execution_count": 29,
   "metadata": {},
   "outputs": [
    {
     "data": {
      "text/html": [
       "<div>\n",
       "<style scoped>\n",
       "    .dataframe tbody tr th:only-of-type {\n",
       "        vertical-align: middle;\n",
       "    }\n",
       "\n",
       "    .dataframe tbody tr th {\n",
       "        vertical-align: top;\n",
       "    }\n",
       "\n",
       "    .dataframe thead th {\n",
       "        text-align: right;\n",
       "    }\n",
       "</style>\n",
       "<table border=\"1\" class=\"dataframe\">\n",
       "  <thead>\n",
       "    <tr style=\"text-align: right;\">\n",
       "      <th></th>\n",
       "      <th>PC1</th>\n",
       "      <th>PC2</th>\n",
       "      <th>PC3</th>\n",
       "      <th>PC4</th>\n",
       "      <th>PC5</th>\n",
       "    </tr>\n",
       "  </thead>\n",
       "  <tbody>\n",
       "    <tr>\n",
       "      <th>0</th>\n",
       "      <td>-2.636338</td>\n",
       "      <td>1.472260</td>\n",
       "      <td>-0.548330</td>\n",
       "      <td>0.238302</td>\n",
       "      <td>0.061003</td>\n",
       "    </tr>\n",
       "    <tr>\n",
       "      <th>1</th>\n",
       "      <td>-0.023783</td>\n",
       "      <td>-1.435535</td>\n",
       "      <td>-0.015470</td>\n",
       "      <td>-0.428278</td>\n",
       "      <td>-0.154305</td>\n",
       "    </tr>\n",
       "    <tr>\n",
       "      <th>2</th>\n",
       "      <td>-0.459228</td>\n",
       "      <td>-0.679705</td>\n",
       "      <td>0.956537</td>\n",
       "      <td>-0.193531</td>\n",
       "      <td>-0.092128</td>\n",
       "    </tr>\n",
       "    <tr>\n",
       "      <th>3</th>\n",
       "      <td>-2.723472</td>\n",
       "      <td>2.174966</td>\n",
       "      <td>0.597397</td>\n",
       "      <td>0.417695</td>\n",
       "      <td>0.056694</td>\n",
       "    </tr>\n",
       "    <tr>\n",
       "      <th>4</th>\n",
       "      <td>0.649103</td>\n",
       "      <td>-1.026404</td>\n",
       "      <td>-0.258645</td>\n",
       "      <td>-0.276882</td>\n",
       "      <td>0.077087</td>\n",
       "    </tr>\n",
       "  </tbody>\n",
       "</table>\n",
       "</div>"
      ],
      "text/plain": [
       "        PC1       PC2       PC3       PC4       PC5\n",
       "0 -2.636338  1.472260 -0.548330  0.238302  0.061003\n",
       "1 -0.023783 -1.435535 -0.015470 -0.428278 -0.154305\n",
       "2 -0.459228 -0.679705  0.956537 -0.193531 -0.092128\n",
       "3 -2.723472  2.174966  0.597397  0.417695  0.056694\n",
       "4  0.649103 -1.026404 -0.258645 -0.276882  0.077087"
      ]
     },
     "execution_count": 29,
     "metadata": {},
     "output_type": "execute_result"
    }
   ],
   "source": [
    "pcs_df2.head()"
   ]
  },
  {
   "cell_type": "code",
   "execution_count": 30,
   "metadata": {},
   "outputs": [
    {
     "data": {
      "text/plain": [
       "'plt.boxplot(pcs_df2.PC1)\\nQ1=pcs_df2.PC1.quantile(0.05)\\nQ3=pcs_df2.PC1.quantile(0.95)\\nIQR=Q3-Q1\\npcs_df2=pcs_df2[(pcs_df2.PC1 >= Q1- 1.5*IQR) & (pcs_df2.PC1<=Q3+ 1.5*IQR)]'"
      ]
     },
     "execution_count": 30,
     "metadata": {},
     "output_type": "execute_result"
    }
   ],
   "source": [
    "## Let's perform the Outlier Analysis\n",
    "'''plt.boxplot(pcs_df2.PC1)\n",
    "Q1=pcs_df2.PC1.quantile(0.05)\n",
    "Q3=pcs_df2.PC1.quantile(0.95)\n",
    "IQR=Q3-Q1\n",
    "pcs_df2=pcs_df2[(pcs_df2.PC1 >= Q1- 1.5*IQR) & (pcs_df2.PC1<=Q3+ 1.5*IQR)]'''"
   ]
  },
  {
   "cell_type": "code",
   "execution_count": 31,
   "metadata": {},
   "outputs": [
    {
     "data": {
      "text/plain": [
       "'plt.boxplot(pcs_df2.PC2)\\nQ1=pcs_df2.PC2.quantile(0.05)\\nQ3=pcs_df2.PC2.quantile(0.95)\\nIQR=Q3-Q1\\npcs_df2=pcs_df2[(pcs_df2.PC2 >= Q1- 1.5*IQR) & (pcs_df2.PC2<=Q3+ 1.5*IQR)]'"
      ]
     },
     "execution_count": 31,
     "metadata": {},
     "output_type": "execute_result"
    }
   ],
   "source": [
    "'''plt.boxplot(pcs_df2.PC2)\n",
    "Q1=pcs_df2.PC2.quantile(0.05)\n",
    "Q3=pcs_df2.PC2.quantile(0.95)\n",
    "IQR=Q3-Q1\n",
    "pcs_df2=pcs_df2[(pcs_df2.PC2 >= Q1- 1.5*IQR) & (pcs_df2.PC2<=Q3+ 1.5*IQR)]'''"
   ]
  },
  {
   "cell_type": "code",
   "execution_count": 32,
   "metadata": {},
   "outputs": [
    {
     "data": {
      "text/plain": [
       "'plt.boxplot(pcs_df2.PC3)\\nQ1=pcs_df2.PC3.quantile(0.05)\\nQ3=pcs_df2.PC3.quantile(0.95)\\nIQR=Q3-Q1\\npcs_df2=pcs_df2[(pcs_df2.PC3 >= Q1- 1.5*IQR) & (pcs_df2.PC3<=Q3+ 1.5*IQR)]'"
      ]
     },
     "execution_count": 32,
     "metadata": {},
     "output_type": "execute_result"
    }
   ],
   "source": [
    "'''plt.boxplot(pcs_df2.PC3)\n",
    "Q1=pcs_df2.PC3.quantile(0.05)\n",
    "Q3=pcs_df2.PC3.quantile(0.95)\n",
    "IQR=Q3-Q1\n",
    "pcs_df2=pcs_df2[(pcs_df2.PC3 >= Q1- 1.5*IQR) & (pcs_df2.PC3<=Q3+ 1.5*IQR)]'''"
   ]
  },
  {
   "cell_type": "code",
   "execution_count": 33,
   "metadata": {},
   "outputs": [
    {
     "data": {
      "text/plain": [
       "'plt.boxplot(pcs_df2.PC4)\\nQ1=pcs_df2.PC4.quantile(0.05)\\nQ3=pcs_df2.PC4.quantile(0.95)\\nIQR=Q3-Q1\\npcs_df2=pcs_df2[(pcs_df2.PC4 >= Q1- 1.5*IQR) & (pcs_df2.PC4<=Q3+ 1.5*IQR)]'"
      ]
     },
     "execution_count": 33,
     "metadata": {},
     "output_type": "execute_result"
    }
   ],
   "source": [
    "'''plt.boxplot(pcs_df2.PC4)\n",
    "Q1=pcs_df2.PC4.quantile(0.05)\n",
    "Q3=pcs_df2.PC4.quantile(0.95)\n",
    "IQR=Q3-Q1\n",
    "pcs_df2=pcs_df2[(pcs_df2.PC4 >= Q1- 1.5*IQR) & (pcs_df2.PC4<=Q3+ 1.5*IQR)]'''"
   ]
  },
  {
   "cell_type": "code",
   "execution_count": 34,
   "metadata": {},
   "outputs": [
    {
     "data": {
      "text/plain": [
       "'plt.boxplot(pcs_df2.PC5)\\nQ1=pcs_df2.PC5.quantile(0.05)\\nQ3=pcs_df2.PC5.quantile(0.95)\\nIQR=Q3-Q1\\npcs_df2=pcs_df2[(pcs_df2.PC5 >= Q1- 1.5*IQR) & (pcs_df2.PC5<=Q3+ 1.5*IQR)]'"
      ]
     },
     "execution_count": 34,
     "metadata": {},
     "output_type": "execute_result"
    }
   ],
   "source": [
    "'''plt.boxplot(pcs_df2.PC5)\n",
    "Q1=pcs_df2.PC5.quantile(0.05)\n",
    "Q3=pcs_df2.PC5.quantile(0.95)\n",
    "IQR=Q3-Q1\n",
    "pcs_df2=pcs_df2[(pcs_df2.PC5 >= Q1- 1.5*IQR) & (pcs_df2.PC5<=Q3+ 1.5*IQR)]'''"
   ]
  },
  {
   "cell_type": "code",
   "execution_count": 35,
   "metadata": {},
   "outputs": [
    {
     "data": {
      "text/plain": [
       "(167, 5)"
      ]
     },
     "execution_count": 35,
     "metadata": {},
     "output_type": "execute_result"
    }
   ],
   "source": [
    "pcs_df2.shape"
   ]
  },
  {
   "cell_type": "markdown",
   "metadata": {},
   "source": [
    "- After doing outlier treatment, we can see some of the countries data are removed, So we can not remove those countries because we may remove the un-developed country data which needs funding as per business objective."
   ]
  },
  {
   "cell_type": "code",
   "execution_count": 36,
   "metadata": {},
   "outputs": [
    {
     "data": {
      "image/png": "[encoded data removed]",
      "text/plain": [
       "<Figure size 864x576 with 1 Axes>"
      ]
     },
     "metadata": {
      "needs_background": "light"
     },
     "output_type": "display_data"
    }
   ],
   "source": [
    "#Visualising the points on the PCs.\n",
    "# one of the prime advatanges of PCA is that you can visualise high dimensional data\n",
    "fig = plt.figure(figsize = (12,8))\n",
    "sns.scatterplot(x='PC1',y='PC2',data=pcs_df2)\n",
    "plt.show()"
   ]
  },
  {
   "cell_type": "markdown",
   "metadata": {},
   "source": [
    "- We can see some of the grouping as before and after 0 value of PC1\n",
    "\n",
    "\n",
    "### Clustering Process\n",
    "##### Let's go ahead and begin with the clustering process i.e first we are calculating the Hopkins statistic"
   ]
  },
  {
   "cell_type": "code",
   "execution_count": 37,
   "metadata": {},
   "outputs": [],
   "source": [
    "\n",
    "from sklearn.neighbors import NearestNeighbors\n",
    "from random import sample\n",
    "from numpy.random import uniform\n",
    "import numpy as np\n",
    "from math import isnan\n",
    " \n",
    "def hopkins(X):\n",
    "    d = X.shape[1]\n",
    "    #d = len(vars) # columns\n",
    "    n = len(X) # rows\n",
    "    m = int(0.1 * n) \n",
    "    nbrs = NearestNeighbors(n_neighbors=1).fit(X.values)\n",
    " \n",
    "    rand_X = sample(range(0, n, 1), m)\n",
    " \n",
    "    ujd = []\n",
    "    wjd = []\n",
    "    for j in range(0, m):\n",
    "        u_dist, _ = nbrs.kneighbors(uniform(np.amin(X,axis=0),np.amax(X,axis=0),d).reshape(1, -1), 2, return_distance=True)\n",
    "        ujd.append(u_dist[0][1])\n",
    "        w_dist, _ = nbrs.kneighbors(X.iloc[rand_X[j]].values.reshape(1, -1), 2, return_distance=True)\n",
    "        wjd.append(w_dist[0][1])\n",
    " \n",
    "    H = sum(ujd) / (sum(ujd) + sum(wjd))\n",
    "    if isnan(H):\n",
    "        print(ujd, wjd)\n",
    "        H = 0\n",
    " \n",
    "    return H"
   ]
  },
  {
   "cell_type": "code",
   "execution_count": 38,
   "metadata": {},
   "outputs": [
    {
     "name": "stdout",
     "output_type": "stream",
     "text": [
      "<class 'pandas.core.frame.DataFrame'>\n",
      "RangeIndex: 167 entries, 0 to 166\n",
      "Data columns (total 5 columns):\n",
      "PC1    167 non-null float64\n",
      "PC2    167 non-null float64\n",
      "PC3    167 non-null float64\n",
      "PC4    167 non-null float64\n",
      "PC5    167 non-null float64\n",
      "dtypes: float64(5)\n",
      "memory usage: 6.6 KB\n"
     ]
    }
   ],
   "source": [
    "pcs_df2.info()"
   ]
  },
  {
   "cell_type": "markdown",
   "metadata": {},
   "source": [
    "- Let's check the Hopkins measure"
   ]
  },
  {
   "cell_type": "code",
   "execution_count": 39,
   "metadata": {},
   "outputs": [
    {
     "data": {
      "text/plain": [
       "0.9250543405444827"
      ]
     },
     "execution_count": 39,
     "metadata": {},
     "output_type": "execute_result"
    }
   ],
   "source": [
    "\n",
    "hopkins(pcs_df2)"
   ]
  },
  {
   "cell_type": "markdown",
   "metadata": {},
   "source": [
    "- Since the value is > 0.5 the given dataset has a good tendency to form clusters."
   ]
  },
  {
   "cell_type": "code",
   "execution_count": 40,
   "metadata": {},
   "outputs": [
    {
     "data": {
      "text/plain": [
       "(167, 5)"
      ]
     },
     "execution_count": 40,
     "metadata": {},
     "output_type": "execute_result"
    }
   ],
   "source": [
    "pcs_df2.shape"
   ]
  },
  {
   "cell_type": "markdown",
   "metadata": {},
   "source": [
    "##### Assigning pcs_df2 dataframe to a new variable"
   ]
  },
  {
   "cell_type": "code",
   "execution_count": 41,
   "metadata": {},
   "outputs": [],
   "source": [
    "dat3_1 = pcs_df2"
   ]
  },
  {
   "cell_type": "markdown",
   "metadata": {},
   "source": [
    "### Performing k-Means Clustering\n",
    "\n",
    "##### First we'll do the silhouette score analysis"
   ]
  },
  {
   "cell_type": "code",
   "execution_count": 42,
   "metadata": {},
   "outputs": [],
   "source": [
    "\n",
    "from sklearn.metrics import silhouette_score\n",
    "sse_ = []\n",
    "for k in range(2, 10):\n",
    "    kmeans = KMeans(n_clusters=k).fit(dat3_1)\n",
    "    sse_.append([k, silhouette_score(dat3_1, kmeans.labels_)])"
   ]
  },
  {
   "cell_type": "code",
   "execution_count": 43,
   "metadata": {},
   "outputs": [
    {
     "data": {
      "text/plain": [
       "[<matplotlib.lines.Line2D at 0x9868560160>]"
      ]
     },
     "execution_count": 43,
     "metadata": {},
     "output_type": "execute_result"
    },
    {
     "data": {
      "image/png": "[encoded data removed]",
      "text/plain": [
       "<Figure size 432x288 with 1 Axes>"
      ]
     },
     "metadata": {
      "needs_background": "light"
     },
     "output_type": "display_data"
    }
   ],
   "source": [
    "plt.plot(pd.DataFrame(sse_)[0], pd.DataFrame(sse_)[1])"
   ]
  },
  {
   "cell_type": "markdown",
   "metadata": {},
   "source": [
    "From the above analysis we find that 3 seems to be a good number of clusters for K means algorithm.\n",
    "\n",
    "#### Checking with elbow curve"
   ]
  },
  {
   "cell_type": "code",
   "execution_count": 44,
   "metadata": {},
   "outputs": [
    {
     "data": {
      "text/plain": [
       "[<matplotlib.lines.Line2D at 0x98685c5898>]"
      ]
     },
     "execution_count": 44,
     "metadata": {},
     "output_type": "execute_result"
    },
    {
     "data": {
      "image/png": "[encoded data removed]",
      "text/plain": [
       "<Figure size 432x288 with 1 Axes>"
      ]
     },
     "metadata": {
      "needs_background": "light"
     },
     "output_type": "display_data"
    }
   ],
   "source": [
    "ssd = []\n",
    "for num_clusters in list(range(1,10)):\n",
    "    model_clus = KMeans(n_clusters = num_clusters, max_iter=50)\n",
    "    model_clus.fit(dat3_1)\n",
    "    ssd.append(model_clus.inertia_)\n",
    "\n",
    "plt.plot(ssd)"
   ]
  },
  {
   "cell_type": "markdown",
   "metadata": {},
   "source": [
    "Here also we're seeing a distinct bend at around 3 clusters. Hence, checking with Silhouette Analysis also .\n",
    "\n",
    "\n",
    "#### Again we are doing Silhouette Analysis with scores\n"
   ]
  },
  {
   "cell_type": "code",
   "execution_count": 45,
   "metadata": {},
   "outputs": [
    {
     "name": "stdout",
     "output_type": "stream",
     "text": [
      "For n_clusters=2, the silhouette score is 0.48066046782755917\n",
      "For n_clusters=3, the silhouette score is 0.4541512897971508\n",
      "For n_clusters=4, the silhouette score is 0.4629814641482611\n",
      "For n_clusters=5, the silhouette score is 0.47223519247432166\n",
      "For n_clusters=6, the silhouette score is 0.41074118135089766\n",
      "For n_clusters=7, the silhouette score is 0.34728874676042476\n",
      "For n_clusters=8, the silhouette score is 0.3581127602787835\n"
     ]
    }
   ],
   "source": [
    "# silhouette analysis\n",
    "range_n_clusters = [2, 3, 4, 5, 6, 7, 8]\n",
    "\n",
    "for num_clusters in range_n_clusters:\n",
    "    \n",
    "    # intialise kmeans\n",
    "    kmeans = KMeans(n_clusters=num_clusters, max_iter=50)\n",
    "    kmeans.fit(dat3_1)\n",
    "    \n",
    "    cluster_labels = kmeans.labels_\n",
    "    \n",
    "    # silhouette score\n",
    "    silhouette_avg = silhouette_score(dat3_1, cluster_labels)\n",
    "    print(\"For n_clusters={0}, the silhouette score is {1}\".format(num_clusters, silhouette_avg))"
   ]
  },
  {
   "cell_type": "markdown",
   "metadata": {},
   "source": [
    "#### As per elbow curve, Let's perform K means using K=3 "
   ]
  },
  {
   "cell_type": "code",
   "execution_count": 46,
   "metadata": {},
   "outputs": [
    {
     "data": {
      "text/plain": [
       "KMeans(algorithm='auto', copy_x=True, init='k-means++', max_iter=50,\n",
       "    n_clusters=3, n_init=10, n_jobs=None, precompute_distances='auto',\n",
       "    random_state=50, tol=0.0001, verbose=0)"
      ]
     },
     "execution_count": 46,
     "metadata": {},
     "output_type": "execute_result"
    }
   ],
   "source": [
    "model_clus2 = KMeans(n_clusters = 3, max_iter=50,random_state = 50)\n",
    "model_clus2.fit(dat3_1)"
   ]
  },
  {
   "cell_type": "code",
   "execution_count": 47,
   "metadata": {},
   "outputs": [
    {
     "data": {
      "text/html": [
       "<div>\n",
       "<style scoped>\n",
       "    .dataframe tbody tr th:only-of-type {\n",
       "        vertical-align: middle;\n",
       "    }\n",
       "\n",
       "    .dataframe tbody tr th {\n",
       "        vertical-align: top;\n",
       "    }\n",
       "\n",
       "    .dataframe thead th {\n",
       "        text-align: right;\n",
       "    }\n",
       "</style>\n",
       "<table border=\"1\" class=\"dataframe\">\n",
       "  <thead>\n",
       "    <tr style=\"text-align: right;\">\n",
       "      <th></th>\n",
       "      <th>PC1</th>\n",
       "      <th>PC2</th>\n",
       "      <th>PC3</th>\n",
       "      <th>PC4</th>\n",
       "      <th>PC5</th>\n",
       "      <th>ClusterID</th>\n",
       "    </tr>\n",
       "  </thead>\n",
       "  <tbody>\n",
       "    <tr>\n",
       "      <th>0</th>\n",
       "      <td>-2.636338</td>\n",
       "      <td>1.472260</td>\n",
       "      <td>-0.548330</td>\n",
       "      <td>0.238302</td>\n",
       "      <td>0.061003</td>\n",
       "      <td>2</td>\n",
       "    </tr>\n",
       "    <tr>\n",
       "      <th>1</th>\n",
       "      <td>-0.023783</td>\n",
       "      <td>-1.435535</td>\n",
       "      <td>-0.015470</td>\n",
       "      <td>-0.428278</td>\n",
       "      <td>-0.154305</td>\n",
       "      <td>1</td>\n",
       "    </tr>\n",
       "    <tr>\n",
       "      <th>2</th>\n",
       "      <td>-0.459228</td>\n",
       "      <td>-0.679705</td>\n",
       "      <td>0.956537</td>\n",
       "      <td>-0.193531</td>\n",
       "      <td>-0.092128</td>\n",
       "      <td>1</td>\n",
       "    </tr>\n",
       "    <tr>\n",
       "      <th>3</th>\n",
       "      <td>-2.723472</td>\n",
       "      <td>2.174966</td>\n",
       "      <td>0.597397</td>\n",
       "      <td>0.417695</td>\n",
       "      <td>0.056694</td>\n",
       "      <td>2</td>\n",
       "    </tr>\n",
       "    <tr>\n",
       "      <th>4</th>\n",
       "      <td>0.649103</td>\n",
       "      <td>-1.026404</td>\n",
       "      <td>-0.258645</td>\n",
       "      <td>-0.276882</td>\n",
       "      <td>0.077087</td>\n",
       "      <td>1</td>\n",
       "    </tr>\n",
       "    <tr>\n",
       "      <th>5</th>\n",
       "      <td>0.035950</td>\n",
       "      <td>-0.685692</td>\n",
       "      <td>1.468419</td>\n",
       "      <td>0.046032</td>\n",
       "      <td>-0.093193</td>\n",
       "      <td>1</td>\n",
       "    </tr>\n",
       "    <tr>\n",
       "      <th>6</th>\n",
       "      <td>-0.334457</td>\n",
       "      <td>-1.278617</td>\n",
       "      <td>0.190805</td>\n",
       "      <td>-0.477019</td>\n",
       "      <td>-0.253557</td>\n",
       "      <td>1</td>\n",
       "    </tr>\n",
       "    <tr>\n",
       "      <th>7</th>\n",
       "      <td>3.184039</td>\n",
       "      <td>-0.239407</td>\n",
       "      <td>-0.131692</td>\n",
       "      <td>1.674379</td>\n",
       "      <td>0.087368</td>\n",
       "      <td>0</td>\n",
       "    </tr>\n",
       "    <tr>\n",
       "      <th>8</th>\n",
       "      <td>3.817742</td>\n",
       "      <td>0.262449</td>\n",
       "      <td>-0.258554</td>\n",
       "      <td>1.024658</td>\n",
       "      <td>-0.299611</td>\n",
       "      <td>0</td>\n",
       "    </tr>\n",
       "    <tr>\n",
       "      <th>9</th>\n",
       "      <td>-0.468005</td>\n",
       "      <td>-0.493948</td>\n",
       "      <td>0.611514</td>\n",
       "      <td>-0.276291</td>\n",
       "      <td>0.115536</td>\n",
       "      <td>1</td>\n",
       "    </tr>\n",
       "    <tr>\n",
       "      <th>10</th>\n",
       "      <td>1.499464</td>\n",
       "      <td>-0.425404</td>\n",
       "      <td>-0.543189</td>\n",
       "      <td>0.254181</td>\n",
       "      <td>-0.109091</td>\n",
       "      <td>1</td>\n",
       "    </tr>\n",
       "    <tr>\n",
       "      <th>11</th>\n",
       "      <td>1.471433</td>\n",
       "      <td>-0.326327</td>\n",
       "      <td>0.397744</td>\n",
       "      <td>-0.217919</td>\n",
       "      <td>0.796269</td>\n",
       "      <td>1</td>\n",
       "    </tr>\n",
       "    <tr>\n",
       "      <th>12</th>\n",
       "      <td>-1.015269</td>\n",
       "      <td>-0.713954</td>\n",
       "      <td>-0.102950</td>\n",
       "      <td>-0.354866</td>\n",
       "      <td>-0.254570</td>\n",
       "      <td>1</td>\n",
       "    </tr>\n",
       "    <tr>\n",
       "      <th>13</th>\n",
       "      <td>0.844643</td>\n",
       "      <td>-1.009520</td>\n",
       "      <td>-0.411579</td>\n",
       "      <td>-0.116555</td>\n",
       "      <td>-0.202066</td>\n",
       "      <td>1</td>\n",
       "    </tr>\n",
       "    <tr>\n",
       "      <th>14</th>\n",
       "      <td>-0.015189</td>\n",
       "      <td>-0.986231</td>\n",
       "      <td>0.896114</td>\n",
       "      <td>-0.513360</td>\n",
       "      <td>-0.046737</td>\n",
       "      <td>1</td>\n",
       "    </tr>\n",
       "    <tr>\n",
       "      <th>15</th>\n",
       "      <td>3.961035</td>\n",
       "      <td>0.837822</td>\n",
       "      <td>-0.271866</td>\n",
       "      <td>0.311798</td>\n",
       "      <td>-0.533686</td>\n",
       "      <td>0</td>\n",
       "    </tr>\n",
       "    <tr>\n",
       "      <th>16</th>\n",
       "      <td>-0.403754</td>\n",
       "      <td>-0.923973</td>\n",
       "      <td>-0.505497</td>\n",
       "      <td>-0.355780</td>\n",
       "      <td>-0.093195</td>\n",
       "      <td>1</td>\n",
       "    </tr>\n",
       "    <tr>\n",
       "      <th>17</th>\n",
       "      <td>-2.364235</td>\n",
       "      <td>1.173529</td>\n",
       "      <td>-1.250741</td>\n",
       "      <td>0.242827</td>\n",
       "      <td>0.149386</td>\n",
       "      <td>2</td>\n",
       "    </tr>\n",
       "    <tr>\n",
       "      <th>18</th>\n",
       "      <td>-0.715992</td>\n",
       "      <td>-0.770401</td>\n",
       "      <td>-0.127548</td>\n",
       "      <td>-0.344813</td>\n",
       "      <td>-0.149521</td>\n",
       "      <td>1</td>\n",
       "    </tr>\n",
       "    <tr>\n",
       "      <th>19</th>\n",
       "      <td>-1.018733</td>\n",
       "      <td>-0.429274</td>\n",
       "      <td>0.052346</td>\n",
       "      <td>-0.192257</td>\n",
       "      <td>-0.165402</td>\n",
       "      <td>1</td>\n",
       "    </tr>\n",
       "    <tr>\n",
       "      <th>20</th>\n",
       "      <td>0.251255</td>\n",
       "      <td>-1.700102</td>\n",
       "      <td>-0.241859</td>\n",
       "      <td>-0.434006</td>\n",
       "      <td>-0.227721</td>\n",
       "      <td>1</td>\n",
       "    </tr>\n",
       "    <tr>\n",
       "      <th>21</th>\n",
       "      <td>-1.130164</td>\n",
       "      <td>0.402022</td>\n",
       "      <td>-0.225403</td>\n",
       "      <td>-0.141537</td>\n",
       "      <td>0.197822</td>\n",
       "      <td>2</td>\n",
       "    </tr>\n",
       "    <tr>\n",
       "      <th>22</th>\n",
       "      <td>0.165859</td>\n",
       "      <td>-1.018861</td>\n",
       "      <td>0.283248</td>\n",
       "      <td>0.037858</td>\n",
       "      <td>-0.117451</td>\n",
       "      <td>1</td>\n",
       "    </tr>\n",
       "    <tr>\n",
       "      <th>23</th>\n",
       "      <td>2.698562</td>\n",
       "      <td>0.374733</td>\n",
       "      <td>1.562333</td>\n",
       "      <td>0.014660</td>\n",
       "      <td>2.366252</td>\n",
       "      <td>0</td>\n",
       "    </tr>\n",
       "    <tr>\n",
       "      <th>24</th>\n",
       "      <td>0.279686</td>\n",
       "      <td>-1.322321</td>\n",
       "      <td>-0.323306</td>\n",
       "      <td>-0.428927</td>\n",
       "      <td>0.054242</td>\n",
       "      <td>1</td>\n",
       "    </tr>\n",
       "    <tr>\n",
       "      <th>25</th>\n",
       "      <td>-2.752090</td>\n",
       "      <td>1.667241</td>\n",
       "      <td>-0.850067</td>\n",
       "      <td>0.327684</td>\n",
       "      <td>0.127910</td>\n",
       "      <td>2</td>\n",
       "    </tr>\n",
       "    <tr>\n",
       "      <th>26</th>\n",
       "      <td>-2.763183</td>\n",
       "      <td>1.628583</td>\n",
       "      <td>-0.299615</td>\n",
       "      <td>0.316131</td>\n",
       "      <td>-0.003679</td>\n",
       "      <td>2</td>\n",
       "    </tr>\n",
       "    <tr>\n",
       "      <th>27</th>\n",
       "      <td>-1.179890</td>\n",
       "      <td>-0.493762</td>\n",
       "      <td>-0.569755</td>\n",
       "      <td>-0.319318</td>\n",
       "      <td>-0.145094</td>\n",
       "      <td>1</td>\n",
       "    </tr>\n",
       "    <tr>\n",
       "      <th>28</th>\n",
       "      <td>-2.439458</td>\n",
       "      <td>1.290525</td>\n",
       "      <td>-1.226484</td>\n",
       "      <td>0.198709</td>\n",
       "      <td>0.202107</td>\n",
       "      <td>2</td>\n",
       "    </tr>\n",
       "    <tr>\n",
       "      <th>29</th>\n",
       "      <td>3.397182</td>\n",
       "      <td>-0.066065</td>\n",
       "      <td>-0.047643</td>\n",
       "      <td>1.622480</td>\n",
       "      <td>-0.291629</td>\n",
       "      <td>0</td>\n",
       "    </tr>\n",
       "    <tr>\n",
       "      <th>...</th>\n",
       "      <td>...</td>\n",
       "      <td>...</td>\n",
       "      <td>...</td>\n",
       "      <td>...</td>\n",
       "      <td>...</td>\n",
       "      <td>...</td>\n",
       "    </tr>\n",
       "    <tr>\n",
       "      <th>137</th>\n",
       "      <td>-1.178567</td>\n",
       "      <td>0.357244</td>\n",
       "      <td>-0.513739</td>\n",
       "      <td>-0.088121</td>\n",
       "      <td>0.205571</td>\n",
       "      <td>2</td>\n",
       "    </tr>\n",
       "    <tr>\n",
       "      <th>138</th>\n",
       "      <td>1.756206</td>\n",
       "      <td>-1.022559</td>\n",
       "      <td>0.072793</td>\n",
       "      <td>-0.116542</td>\n",
       "      <td>0.211397</td>\n",
       "      <td>1</td>\n",
       "    </tr>\n",
       "    <tr>\n",
       "      <th>139</th>\n",
       "      <td>2.244964</td>\n",
       "      <td>-1.001793</td>\n",
       "      <td>-0.186867</td>\n",
       "      <td>0.711405</td>\n",
       "      <td>0.061316</td>\n",
       "      <td>0</td>\n",
       "    </tr>\n",
       "    <tr>\n",
       "      <th>140</th>\n",
       "      <td>-0.546925</td>\n",
       "      <td>-0.953848</td>\n",
       "      <td>1.587299</td>\n",
       "      <td>-0.391224</td>\n",
       "      <td>-0.365526</td>\n",
       "      <td>1</td>\n",
       "    </tr>\n",
       "    <tr>\n",
       "      <th>141</th>\n",
       "      <td>-0.226420</td>\n",
       "      <td>-0.987630</td>\n",
       "      <td>-0.167062</td>\n",
       "      <td>-0.389319</td>\n",
       "      <td>-0.095460</td>\n",
       "      <td>1</td>\n",
       "    </tr>\n",
       "    <tr>\n",
       "      <th>142</th>\n",
       "      <td>-2.017352</td>\n",
       "      <td>0.847895</td>\n",
       "      <td>0.696612</td>\n",
       "      <td>0.150028</td>\n",
       "      <td>-0.201539</td>\n",
       "      <td>2</td>\n",
       "    </tr>\n",
       "    <tr>\n",
       "      <th>143</th>\n",
       "      <td>-0.198244</td>\n",
       "      <td>-0.567999</td>\n",
       "      <td>0.035158</td>\n",
       "      <td>-0.200602</td>\n",
       "      <td>0.015750</td>\n",
       "      <td>1</td>\n",
       "    </tr>\n",
       "    <tr>\n",
       "      <th>144</th>\n",
       "      <td>3.808329</td>\n",
       "      <td>0.386352</td>\n",
       "      <td>-0.237050</td>\n",
       "      <td>1.193883</td>\n",
       "      <td>-0.220076</td>\n",
       "      <td>0</td>\n",
       "    </tr>\n",
       "    <tr>\n",
       "      <th>145</th>\n",
       "      <td>6.266050</td>\n",
       "      <td>1.858343</td>\n",
       "      <td>-0.436016</td>\n",
       "      <td>1.713228</td>\n",
       "      <td>-0.945592</td>\n",
       "      <td>0</td>\n",
       "    </tr>\n",
       "    <tr>\n",
       "      <th>146</th>\n",
       "      <td>-1.376975</td>\n",
       "      <td>-0.167381</td>\n",
       "      <td>0.284456</td>\n",
       "      <td>-0.165781</td>\n",
       "      <td>-0.292793</td>\n",
       "      <td>1</td>\n",
       "    </tr>\n",
       "    <tr>\n",
       "      <th>147</th>\n",
       "      <td>-2.277879</td>\n",
       "      <td>1.007120</td>\n",
       "      <td>-0.404581</td>\n",
       "      <td>0.142103</td>\n",
       "      <td>-0.006217</td>\n",
       "      <td>2</td>\n",
       "    </tr>\n",
       "    <tr>\n",
       "      <th>148</th>\n",
       "      <td>0.173549</td>\n",
       "      <td>-1.401470</td>\n",
       "      <td>-0.012726</td>\n",
       "      <td>-0.524677</td>\n",
       "      <td>-0.016154</td>\n",
       "      <td>1</td>\n",
       "    </tr>\n",
       "    <tr>\n",
       "      <th>149</th>\n",
       "      <td>-2.007909</td>\n",
       "      <td>1.083204</td>\n",
       "      <td>1.380862</td>\n",
       "      <td>0.442456</td>\n",
       "      <td>-0.462285</td>\n",
       "      <td>2</td>\n",
       "    </tr>\n",
       "    <tr>\n",
       "      <th>150</th>\n",
       "      <td>-2.243969</td>\n",
       "      <td>0.906389</td>\n",
       "      <td>-1.191799</td>\n",
       "      <td>0.084968</td>\n",
       "      <td>0.092728</td>\n",
       "      <td>2</td>\n",
       "    </tr>\n",
       "    <tr>\n",
       "      <th>151</th>\n",
       "      <td>-0.858228</td>\n",
       "      <td>-0.546647</td>\n",
       "      <td>-0.382175</td>\n",
       "      <td>-0.162539</td>\n",
       "      <td>-0.168337</td>\n",
       "      <td>1</td>\n",
       "    </tr>\n",
       "    <tr>\n",
       "      <th>152</th>\n",
       "      <td>-0.062587</td>\n",
       "      <td>-1.284654</td>\n",
       "      <td>-0.090632</td>\n",
       "      <td>-0.381934</td>\n",
       "      <td>-0.119531</td>\n",
       "      <td>1</td>\n",
       "    </tr>\n",
       "    <tr>\n",
       "      <th>153</th>\n",
       "      <td>0.328152</td>\n",
       "      <td>-1.067373</td>\n",
       "      <td>0.257679</td>\n",
       "      <td>-0.053588</td>\n",
       "      <td>0.050906</td>\n",
       "      <td>1</td>\n",
       "    </tr>\n",
       "    <tr>\n",
       "      <th>154</th>\n",
       "      <td>-0.895280</td>\n",
       "      <td>-0.189937</td>\n",
       "      <td>-0.624750</td>\n",
       "      <td>-0.255192</td>\n",
       "      <td>0.153184</td>\n",
       "      <td>1</td>\n",
       "    </tr>\n",
       "    <tr>\n",
       "      <th>155</th>\n",
       "      <td>-2.621682</td>\n",
       "      <td>1.462407</td>\n",
       "      <td>-0.413948</td>\n",
       "      <td>0.271157</td>\n",
       "      <td>0.025706</td>\n",
       "      <td>2</td>\n",
       "    </tr>\n",
       "    <tr>\n",
       "      <th>156</th>\n",
       "      <td>-0.373655</td>\n",
       "      <td>-1.161965</td>\n",
       "      <td>0.675666</td>\n",
       "      <td>-0.529783</td>\n",
       "      <td>-0.299319</td>\n",
       "      <td>1</td>\n",
       "    </tr>\n",
       "    <tr>\n",
       "      <th>157</th>\n",
       "      <td>2.689931</td>\n",
       "      <td>0.540482</td>\n",
       "      <td>0.923005</td>\n",
       "      <td>-0.484675</td>\n",
       "      <td>1.140071</td>\n",
       "      <td>0</td>\n",
       "    </tr>\n",
       "    <tr>\n",
       "      <th>158</th>\n",
       "      <td>2.607258</td>\n",
       "      <td>-0.367546</td>\n",
       "      <td>-0.153903</td>\n",
       "      <td>1.065044</td>\n",
       "      <td>-0.010749</td>\n",
       "      <td>0</td>\n",
       "    </tr>\n",
       "    <tr>\n",
       "      <th>159</th>\n",
       "      <td>3.786191</td>\n",
       "      <td>0.141650</td>\n",
       "      <td>-0.297774</td>\n",
       "      <td>3.291248</td>\n",
       "      <td>-0.538677</td>\n",
       "      <td>0</td>\n",
       "    </tr>\n",
       "    <tr>\n",
       "      <th>160</th>\n",
       "      <td>0.455607</td>\n",
       "      <td>-1.099326</td>\n",
       "      <td>0.045118</td>\n",
       "      <td>-0.019662</td>\n",
       "      <td>-0.029094</td>\n",
       "      <td>1</td>\n",
       "    </tr>\n",
       "    <tr>\n",
       "      <th>161</th>\n",
       "      <td>-1.032296</td>\n",
       "      <td>-0.567502</td>\n",
       "      <td>0.764642</td>\n",
       "      <td>-0.364002</td>\n",
       "      <td>-0.332114</td>\n",
       "      <td>1</td>\n",
       "    </tr>\n",
       "    <tr>\n",
       "      <th>162</th>\n",
       "      <td>-1.175606</td>\n",
       "      <td>-0.281249</td>\n",
       "      <td>-0.663619</td>\n",
       "      <td>-0.258950</td>\n",
       "      <td>-0.133251</td>\n",
       "      <td>1</td>\n",
       "    </tr>\n",
       "    <tr>\n",
       "      <th>163</th>\n",
       "      <td>-0.314505</td>\n",
       "      <td>-0.019143</td>\n",
       "      <td>3.680854</td>\n",
       "      <td>0.016772</td>\n",
       "      <td>-0.475066</td>\n",
       "      <td>1</td>\n",
       "    </tr>\n",
       "    <tr>\n",
       "      <th>164</th>\n",
       "      <td>-0.594560</td>\n",
       "      <td>-1.084130</td>\n",
       "      <td>0.528668</td>\n",
       "      <td>-0.478067</td>\n",
       "      <td>-0.373132</td>\n",
       "      <td>1</td>\n",
       "    </tr>\n",
       "    <tr>\n",
       "      <th>165</th>\n",
       "      <td>-1.802840</td>\n",
       "      <td>0.584669</td>\n",
       "      <td>1.179551</td>\n",
       "      <td>0.051510</td>\n",
       "      <td>-0.274608</td>\n",
       "      <td>2</td>\n",
       "    </tr>\n",
       "    <tr>\n",
       "      <th>166</th>\n",
       "      <td>-2.645604</td>\n",
       "      <td>1.571917</td>\n",
       "      <td>-0.169911</td>\n",
       "      <td>0.161735</td>\n",
       "      <td>0.077092</td>\n",
       "      <td>2</td>\n",
       "    </tr>\n",
       "  </tbody>\n",
       "</table>\n",
       "<p>167 rows × 6 columns</p>\n",
       "</div>"
      ],
      "text/plain": [
       "          PC1       PC2       PC3       PC4       PC5  ClusterID\n",
       "0   -2.636338  1.472260 -0.548330  0.238302  0.061003          2\n",
       "1   -0.023783 -1.435535 -0.015470 -0.428278 -0.154305          1\n",
       "2   -0.459228 -0.679705  0.956537 -0.193531 -0.092128          1\n",
       "3   -2.723472  2.174966  0.597397  0.417695  0.056694          2\n",
       "4    0.649103 -1.026404 -0.258645 -0.276882  0.077087          1\n",
       "5    0.035950 -0.685692  1.468419  0.046032 -0.093193          1\n",
       "6   -0.334457 -1.278617  0.190805 -0.477019 -0.253557          1\n",
       "7    3.184039 -0.239407 -0.131692  1.674379  0.087368          0\n",
       "8    3.817742  0.262449 -0.258554  1.024658 -0.299611          0\n",
       "9   -0.468005 -0.493948  0.611514 -0.276291  0.115536          1\n",
       "10   1.499464 -0.425404 -0.543189  0.254181 -0.109091          1\n",
       "11   1.471433 -0.326327  0.397744 -0.217919  0.796269          1\n",
       "12  -1.015269 -0.713954 -0.102950 -0.354866 -0.254570          1\n",
       "13   0.844643 -1.009520 -0.411579 -0.116555 -0.202066          1\n",
       "14  -0.015189 -0.986231  0.896114 -0.513360 -0.046737          1\n",
       "15   3.961035  0.837822 -0.271866  0.311798 -0.533686          0\n",
       "16  -0.403754 -0.923973 -0.505497 -0.355780 -0.093195          1\n",
       "17  -2.364235  1.173529 -1.250741  0.242827  0.149386          2\n",
       "18  -0.715992 -0.770401 -0.127548 -0.344813 -0.149521          1\n",
       "19  -1.018733 -0.429274  0.052346 -0.192257 -0.165402          1\n",
       "20   0.251255 -1.700102 -0.241859 -0.434006 -0.227721          1\n",
       "21  -1.130164  0.402022 -0.225403 -0.141537  0.197822          2\n",
       "22   0.165859 -1.018861  0.283248  0.037858 -0.117451          1\n",
       "23   2.698562  0.374733  1.562333  0.014660  2.366252          0\n",
       "24   0.279686 -1.322321 -0.323306 -0.428927  0.054242          1\n",
       "25  -2.752090  1.667241 -0.850067  0.327684  0.127910          2\n",
       "26  -2.763183  1.628583 -0.299615  0.316131 -0.003679          2\n",
       "27  -1.179890 -0.493762 -0.569755 -0.319318 -0.145094          1\n",
       "28  -2.439458  1.290525 -1.226484  0.198709  0.202107          2\n",
       "29   3.397182 -0.066065 -0.047643  1.622480 -0.291629          0\n",
       "..        ...       ...       ...       ...       ...        ...\n",
       "137 -1.178567  0.357244 -0.513739 -0.088121  0.205571          2\n",
       "138  1.756206 -1.022559  0.072793 -0.116542  0.211397          1\n",
       "139  2.244964 -1.001793 -0.186867  0.711405  0.061316          0\n",
       "140 -0.546925 -0.953848  1.587299 -0.391224 -0.365526          1\n",
       "141 -0.226420 -0.987630 -0.167062 -0.389319 -0.095460          1\n",
       "142 -2.017352  0.847895  0.696612  0.150028 -0.201539          2\n",
       "143 -0.198244 -0.567999  0.035158 -0.200602  0.015750          1\n",
       "144  3.808329  0.386352 -0.237050  1.193883 -0.220076          0\n",
       "145  6.266050  1.858343 -0.436016  1.713228 -0.945592          0\n",
       "146 -1.376975 -0.167381  0.284456 -0.165781 -0.292793          1\n",
       "147 -2.277879  1.007120 -0.404581  0.142103 -0.006217          2\n",
       "148  0.173549 -1.401470 -0.012726 -0.524677 -0.016154          1\n",
       "149 -2.007909  1.083204  1.380862  0.442456 -0.462285          2\n",
       "150 -2.243969  0.906389 -1.191799  0.084968  0.092728          2\n",
       "151 -0.858228 -0.546647 -0.382175 -0.162539 -0.168337          1\n",
       "152 -0.062587 -1.284654 -0.090632 -0.381934 -0.119531          1\n",
       "153  0.328152 -1.067373  0.257679 -0.053588  0.050906          1\n",
       "154 -0.895280 -0.189937 -0.624750 -0.255192  0.153184          1\n",
       "155 -2.621682  1.462407 -0.413948  0.271157  0.025706          2\n",
       "156 -0.373655 -1.161965  0.675666 -0.529783 -0.299319          1\n",
       "157  2.689931  0.540482  0.923005 -0.484675  1.140071          0\n",
       "158  2.607258 -0.367546 -0.153903  1.065044 -0.010749          0\n",
       "159  3.786191  0.141650 -0.297774  3.291248 -0.538677          0\n",
       "160  0.455607 -1.099326  0.045118 -0.019662 -0.029094          1\n",
       "161 -1.032296 -0.567502  0.764642 -0.364002 -0.332114          1\n",
       "162 -1.175606 -0.281249 -0.663619 -0.258950 -0.133251          1\n",
       "163 -0.314505 -0.019143  3.680854  0.016772 -0.475066          1\n",
       "164 -0.594560 -1.084130  0.528668 -0.478067 -0.373132          1\n",
       "165 -1.802840  0.584669  1.179551  0.051510 -0.274608          2\n",
       "166 -2.645604  1.571917 -0.169911  0.161735  0.077092          2\n",
       "\n",
       "[167 rows x 6 columns]"
      ]
     },
     "execution_count": 47,
     "metadata": {},
     "output_type": "execute_result"
    }
   ],
   "source": [
    "dat4=pcs_df2\n",
    "dat4.index = pd.RangeIndex(len(dat4.index))\n",
    "dat_km = pd.concat([dat4, pd.Series(model_clus2.labels_)], axis=1)\n",
    "dat_km.columns = ['PC1', 'PC2','PC3','PC4','PC5','ClusterID']\n",
    "dat_km"
   ]
  },
  {
   "cell_type": "code",
   "execution_count": 48,
   "metadata": {},
   "outputs": [
    {
     "data": {
      "text/plain": [
       "1    91\n",
       "2    48\n",
       "0    28\n",
       "Name: ClusterID, dtype: int64"
      ]
     },
     "execution_count": 48,
     "metadata": {},
     "output_type": "execute_result"
    }
   ],
   "source": [
    "dat_km['ClusterID'].value_counts()"
   ]
  },
  {
   "cell_type": "code",
   "execution_count": 49,
   "metadata": {},
   "outputs": [
    {
     "data": {
      "image/png": "[encoded data removed]",
      "text/plain": [
       "<Figure size 864x576 with 1 Axes>"
      ]
     },
     "metadata": {
      "needs_background": "light"
     },
     "output_type": "display_data"
    }
   ],
   "source": [
    "fig = plt.figure(figsize = (12,8))\n",
    "sns.scatterplot(x='PC1',y='PC2',hue='ClusterID',legend='full',data=dat_km)\n",
    "\n",
    "plt.title('Categories of countries on the basis of Components')\n",
    "plt.show()\n",
    "\n"
   ]
  },
  {
   "cell_type": "markdown",
   "metadata": {},
   "source": [
    "-  From above plots, we can clearly see the 3 clusters . \n",
    "\n",
    "- Now we are merging clusters with the original dataset. "
   ]
  },
  {
   "cell_type": "code",
   "execution_count": 50,
   "metadata": {
    "scrolled": true
   },
   "outputs": [
    {
     "data": {
      "text/html": [
       "<div>\n",
       "<style scoped>\n",
       "    .dataframe tbody tr th:only-of-type {\n",
       "        vertical-align: middle;\n",
       "    }\n",
       "\n",
       "    .dataframe tbody tr th {\n",
       "        vertical-align: top;\n",
       "    }\n",
       "\n",
       "    .dataframe thead th {\n",
       "        text-align: right;\n",
       "    }\n",
       "</style>\n",
       "<table border=\"1\" class=\"dataframe\">\n",
       "  <thead>\n",
       "    <tr style=\"text-align: right;\">\n",
       "      <th></th>\n",
       "      <th>country</th>\n",
       "      <th>child_mort</th>\n",
       "      <th>exports</th>\n",
       "      <th>health</th>\n",
       "      <th>imports</th>\n",
       "      <th>income</th>\n",
       "      <th>inflation</th>\n",
       "      <th>life_expec</th>\n",
       "      <th>total_fer</th>\n",
       "      <th>gdpp</th>\n",
       "      <th>PC1</th>\n",
       "      <th>PC2</th>\n",
       "      <th>PC3</th>\n",
       "      <th>PC4</th>\n",
       "      <th>PC5</th>\n",
       "      <th>ClusterID</th>\n",
       "    </tr>\n",
       "  </thead>\n",
       "  <tbody>\n",
       "    <tr>\n",
       "      <th>0</th>\n",
       "      <td>Afghanistan</td>\n",
       "      <td>90.2</td>\n",
       "      <td>55.30</td>\n",
       "      <td>41.9174</td>\n",
       "      <td>248.297</td>\n",
       "      <td>1610</td>\n",
       "      <td>9.44</td>\n",
       "      <td>56.2</td>\n",
       "      <td>5.82</td>\n",
       "      <td>553</td>\n",
       "      <td>-2.636338</td>\n",
       "      <td>1.472260</td>\n",
       "      <td>-0.548330</td>\n",
       "      <td>0.238302</td>\n",
       "      <td>0.061003</td>\n",
       "      <td>2</td>\n",
       "    </tr>\n",
       "    <tr>\n",
       "      <th>1</th>\n",
       "      <td>Albania</td>\n",
       "      <td>16.6</td>\n",
       "      <td>1145.20</td>\n",
       "      <td>267.8950</td>\n",
       "      <td>1987.740</td>\n",
       "      <td>9930</td>\n",
       "      <td>4.49</td>\n",
       "      <td>76.3</td>\n",
       "      <td>1.65</td>\n",
       "      <td>4090</td>\n",
       "      <td>-0.023783</td>\n",
       "      <td>-1.435535</td>\n",
       "      <td>-0.015470</td>\n",
       "      <td>-0.428278</td>\n",
       "      <td>-0.154305</td>\n",
       "      <td>1</td>\n",
       "    </tr>\n",
       "    <tr>\n",
       "      <th>2</th>\n",
       "      <td>Algeria</td>\n",
       "      <td>27.3</td>\n",
       "      <td>1712.64</td>\n",
       "      <td>185.9820</td>\n",
       "      <td>1400.440</td>\n",
       "      <td>12900</td>\n",
       "      <td>16.10</td>\n",
       "      <td>76.5</td>\n",
       "      <td>2.89</td>\n",
       "      <td>4460</td>\n",
       "      <td>-0.459228</td>\n",
       "      <td>-0.679705</td>\n",
       "      <td>0.956537</td>\n",
       "      <td>-0.193531</td>\n",
       "      <td>-0.092128</td>\n",
       "      <td>1</td>\n",
       "    </tr>\n",
       "    <tr>\n",
       "      <th>3</th>\n",
       "      <td>Angola</td>\n",
       "      <td>119.0</td>\n",
       "      <td>2199.19</td>\n",
       "      <td>100.6050</td>\n",
       "      <td>1514.370</td>\n",
       "      <td>5900</td>\n",
       "      <td>22.40</td>\n",
       "      <td>60.1</td>\n",
       "      <td>6.16</td>\n",
       "      <td>3530</td>\n",
       "      <td>-2.723472</td>\n",
       "      <td>2.174966</td>\n",
       "      <td>0.597397</td>\n",
       "      <td>0.417695</td>\n",
       "      <td>0.056694</td>\n",
       "      <td>2</td>\n",
       "    </tr>\n",
       "    <tr>\n",
       "      <th>4</th>\n",
       "      <td>Antigua and Barbuda</td>\n",
       "      <td>10.3</td>\n",
       "      <td>5551.00</td>\n",
       "      <td>735.6600</td>\n",
       "      <td>7185.800</td>\n",
       "      <td>19100</td>\n",
       "      <td>1.44</td>\n",
       "      <td>76.8</td>\n",
       "      <td>2.13</td>\n",
       "      <td>12200</td>\n",
       "      <td>0.649103</td>\n",
       "      <td>-1.026404</td>\n",
       "      <td>-0.258645</td>\n",
       "      <td>-0.276882</td>\n",
       "      <td>0.077087</td>\n",
       "      <td>1</td>\n",
       "    </tr>\n",
       "  </tbody>\n",
       "</table>\n",
       "</div>"
      ],
      "text/plain": [
       "               country  child_mort  exports    health   imports  income  \\\n",
       "0          Afghanistan        90.2    55.30   41.9174   248.297    1610   \n",
       "1              Albania        16.6  1145.20  267.8950  1987.740    9930   \n",
       "2              Algeria        27.3  1712.64  185.9820  1400.440   12900   \n",
       "3               Angola       119.0  2199.19  100.6050  1514.370    5900   \n",
       "4  Antigua and Barbuda        10.3  5551.00  735.6600  7185.800   19100   \n",
       "\n",
       "   inflation  life_expec  total_fer   gdpp       PC1       PC2       PC3  \\\n",
       "0       9.44        56.2       5.82    553 -2.636338  1.472260 -0.548330   \n",
       "1       4.49        76.3       1.65   4090 -0.023783 -1.435535 -0.015470   \n",
       "2      16.10        76.5       2.89   4460 -0.459228 -0.679705  0.956537   \n",
       "3      22.40        60.1       6.16   3530 -2.723472  2.174966  0.597397   \n",
       "4       1.44        76.8       2.13  12200  0.649103 -1.026404 -0.258645   \n",
       "\n",
       "        PC4       PC5  ClusterID  \n",
       "0  0.238302  0.061003          2  \n",
       "1 -0.428278 -0.154305          1  \n",
       "2 -0.193531 -0.092128          1  \n",
       "3  0.417695  0.056694          2  \n",
       "4 -0.276882  0.077087          1  "
      ]
     },
     "execution_count": 50,
     "metadata": {},
     "output_type": "execute_result"
    }
   ],
   "source": [
    "dat5=pd.merge(Country_data,dat_km, left_index=True,right_index=True)\n",
    "dat5.head()"
   ]
  },
  {
   "cell_type": "markdown",
   "metadata": {},
   "source": [
    "##### Dropping all the principal components from merged  dataframe."
   ]
  },
  {
   "cell_type": "code",
   "execution_count": 51,
   "metadata": {},
   "outputs": [
    {
     "data": {
      "text/html": [
       "<div>\n",
       "<style scoped>\n",
       "    .dataframe tbody tr th:only-of-type {\n",
       "        vertical-align: middle;\n",
       "    }\n",
       "\n",
       "    .dataframe tbody tr th {\n",
       "        vertical-align: top;\n",
       "    }\n",
       "\n",
       "    .dataframe thead th {\n",
       "        text-align: right;\n",
       "    }\n",
       "</style>\n",
       "<table border=\"1\" class=\"dataframe\">\n",
       "  <thead>\n",
       "    <tr style=\"text-align: right;\">\n",
       "      <th></th>\n",
       "      <th>country</th>\n",
       "      <th>child_mort</th>\n",
       "      <th>exports</th>\n",
       "      <th>health</th>\n",
       "      <th>imports</th>\n",
       "      <th>income</th>\n",
       "      <th>inflation</th>\n",
       "      <th>life_expec</th>\n",
       "      <th>total_fer</th>\n",
       "      <th>gdpp</th>\n",
       "      <th>ClusterID</th>\n",
       "    </tr>\n",
       "  </thead>\n",
       "  <tbody>\n",
       "    <tr>\n",
       "      <th>0</th>\n",
       "      <td>Afghanistan</td>\n",
       "      <td>90.2</td>\n",
       "      <td>55.30</td>\n",
       "      <td>41.9174</td>\n",
       "      <td>248.297</td>\n",
       "      <td>1610</td>\n",
       "      <td>9.44</td>\n",
       "      <td>56.2</td>\n",
       "      <td>5.82</td>\n",
       "      <td>553</td>\n",
       "      <td>2</td>\n",
       "    </tr>\n",
       "    <tr>\n",
       "      <th>1</th>\n",
       "      <td>Albania</td>\n",
       "      <td>16.6</td>\n",
       "      <td>1145.20</td>\n",
       "      <td>267.8950</td>\n",
       "      <td>1987.740</td>\n",
       "      <td>9930</td>\n",
       "      <td>4.49</td>\n",
       "      <td>76.3</td>\n",
       "      <td>1.65</td>\n",
       "      <td>4090</td>\n",
       "      <td>1</td>\n",
       "    </tr>\n",
       "    <tr>\n",
       "      <th>2</th>\n",
       "      <td>Algeria</td>\n",
       "      <td>27.3</td>\n",
       "      <td>1712.64</td>\n",
       "      <td>185.9820</td>\n",
       "      <td>1400.440</td>\n",
       "      <td>12900</td>\n",
       "      <td>16.10</td>\n",
       "      <td>76.5</td>\n",
       "      <td>2.89</td>\n",
       "      <td>4460</td>\n",
       "      <td>1</td>\n",
       "    </tr>\n",
       "    <tr>\n",
       "      <th>3</th>\n",
       "      <td>Angola</td>\n",
       "      <td>119.0</td>\n",
       "      <td>2199.19</td>\n",
       "      <td>100.6050</td>\n",
       "      <td>1514.370</td>\n",
       "      <td>5900</td>\n",
       "      <td>22.40</td>\n",
       "      <td>60.1</td>\n",
       "      <td>6.16</td>\n",
       "      <td>3530</td>\n",
       "      <td>2</td>\n",
       "    </tr>\n",
       "    <tr>\n",
       "      <th>4</th>\n",
       "      <td>Antigua and Barbuda</td>\n",
       "      <td>10.3</td>\n",
       "      <td>5551.00</td>\n",
       "      <td>735.6600</td>\n",
       "      <td>7185.800</td>\n",
       "      <td>19100</td>\n",
       "      <td>1.44</td>\n",
       "      <td>76.8</td>\n",
       "      <td>2.13</td>\n",
       "      <td>12200</td>\n",
       "      <td>1</td>\n",
       "    </tr>\n",
       "  </tbody>\n",
       "</table>\n",
       "</div>"
      ],
      "text/plain": [
       "               country  child_mort  exports    health   imports  income  \\\n",
       "0          Afghanistan        90.2    55.30   41.9174   248.297    1610   \n",
       "1              Albania        16.6  1145.20  267.8950  1987.740    9930   \n",
       "2              Algeria        27.3  1712.64  185.9820  1400.440   12900   \n",
       "3               Angola       119.0  2199.19  100.6050  1514.370    5900   \n",
       "4  Antigua and Barbuda        10.3  5551.00  735.6600  7185.800   19100   \n",
       "\n",
       "   inflation  life_expec  total_fer   gdpp  ClusterID  \n",
       "0       9.44        56.2       5.82    553          2  \n",
       "1       4.49        76.3       1.65   4090          1  \n",
       "2      16.10        76.5       2.89   4460          1  \n",
       "3      22.40        60.1       6.16   3530          2  \n",
       "4       1.44        76.8       2.13  12200          1  "
      ]
     },
     "execution_count": 51,
     "metadata": {},
     "output_type": "execute_result"
    }
   ],
   "source": [
    "dat6=dat5.drop(['PC1','PC2','PC3','PC4','PC5'],axis=1)\n",
    "dat6.head()"
   ]
  },
  {
   "cell_type": "code",
   "execution_count": 52,
   "metadata": {},
   "outputs": [
    {
     "data": {
      "text/plain": [
       "(167, 11)"
      ]
     },
     "execution_count": 52,
     "metadata": {},
     "output_type": "execute_result"
    }
   ],
   "source": [
    "dat6.shape"
   ]
  },
  {
   "cell_type": "markdown",
   "metadata": {},
   "source": [
    "- So we have performed the clustering using the PCs and have now allocated the clusterIDs back to GDPP, child_mort, income of the datapoints.\n",
    "\n",
    "### Analysis of the clusters\n",
    "\n",
    "- calculating the mean of all the variables of each clusters. "
   ]
  },
  {
   "cell_type": "code",
   "execution_count": 53,
   "metadata": {},
   "outputs": [],
   "source": [
    "Cluster_GDPP=pd.DataFrame(dat6.groupby([\"ClusterID\"]).gdpp.mean())\n",
    "Cluster_child_mort=pd.DataFrame(dat6.groupby([\"ClusterID\"]).child_mort.mean())\n",
    "Cluster_exports=pd.DataFrame(dat6.groupby([\"ClusterID\"]).exports.mean())\n",
    "Cluster_income=pd.DataFrame(dat6.groupby([\"ClusterID\"]).income.mean())\n",
    "Cluster_health=pd.DataFrame(dat6.groupby([\"ClusterID\"]).health.mean())\n",
    "Cluster_imports=pd.DataFrame(dat6.groupby([\"ClusterID\"]).imports.mean())\n",
    "Cluster_inflation=pd.DataFrame(dat6.groupby([\"ClusterID\"]).inflation.mean())\n",
    "Cluster_life_expec=pd.DataFrame(dat6.groupby([\"ClusterID\"]).life_expec.mean())\n",
    "Cluster_total_fer=pd.DataFrame(dat6.groupby([\"ClusterID\"]).total_fer.mean())"
   ]
  },
  {
   "cell_type": "markdown",
   "metadata": {},
   "source": [
    "- Concatenating all the grouped by data to create a new dataframe to find required mean."
   ]
  },
  {
   "cell_type": "code",
   "execution_count": 54,
   "metadata": {},
   "outputs": [],
   "source": [
    "df = pd.concat([Cluster_GDPP,Cluster_child_mort,Cluster_income,Cluster_exports,Cluster_health,\n",
    "                Cluster_imports,Cluster_inflation,Cluster_life_expec,Cluster_total_fer], axis=1)"
   ]
  },
  {
   "cell_type": "markdown",
   "metadata": {},
   "source": [
    "- Creating a dataframe of mean of all the variables of all the clusters "
   ]
  },
  {
   "cell_type": "code",
   "execution_count": 55,
   "metadata": {},
   "outputs": [
    {
     "data": {
      "text/html": [
       "<div>\n",
       "<style scoped>\n",
       "    .dataframe tbody tr th:only-of-type {\n",
       "        vertical-align: middle;\n",
       "    }\n",
       "\n",
       "    .dataframe tbody tr th {\n",
       "        vertical-align: top;\n",
       "    }\n",
       "\n",
       "    .dataframe thead th {\n",
       "        text-align: right;\n",
       "    }\n",
       "</style>\n",
       "<table border=\"1\" class=\"dataframe\">\n",
       "  <thead>\n",
       "    <tr style=\"text-align: right;\">\n",
       "      <th></th>\n",
       "      <th>GDPP</th>\n",
       "      <th>child_mort</th>\n",
       "      <th>income</th>\n",
       "      <th>exports</th>\n",
       "      <th>health</th>\n",
       "      <th>imports</th>\n",
       "      <th>inflation</th>\n",
       "      <th>life_expec</th>\n",
       "      <th>total_fer</th>\n",
       "    </tr>\n",
       "    <tr>\n",
       "      <th>ClusterID</th>\n",
       "      <th></th>\n",
       "      <th></th>\n",
       "      <th></th>\n",
       "      <th></th>\n",
       "      <th></th>\n",
       "      <th></th>\n",
       "      <th></th>\n",
       "      <th></th>\n",
       "      <th></th>\n",
       "    </tr>\n",
       "  </thead>\n",
       "  <tbody>\n",
       "    <tr>\n",
       "      <th>0</th>\n",
       "      <td>48114.285714</td>\n",
       "      <td>5.046429</td>\n",
       "      <td>50178.571429</td>\n",
       "      <td>31038.239286</td>\n",
       "      <td>4327.163214</td>\n",
       "      <td>25818.100000</td>\n",
       "      <td>3.014679</td>\n",
       "      <td>80.514286</td>\n",
       "      <td>1.760714</td>\n",
       "    </tr>\n",
       "    <tr>\n",
       "      <th>1</th>\n",
       "      <td>7979.912088</td>\n",
       "      <td>20.357143</td>\n",
       "      <td>13968.021978</td>\n",
       "      <td>3604.149434</td>\n",
       "      <td>547.279455</td>\n",
       "      <td>3710.446386</td>\n",
       "      <td>7.070549</td>\n",
       "      <td>73.460440</td>\n",
       "      <td>2.235055</td>\n",
       "    </tr>\n",
       "    <tr>\n",
       "      <th>2</th>\n",
       "      <td>1909.208333</td>\n",
       "      <td>91.610417</td>\n",
       "      <td>3897.354167</td>\n",
       "      <td>879.063521</td>\n",
       "      <td>114.821765</td>\n",
       "      <td>827.028771</td>\n",
       "      <td>11.911146</td>\n",
       "      <td>59.239583</td>\n",
       "      <td>4.992083</td>\n",
       "    </tr>\n",
       "  </tbody>\n",
       "</table>\n",
       "</div>"
      ],
      "text/plain": [
       "                   GDPP  child_mort        income       exports       health  \\\n",
       "ClusterID                                                                      \n",
       "0          48114.285714    5.046429  50178.571429  31038.239286  4327.163214   \n",
       "1           7979.912088   20.357143  13968.021978   3604.149434   547.279455   \n",
       "2           1909.208333   91.610417   3897.354167    879.063521   114.821765   \n",
       "\n",
       "                imports  inflation  life_expec  total_fer  \n",
       "ClusterID                                                  \n",
       "0          25818.100000   3.014679   80.514286   1.760714  \n",
       "1           3710.446386   7.070549   73.460440   2.235055  \n",
       "2            827.028771  11.911146   59.239583   4.992083  "
      ]
     },
     "execution_count": 55,
     "metadata": {},
     "output_type": "execute_result"
    }
   ],
   "source": [
    "df.columns = [\"GDPP\",\"child_mort\",\"income\",\"exports\",\"health\",\"imports\",\"inflation\",\"life_expec\",\"total_fer\"]\n",
    "df"
   ]
  },
  {
   "cell_type": "markdown",
   "metadata": {},
   "source": [
    "- Analysing the clusters by comparing how the [gdpp, child_mort and income] vary for each cluster of countries to recognise and differentiate the clusters of developed countries from the clusters of under-developed countries.\n",
    "\n",
    "- From above dataframe of means, we got the mean data of under-developed countries. So, creating a dataframe on the basis of same."
   ]
  },
  {
   "cell_type": "code",
   "execution_count": 56,
   "metadata": {},
   "outputs": [
    {
     "data": {
      "image/png": "[encoded data removed]",
      "text/plain": [
       "<Figure size 720x432 with 1 Axes>"
      ]
     },
     "metadata": {
      "needs_background": "light"
     },
     "output_type": "display_data"
    }
   ],
   "source": [
    "fig = plt.figure(figsize = (10,6))\n",
    "df.rename(index={0: 'Developed Countries'},inplace=True)\n",
    "df.rename(index={1: 'Developing Countries'},inplace=True)\n",
    "df.rename(index={2: 'Under-developed Countries'},inplace=True)\n",
    "s=sns.barplot(x=df.index,y='GDPP',data=df)\n",
    "plt.xlabel('Country Groups', fontsize=10)\n",
    "plt.ylabel('GDP per Capita', fontsize=10)\n",
    "plt.title('Country Groups On the basis of GDPP')\n",
    "plt.show()"
   ]
  },
  {
   "cell_type": "markdown",
   "metadata": {},
   "source": [
    "- Above bar chart shows that, all the developed countries are having high GDP per capita values, developing countries are having average GDP per capita values and poor countries are having the least GDPP values."
   ]
  },
  {
   "cell_type": "code",
   "execution_count": 57,
   "metadata": {},
   "outputs": [
    {
     "data": {
      "image/png": "[encoded data removed]",
      "text/plain": [
       "<Figure size 720x432 with 1 Axes>"
      ]
     },
     "metadata": {
      "needs_background": "light"
     },
     "output_type": "display_data"
    }
   ],
   "source": [
    "fig = plt.figure(figsize = (10,6))\n",
    "sns.barplot(x=df.index,y='income',data=df)\n",
    "plt.xlabel('Country Groups', fontsize=10)\n",
    "plt.title('Country Groups On the basis of Income')\n",
    "plt.show()"
   ]
  },
  {
   "cell_type": "markdown",
   "metadata": {},
   "source": [
    "- Similarly, Above bar chart shows that, all the developed countries are having high income per person, developing countries are having average income per person and poor countries are having the least income per person."
   ]
  },
  {
   "cell_type": "code",
   "execution_count": 58,
   "metadata": {},
   "outputs": [
    {
     "data": {
      "image/png": "[encoded data removed]",
      "text/plain": [
       "<Figure size 720x432 with 1 Axes>"
      ]
     },
     "metadata": {
      "needs_background": "light"
     },
     "output_type": "display_data"
    }
   ],
   "source": [
    "fig = plt.figure(figsize = (10,6))\n",
    "sns.barplot(x=df.index,y='child_mort',data=df)\n",
    "plt.xlabel('Country Groups', fontsize=10)\n",
    "plt.title('Country Groups On the basis of Child_mort Rate')\n",
    "plt.show()"
   ]
  },
  {
   "cell_type": "markdown",
   "metadata": {},
   "source": [
    "So, Above bar chart shows that, all the developed countries are having low number of death of children under 5 years of age per 1000 live births, developing countries are having average death rate and poor countries are having the least daeth rate."
   ]
  },
  {
   "cell_type": "code",
   "execution_count": 59,
   "metadata": {},
   "outputs": [],
   "source": [
    "#Let's use the concept of binning\n",
    "fin=Country_data[Country_data['gdpp']<=1909]\n",
    "fin=fin[fin['child_mort']>= 92]\n",
    "fin=fin[fin['income']<= 3897.35]"
   ]
  },
  {
   "cell_type": "markdown",
   "metadata": {},
   "source": [
    "- Merging to get the cluster ids"
   ]
  },
  {
   "cell_type": "code",
   "execution_count": 60,
   "metadata": {},
   "outputs": [],
   "source": [
    "fin_k=pd.merge(fin,dat_km,left_index=True,right_index=True)"
   ]
  },
  {
   "cell_type": "code",
   "execution_count": 61,
   "metadata": {},
   "outputs": [],
   "source": [
    "fin_k=fin_k.drop(['PC1','PC2','PC3','PC4','PC5'],axis=1)"
   ]
  },
  {
   "cell_type": "code",
   "execution_count": 62,
   "metadata": {},
   "outputs": [
    {
     "data": {
      "text/plain": [
       "(17, 11)"
      ]
     },
     "execution_count": 62,
     "metadata": {},
     "output_type": "execute_result"
    }
   ],
   "source": [
    "fin_k.shape"
   ]
  },
  {
   "cell_type": "markdown",
   "metadata": {},
   "source": [
    "- After merging, we are getting 17 under-developed countries, where gdpp, income are less but child_mort is more."
   ]
  },
  {
   "cell_type": "code",
   "execution_count": 63,
   "metadata": {},
   "outputs": [
    {
     "data": {
      "text/html": [
       "<div>\n",
       "<style scoped>\n",
       "    .dataframe tbody tr th:only-of-type {\n",
       "        vertical-align: middle;\n",
       "    }\n",
       "\n",
       "    .dataframe tbody tr th {\n",
       "        vertical-align: top;\n",
       "    }\n",
       "\n",
       "    .dataframe thead th {\n",
       "        text-align: right;\n",
       "    }\n",
       "</style>\n",
       "<table border=\"1\" class=\"dataframe\">\n",
       "  <thead>\n",
       "    <tr style=\"text-align: right;\">\n",
       "      <th></th>\n",
       "      <th>country</th>\n",
       "      <th>child_mort</th>\n",
       "      <th>exports</th>\n",
       "      <th>health</th>\n",
       "      <th>imports</th>\n",
       "      <th>income</th>\n",
       "      <th>inflation</th>\n",
       "      <th>life_expec</th>\n",
       "      <th>total_fer</th>\n",
       "      <th>gdpp</th>\n",
       "      <th>ClusterID</th>\n",
       "    </tr>\n",
       "  </thead>\n",
       "  <tbody>\n",
       "    <tr>\n",
       "      <th>26</th>\n",
       "      <td>Burundi</td>\n",
       "      <td>93.6</td>\n",
       "      <td>20.6052</td>\n",
       "      <td>26.7960</td>\n",
       "      <td>90.552</td>\n",
       "      <td>764</td>\n",
       "      <td>12.30</td>\n",
       "      <td>57.7</td>\n",
       "      <td>6.26</td>\n",
       "      <td>231</td>\n",
       "      <td>2</td>\n",
       "    </tr>\n",
       "    <tr>\n",
       "      <th>37</th>\n",
       "      <td>Congo, Dem. Rep.</td>\n",
       "      <td>116.0</td>\n",
       "      <td>137.2740</td>\n",
       "      <td>26.4194</td>\n",
       "      <td>165.664</td>\n",
       "      <td>609</td>\n",
       "      <td>20.80</td>\n",
       "      <td>57.5</td>\n",
       "      <td>6.54</td>\n",
       "      <td>334</td>\n",
       "      <td>2</td>\n",
       "    </tr>\n",
       "    <tr>\n",
       "      <th>112</th>\n",
       "      <td>Niger</td>\n",
       "      <td>123.0</td>\n",
       "      <td>77.2560</td>\n",
       "      <td>17.9568</td>\n",
       "      <td>170.868</td>\n",
       "      <td>814</td>\n",
       "      <td>2.55</td>\n",
       "      <td>58.8</td>\n",
       "      <td>7.49</td>\n",
       "      <td>348</td>\n",
       "      <td>2</td>\n",
       "    </tr>\n",
       "    <tr>\n",
       "      <th>132</th>\n",
       "      <td>Sierra Leone</td>\n",
       "      <td>160.0</td>\n",
       "      <td>67.0320</td>\n",
       "      <td>52.2690</td>\n",
       "      <td>137.655</td>\n",
       "      <td>1220</td>\n",
       "      <td>17.20</td>\n",
       "      <td>55.0</td>\n",
       "      <td>5.20</td>\n",
       "      <td>399</td>\n",
       "      <td>2</td>\n",
       "    </tr>\n",
       "    <tr>\n",
       "      <th>106</th>\n",
       "      <td>Mozambique</td>\n",
       "      <td>101.0</td>\n",
       "      <td>131.9850</td>\n",
       "      <td>21.8299</td>\n",
       "      <td>193.578</td>\n",
       "      <td>918</td>\n",
       "      <td>7.64</td>\n",
       "      <td>54.5</td>\n",
       "      <td>5.56</td>\n",
       "      <td>419</td>\n",
       "      <td>2</td>\n",
       "    </tr>\n",
       "    <tr>\n",
       "      <th>31</th>\n",
       "      <td>Central African Republic</td>\n",
       "      <td>149.0</td>\n",
       "      <td>52.6280</td>\n",
       "      <td>17.7508</td>\n",
       "      <td>118.190</td>\n",
       "      <td>888</td>\n",
       "      <td>2.01</td>\n",
       "      <td>47.5</td>\n",
       "      <td>5.21</td>\n",
       "      <td>446</td>\n",
       "      <td>2</td>\n",
       "    </tr>\n",
       "    <tr>\n",
       "      <th>64</th>\n",
       "      <td>Guinea-Bissau</td>\n",
       "      <td>114.0</td>\n",
       "      <td>81.5030</td>\n",
       "      <td>46.4950</td>\n",
       "      <td>192.544</td>\n",
       "      <td>1390</td>\n",
       "      <td>2.97</td>\n",
       "      <td>55.6</td>\n",
       "      <td>5.05</td>\n",
       "      <td>547</td>\n",
       "      <td>2</td>\n",
       "    </tr>\n",
       "    <tr>\n",
       "      <th>25</th>\n",
       "      <td>Burkina Faso</td>\n",
       "      <td>116.0</td>\n",
       "      <td>110.4000</td>\n",
       "      <td>38.7550</td>\n",
       "      <td>170.200</td>\n",
       "      <td>1430</td>\n",
       "      <td>6.81</td>\n",
       "      <td>57.9</td>\n",
       "      <td>5.87</td>\n",
       "      <td>575</td>\n",
       "      <td>2</td>\n",
       "    </tr>\n",
       "  </tbody>\n",
       "</table>\n",
       "</div>"
      ],
      "text/plain": [
       "                      country  child_mort   exports   health  imports  income  \\\n",
       "26                    Burundi        93.6   20.6052  26.7960   90.552     764   \n",
       "37           Congo, Dem. Rep.       116.0  137.2740  26.4194  165.664     609   \n",
       "112                     Niger       123.0   77.2560  17.9568  170.868     814   \n",
       "132              Sierra Leone       160.0   67.0320  52.2690  137.655    1220   \n",
       "106                Mozambique       101.0  131.9850  21.8299  193.578     918   \n",
       "31   Central African Republic       149.0   52.6280  17.7508  118.190     888   \n",
       "64              Guinea-Bissau       114.0   81.5030  46.4950  192.544    1390   \n",
       "25               Burkina Faso       116.0  110.4000  38.7550  170.200    1430   \n",
       "\n",
       "     inflation  life_expec  total_fer  gdpp  ClusterID  \n",
       "26       12.30        57.7       6.26   231          2  \n",
       "37       20.80        57.5       6.54   334          2  \n",
       "112       2.55        58.8       7.49   348          2  \n",
       "132      17.20        55.0       5.20   399          2  \n",
       "106       7.64        54.5       5.56   419          2  \n",
       "31        2.01        47.5       5.21   446          2  \n",
       "64        2.97        55.6       5.05   547          2  \n",
       "25        6.81        57.9       5.87   575          2  "
      ]
     },
     "execution_count": 63,
     "metadata": {},
     "output_type": "execute_result"
    }
   ],
   "source": [
    "fin_k_GDPP=fin_k.nsmallest(8,'gdpp')\n",
    "fin_k_GDPP"
   ]
  },
  {
   "cell_type": "markdown",
   "metadata": {},
   "source": [
    "- Above list shows all the top low GDPP countries."
   ]
  },
  {
   "cell_type": "code",
   "execution_count": 64,
   "metadata": {},
   "outputs": [
    {
     "data": {
      "text/html": [
       "<div>\n",
       "<style scoped>\n",
       "    .dataframe tbody tr th:only-of-type {\n",
       "        vertical-align: middle;\n",
       "    }\n",
       "\n",
       "    .dataframe tbody tr th {\n",
       "        vertical-align: top;\n",
       "    }\n",
       "\n",
       "    .dataframe thead th {\n",
       "        text-align: right;\n",
       "    }\n",
       "</style>\n",
       "<table border=\"1\" class=\"dataframe\">\n",
       "  <thead>\n",
       "    <tr style=\"text-align: right;\">\n",
       "      <th></th>\n",
       "      <th>country</th>\n",
       "      <th>child_mort</th>\n",
       "      <th>exports</th>\n",
       "      <th>health</th>\n",
       "      <th>imports</th>\n",
       "      <th>income</th>\n",
       "      <th>inflation</th>\n",
       "      <th>life_expec</th>\n",
       "      <th>total_fer</th>\n",
       "      <th>gdpp</th>\n",
       "      <th>ClusterID</th>\n",
       "    </tr>\n",
       "  </thead>\n",
       "  <tbody>\n",
       "    <tr>\n",
       "      <th>37</th>\n",
       "      <td>Congo, Dem. Rep.</td>\n",
       "      <td>116.0</td>\n",
       "      <td>137.2740</td>\n",
       "      <td>26.4194</td>\n",
       "      <td>165.664</td>\n",
       "      <td>609</td>\n",
       "      <td>20.80</td>\n",
       "      <td>57.5</td>\n",
       "      <td>6.54</td>\n",
       "      <td>334</td>\n",
       "      <td>2</td>\n",
       "    </tr>\n",
       "    <tr>\n",
       "      <th>26</th>\n",
       "      <td>Burundi</td>\n",
       "      <td>93.6</td>\n",
       "      <td>20.6052</td>\n",
       "      <td>26.7960</td>\n",
       "      <td>90.552</td>\n",
       "      <td>764</td>\n",
       "      <td>12.30</td>\n",
       "      <td>57.7</td>\n",
       "      <td>6.26</td>\n",
       "      <td>231</td>\n",
       "      <td>2</td>\n",
       "    </tr>\n",
       "    <tr>\n",
       "      <th>112</th>\n",
       "      <td>Niger</td>\n",
       "      <td>123.0</td>\n",
       "      <td>77.2560</td>\n",
       "      <td>17.9568</td>\n",
       "      <td>170.868</td>\n",
       "      <td>814</td>\n",
       "      <td>2.55</td>\n",
       "      <td>58.8</td>\n",
       "      <td>7.49</td>\n",
       "      <td>348</td>\n",
       "      <td>2</td>\n",
       "    </tr>\n",
       "    <tr>\n",
       "      <th>31</th>\n",
       "      <td>Central African Republic</td>\n",
       "      <td>149.0</td>\n",
       "      <td>52.6280</td>\n",
       "      <td>17.7508</td>\n",
       "      <td>118.190</td>\n",
       "      <td>888</td>\n",
       "      <td>2.01</td>\n",
       "      <td>47.5</td>\n",
       "      <td>5.21</td>\n",
       "      <td>446</td>\n",
       "      <td>2</td>\n",
       "    </tr>\n",
       "    <tr>\n",
       "      <th>106</th>\n",
       "      <td>Mozambique</td>\n",
       "      <td>101.0</td>\n",
       "      <td>131.9850</td>\n",
       "      <td>21.8299</td>\n",
       "      <td>193.578</td>\n",
       "      <td>918</td>\n",
       "      <td>7.64</td>\n",
       "      <td>54.5</td>\n",
       "      <td>5.56</td>\n",
       "      <td>419</td>\n",
       "      <td>2</td>\n",
       "    </tr>\n",
       "    <tr>\n",
       "      <th>63</th>\n",
       "      <td>Guinea</td>\n",
       "      <td>109.0</td>\n",
       "      <td>196.3440</td>\n",
       "      <td>31.9464</td>\n",
       "      <td>279.936</td>\n",
       "      <td>1190</td>\n",
       "      <td>16.10</td>\n",
       "      <td>58.0</td>\n",
       "      <td>5.34</td>\n",
       "      <td>648</td>\n",
       "      <td>2</td>\n",
       "    </tr>\n",
       "    <tr>\n",
       "      <th>132</th>\n",
       "      <td>Sierra Leone</td>\n",
       "      <td>160.0</td>\n",
       "      <td>67.0320</td>\n",
       "      <td>52.2690</td>\n",
       "      <td>137.655</td>\n",
       "      <td>1220</td>\n",
       "      <td>17.20</td>\n",
       "      <td>55.0</td>\n",
       "      <td>5.20</td>\n",
       "      <td>399</td>\n",
       "      <td>2</td>\n",
       "    </tr>\n",
       "    <tr>\n",
       "      <th>64</th>\n",
       "      <td>Guinea-Bissau</td>\n",
       "      <td>114.0</td>\n",
       "      <td>81.5030</td>\n",
       "      <td>46.4950</td>\n",
       "      <td>192.544</td>\n",
       "      <td>1390</td>\n",
       "      <td>2.97</td>\n",
       "      <td>55.6</td>\n",
       "      <td>5.05</td>\n",
       "      <td>547</td>\n",
       "      <td>2</td>\n",
       "    </tr>\n",
       "  </tbody>\n",
       "</table>\n",
       "</div>"
      ],
      "text/plain": [
       "                      country  child_mort   exports   health  imports  income  \\\n",
       "37           Congo, Dem. Rep.       116.0  137.2740  26.4194  165.664     609   \n",
       "26                    Burundi        93.6   20.6052  26.7960   90.552     764   \n",
       "112                     Niger       123.0   77.2560  17.9568  170.868     814   \n",
       "31   Central African Republic       149.0   52.6280  17.7508  118.190     888   \n",
       "106                Mozambique       101.0  131.9850  21.8299  193.578     918   \n",
       "63                     Guinea       109.0  196.3440  31.9464  279.936    1190   \n",
       "132              Sierra Leone       160.0   67.0320  52.2690  137.655    1220   \n",
       "64              Guinea-Bissau       114.0   81.5030  46.4950  192.544    1390   \n",
       "\n",
       "     inflation  life_expec  total_fer  gdpp  ClusterID  \n",
       "37       20.80        57.5       6.54   334          2  \n",
       "26       12.30        57.7       6.26   231          2  \n",
       "112       2.55        58.8       7.49   348          2  \n",
       "31        2.01        47.5       5.21   446          2  \n",
       "106       7.64        54.5       5.56   419          2  \n",
       "63       16.10        58.0       5.34   648          2  \n",
       "132      17.20        55.0       5.20   399          2  \n",
       "64        2.97        55.6       5.05   547          2  "
      ]
     },
     "execution_count": 64,
     "metadata": {},
     "output_type": "execute_result"
    }
   ],
   "source": [
    "fin_k_income=fin_k.nsmallest(8,'income')\n",
    "fin_k_income"
   ]
  },
  {
   "cell_type": "markdown",
   "metadata": {},
   "source": [
    "- Above list shows all the top low income countries."
   ]
  },
  {
   "cell_type": "code",
   "execution_count": 65,
   "metadata": {},
   "outputs": [
    {
     "data": {
      "text/html": [
       "<div>\n",
       "<style scoped>\n",
       "    .dataframe tbody tr th:only-of-type {\n",
       "        vertical-align: middle;\n",
       "    }\n",
       "\n",
       "    .dataframe tbody tr th {\n",
       "        vertical-align: top;\n",
       "    }\n",
       "\n",
       "    .dataframe thead th {\n",
       "        text-align: right;\n",
       "    }\n",
       "</style>\n",
       "<table border=\"1\" class=\"dataframe\">\n",
       "  <thead>\n",
       "    <tr style=\"text-align: right;\">\n",
       "      <th></th>\n",
       "      <th>country</th>\n",
       "      <th>child_mort</th>\n",
       "      <th>exports</th>\n",
       "      <th>health</th>\n",
       "      <th>imports</th>\n",
       "      <th>income</th>\n",
       "      <th>inflation</th>\n",
       "      <th>life_expec</th>\n",
       "      <th>total_fer</th>\n",
       "      <th>gdpp</th>\n",
       "      <th>ClusterID</th>\n",
       "    </tr>\n",
       "  </thead>\n",
       "  <tbody>\n",
       "    <tr>\n",
       "      <th>66</th>\n",
       "      <td>Haiti</td>\n",
       "      <td>208.0</td>\n",
       "      <td>101.286</td>\n",
       "      <td>45.7442</td>\n",
       "      <td>428.314</td>\n",
       "      <td>1500</td>\n",
       "      <td>5.45</td>\n",
       "      <td>32.1</td>\n",
       "      <td>3.33</td>\n",
       "      <td>662</td>\n",
       "      <td>2</td>\n",
       "    </tr>\n",
       "    <tr>\n",
       "      <th>132</th>\n",
       "      <td>Sierra Leone</td>\n",
       "      <td>160.0</td>\n",
       "      <td>67.032</td>\n",
       "      <td>52.2690</td>\n",
       "      <td>137.655</td>\n",
       "      <td>1220</td>\n",
       "      <td>17.20</td>\n",
       "      <td>55.0</td>\n",
       "      <td>5.20</td>\n",
       "      <td>399</td>\n",
       "      <td>2</td>\n",
       "    </tr>\n",
       "    <tr>\n",
       "      <th>32</th>\n",
       "      <td>Chad</td>\n",
       "      <td>150.0</td>\n",
       "      <td>330.096</td>\n",
       "      <td>40.6341</td>\n",
       "      <td>390.195</td>\n",
       "      <td>1930</td>\n",
       "      <td>6.39</td>\n",
       "      <td>56.5</td>\n",
       "      <td>6.59</td>\n",
       "      <td>897</td>\n",
       "      <td>2</td>\n",
       "    </tr>\n",
       "    <tr>\n",
       "      <th>31</th>\n",
       "      <td>Central African Republic</td>\n",
       "      <td>149.0</td>\n",
       "      <td>52.628</td>\n",
       "      <td>17.7508</td>\n",
       "      <td>118.190</td>\n",
       "      <td>888</td>\n",
       "      <td>2.01</td>\n",
       "      <td>47.5</td>\n",
       "      <td>5.21</td>\n",
       "      <td>446</td>\n",
       "      <td>2</td>\n",
       "    </tr>\n",
       "    <tr>\n",
       "      <th>97</th>\n",
       "      <td>Mali</td>\n",
       "      <td>137.0</td>\n",
       "      <td>161.424</td>\n",
       "      <td>35.2584</td>\n",
       "      <td>248.508</td>\n",
       "      <td>1870</td>\n",
       "      <td>4.37</td>\n",
       "      <td>59.5</td>\n",
       "      <td>6.55</td>\n",
       "      <td>708</td>\n",
       "      <td>2</td>\n",
       "    </tr>\n",
       "    <tr>\n",
       "      <th>112</th>\n",
       "      <td>Niger</td>\n",
       "      <td>123.0</td>\n",
       "      <td>77.256</td>\n",
       "      <td>17.9568</td>\n",
       "      <td>170.868</td>\n",
       "      <td>814</td>\n",
       "      <td>2.55</td>\n",
       "      <td>58.8</td>\n",
       "      <td>7.49</td>\n",
       "      <td>348</td>\n",
       "      <td>2</td>\n",
       "    </tr>\n",
       "    <tr>\n",
       "      <th>25</th>\n",
       "      <td>Burkina Faso</td>\n",
       "      <td>116.0</td>\n",
       "      <td>110.400</td>\n",
       "      <td>38.7550</td>\n",
       "      <td>170.200</td>\n",
       "      <td>1430</td>\n",
       "      <td>6.81</td>\n",
       "      <td>57.9</td>\n",
       "      <td>5.87</td>\n",
       "      <td>575</td>\n",
       "      <td>2</td>\n",
       "    </tr>\n",
       "    <tr>\n",
       "      <th>37</th>\n",
       "      <td>Congo, Dem. Rep.</td>\n",
       "      <td>116.0</td>\n",
       "      <td>137.274</td>\n",
       "      <td>26.4194</td>\n",
       "      <td>165.664</td>\n",
       "      <td>609</td>\n",
       "      <td>20.80</td>\n",
       "      <td>57.5</td>\n",
       "      <td>6.54</td>\n",
       "      <td>334</td>\n",
       "      <td>2</td>\n",
       "    </tr>\n",
       "  </tbody>\n",
       "</table>\n",
       "</div>"
      ],
      "text/plain": [
       "                      country  child_mort  exports   health  imports  income  \\\n",
       "66                      Haiti       208.0  101.286  45.7442  428.314    1500   \n",
       "132              Sierra Leone       160.0   67.032  52.2690  137.655    1220   \n",
       "32                       Chad       150.0  330.096  40.6341  390.195    1930   \n",
       "31   Central African Republic       149.0   52.628  17.7508  118.190     888   \n",
       "97                       Mali       137.0  161.424  35.2584  248.508    1870   \n",
       "112                     Niger       123.0   77.256  17.9568  170.868     814   \n",
       "25               Burkina Faso       116.0  110.400  38.7550  170.200    1430   \n",
       "37           Congo, Dem. Rep.       116.0  137.274  26.4194  165.664     609   \n",
       "\n",
       "     inflation  life_expec  total_fer  gdpp  ClusterID  \n",
       "66        5.45        32.1       3.33   662          2  \n",
       "132      17.20        55.0       5.20   399          2  \n",
       "32        6.39        56.5       6.59   897          2  \n",
       "31        2.01        47.5       5.21   446          2  \n",
       "97        4.37        59.5       6.55   708          2  \n",
       "112       2.55        58.8       7.49   348          2  \n",
       "25        6.81        57.9       5.87   575          2  \n",
       "37       20.80        57.5       6.54   334          2  "
      ]
     },
     "execution_count": 65,
     "metadata": {},
     "output_type": "execute_result"
    }
   ],
   "source": [
    "fin_k_mort=fin_k.nlargest(8,'child_mort')\n",
    "fin_k_mort"
   ]
  },
  {
   "cell_type": "markdown",
   "metadata": {},
   "source": [
    "- Above list shows all the top high child mort countries."
   ]
  },
  {
   "cell_type": "code",
   "execution_count": 66,
   "metadata": {},
   "outputs": [
    {
     "data": {
      "image/png": "[encoded data removed]",
      "text/plain": [
       "<Figure size 864x576 with 1 Axes>"
      ]
     },
     "metadata": {
      "needs_background": "light"
     },
     "output_type": "display_data"
    }
   ],
   "source": [
    "fig = plt.figure(figsize = (12,8))\n",
    "sns.scatterplot(x='gdpp',y='income',hue='ClusterID',legend='full',data=dat6)\n",
    "plt.xlabel('GDP per Capita', fontsize=10)\n",
    "plt.ylabel('Income per Person', fontsize=10)\n",
    "plt.title('GDP per Capita vs Income per Person')\n",
    "plt.show()"
   ]
  },
  {
   "cell_type": "markdown",
   "metadata": {},
   "source": [
    "- From above scatter plot of gdpp and income, we can see there is some clustering like where gdpp is more, then income is also more."
   ]
  },
  {
   "cell_type": "code",
   "execution_count": 67,
   "metadata": {},
   "outputs": [
    {
     "data": {
      "image/png": "[encoded data removed]",
      "text/plain": [
       "<Figure size 864x576 with 1 Axes>"
      ]
     },
     "metadata": {
      "needs_background": "light"
     },
     "output_type": "display_data"
    }
   ],
   "source": [
    "fig = plt.figure(figsize = (12,8))\n",
    "sns.scatterplot(x='gdpp',y='child_mort',hue='ClusterID',legend='full',data=dat6)\n",
    "plt.xlabel('GDP per Capita', fontsize=10)\n",
    "plt.ylabel('Child_more rate', fontsize=10)\n",
    "plt.title('GDP per Capita vs Child_more rate')\n",
    "plt.show()"
   ]
  },
  {
   "cell_type": "markdown",
   "metadata": {},
   "source": [
    "- From above scatter plot of gdpp and child-mort, we can see there is some clustering where gdpp is more, there child-mort is low."
   ]
  },
  {
   "cell_type": "code",
   "execution_count": 68,
   "metadata": {},
   "outputs": [
    {
     "data": {
      "image/png": "[encoded data removed]",
      "text/plain": [
       "<Figure size 864x576 with 1 Axes>"
      ]
     },
     "metadata": {
      "needs_background": "light"
     },
     "output_type": "display_data"
    }
   ],
   "source": [
    "fig = plt.figure(figsize = (12,8))\n",
    "sns.boxplot(x='ClusterID',y='gdpp',data=dat6)\n",
    "plt.xlabel('Country Groups', fontsize=10)\n",
    "plt.ylabel('GDP per Capita', fontsize=10)\n",
    "plt.title('GDP per Capita of all the Country Groups')\n",
    "plt.show()"
   ]
  },
  {
   "cell_type": "markdown",
   "metadata": {},
   "source": [
    "- Here, Developed countries are falling under 1st cluster because of high gdpp range. Poor countries are falling under cluster 2."
   ]
  },
  {
   "cell_type": "code",
   "execution_count": 69,
   "metadata": {},
   "outputs": [
    {
     "data": {
      "image/png": "[encoded data removed]",
      "text/plain": [
       "<Figure size 864x576 with 1 Axes>"
      ]
     },
     "metadata": {
      "needs_background": "light"
     },
     "output_type": "display_data"
    }
   ],
   "source": [
    "fig = plt.figure(figsize = (12,8))\n",
    "sns.boxplot(x='ClusterID',y='income',data=dat6)\n",
    "plt.xlabel('Country Groups', fontsize=10)\n",
    "plt.ylabel('Income per person', fontsize=10)\n",
    "plt.title('Income per person of all the Country Groups')\n",
    "plt.show()"
   ]
  },
  {
   "cell_type": "markdown",
   "metadata": {},
   "source": [
    "Here, As Developed countries are falling under 1st cluster that is 0, So the income is in high range i.e. under cluster 0. Poor contries are falling under cluster 2 as per the income also."
   ]
  },
  {
   "cell_type": "code",
   "execution_count": 70,
   "metadata": {},
   "outputs": [
    {
     "data": {
      "image/png": "[encoded data removed]",
      "text/plain": [
       "<Figure size 864x576 with 1 Axes>"
      ]
     },
     "metadata": {
      "needs_background": "light"
     },
     "output_type": "display_data"
    }
   ],
   "source": [
    "fig = plt.figure(figsize = (12,8))\n",
    "sns.boxplot(x='ClusterID',y='child_mort',data=dat6)\n",
    "plt.xlabel('Country Groups', fontsize=10)\n",
    "plt.ylabel('Child_mort rate', fontsize=10)\n",
    "plt.title('Child_mort rate of all the Country Groups')\n",
    "plt.show()"
   ]
  },
  {
   "cell_type": "markdown",
   "metadata": {},
   "source": [
    "- From the above plots we can see poor countries are falling under cluster 2. So, the child_mort rate is more in these countries. "
   ]
  },
  {
   "cell_type": "code",
   "execution_count": 71,
   "metadata": {},
   "outputs": [],
   "source": [
    "Developed_con_K=dat6[dat6['ClusterID']==0]\n",
    "Avg_Developed_con_K=dat6[dat6['ClusterID']==1]\n",
    "Poor_con_K=dat6[dat6['ClusterID']==2]"
   ]
  },
  {
   "cell_type": "code",
   "execution_count": 72,
   "metadata": {},
   "outputs": [
    {
     "data": {
      "image/png": "[encoded data removed]",
      "text/plain": [
       "<Figure size 1296x432 with 1 Axes>"
      ]
     },
     "metadata": {
      "needs_background": "light"
     },
     "output_type": "display_data"
    }
   ],
   "source": [
    "fig = plt.figure(figsize = (18,6))\n",
    "s=sns.barplot(x='country',y='gdpp',data=Developed_con_K)\n",
    "s.set_xticklabels(s.get_xticklabels(),rotation=90)\n",
    "plt.xlabel('Country', fontsize=10)\n",
    "plt.ylabel('GDP per Capita', fontsize=10)\n",
    "plt.title('GDP per Capita of all the developed Countries ')\n",
    "plt.show()\n",
    "\n"
   ]
  },
  {
   "cell_type": "markdown",
   "metadata": {},
   "source": [
    "- From the above barchart, we can see all the developed countries like Luxembourg, Australia, etc. "
   ]
  },
  {
   "cell_type": "code",
   "execution_count": 73,
   "metadata": {},
   "outputs": [
    {
     "data": {
      "image/png": "[encoded data removed]",
      "text/plain": [
       "<Figure size 1296x432 with 1 Axes>"
      ]
     },
     "metadata": {
      "needs_background": "light"
     },
     "output_type": "display_data"
    }
   ],
   "source": [
    "fig = plt.figure(figsize = (18,6))\n",
    "s=sns.barplot(x='country',y='gdpp',data=Avg_Developed_con_K)\n",
    "s.set_xticklabels(s.get_xticklabels(),rotation=90)\n",
    "plt.xlabel('Country', fontsize=10)\n",
    "plt.ylabel('GDP per Capita', fontsize=10)\n",
    "plt.title('GDP per Capita of all the Developing Countries ')\n",
    "plt.show()"
   ]
  },
  {
   "cell_type": "markdown",
   "metadata": {},
   "source": [
    "- From the above barchart, we can see all the Developing countries like Iran, Albania, etc."
   ]
  },
  {
   "cell_type": "code",
   "execution_count": 74,
   "metadata": {},
   "outputs": [
    {
     "data": {
      "image/png": "[encoded data removed]",
      "text/plain": [
       "<Figure size 1296x432 with 1 Axes>"
      ]
     },
     "metadata": {
      "needs_background": "light"
     },
     "output_type": "display_data"
    }
   ],
   "source": [
    "fig = plt.figure(figsize = (18,6))\n",
    "s=sns.barplot(x='country',y='gdpp',data=Poor_con_K)\n",
    "s.set_xticklabels(s.get_xticklabels(),rotation=90)\n",
    "plt.xlabel('Country', fontsize=10)\n",
    "plt.ylabel('GDP per Capita', fontsize=10)\n",
    "plt.title('GDP per Capita of all the Under-Developed Countries ')\n",
    "plt.show()\n"
   ]
  },
  {
   "cell_type": "markdown",
   "metadata": {},
   "source": [
    "- From the above barchart, we can see all the Under-developed countries like Burundi, Afghanistan, etc."
   ]
  },
  {
   "cell_type": "code",
   "execution_count": 75,
   "metadata": {},
   "outputs": [
    {
     "data": {
      "image/png": "[encoded data removed]",
      "text/plain": [
       "<Figure size 1296x432 with 1 Axes>"
      ]
     },
     "metadata": {
      "needs_background": "light"
     },
     "output_type": "display_data"
    }
   ],
   "source": [
    "fig = plt.figure(figsize = (18,6))\n",
    "s=sns.barplot(x='country',y='child_mort',data=Poor_con_K)\n",
    "s.set_xticklabels(s.get_xticklabels(),rotation=90)\n",
    "plt.xlabel('Country', fontsize=10)\n",
    "plt.ylabel('Child_mort Rate', fontsize=10)\n",
    "plt.title('Child_mort Rate of all the Under-Developed Countries ')\n",
    "plt.show()"
   ]
  },
  {
   "cell_type": "markdown",
   "metadata": {},
   "source": [
    "- From the above barchart, we can see all the Under-developed countries like Haiti, Sierra Leone, etc., where child_mort rate is more"
   ]
  },
  {
   "cell_type": "code",
   "execution_count": 76,
   "metadata": {},
   "outputs": [
    {
     "data": {
      "image/png": "[encoded data removed]",
      "text/plain": [
       "<Figure size 1296x432 with 1 Axes>"
      ]
     },
     "metadata": {
      "needs_background": "light"
     },
     "output_type": "display_data"
    }
   ],
   "source": [
    "fig = plt.figure(figsize = (18,6))\n",
    "sns.barplot(x='country',y='gdpp',data=fin_k_GDPP)\n",
    "plt.title('GDPP of Top 8 the Under-Developed Countries ')\n",
    "plt.xlabel('Under-Developed Countries', fontsize=10)\n",
    "plt.ylabel('GDPP', fontsize=10)\n",
    "plt.show()"
   ]
  },
  {
   "cell_type": "markdown",
   "metadata": {},
   "source": [
    "- Top 8 under-developed countries in under-developement group, where GDPP is very low of countries like Burundi, Congo, etc."
   ]
  },
  {
   "cell_type": "code",
   "execution_count": 77,
   "metadata": {},
   "outputs": [
    {
     "data": {
      "image/png": "[encoded data removed]",
      "text/plain": [
       "<Figure size 1296x432 with 1 Axes>"
      ]
     },
     "metadata": {
      "needs_background": "light"
     },
     "output_type": "display_data"
    }
   ],
   "source": [
    "fig = plt.figure(figsize = (18,6))\n",
    "sns.barplot(x='country',y='child_mort',data=fin_k_mort)\n",
    "plt.title('Child_mort rate of Top 8 the Under-Developed Countries ')\n",
    "plt.xlabel('Under-Developed Countries', fontsize=10)\n",
    "plt.ylabel('Child_mort rate', fontsize=10)\n",
    "plt.show()"
   ]
  },
  {
   "cell_type": "markdown",
   "metadata": {},
   "source": [
    "- Top 8 under-developed countries in under-developement group, where child death is very high in countries like Haiti, Sierra, etc."
   ]
  },
  {
   "cell_type": "code",
   "execution_count": 78,
   "metadata": {},
   "outputs": [
    {
     "data": {
      "image/png": "[encoded data removed]",
      "text/plain": [
       "<Figure size 1296x432 with 1 Axes>"
      ]
     },
     "metadata": {
      "needs_background": "light"
     },
     "output_type": "display_data"
    }
   ],
   "source": [
    "fig = plt.figure(figsize = (18,6))\n",
    "sns.barplot(x='country',y='income',data=fin_k_income)\n",
    "plt.title('Income of Top 8 the Under-Developed Countries ')\n",
    "plt.xlabel('Under-Developed Countries', fontsize=10)\n",
    "plt.ylabel('Income', fontsize=10)\n",
    "plt.show()"
   ]
  },
  {
   "cell_type": "markdown",
   "metadata": {},
   "source": [
    "- Top 8 under-developed countries in under-developement group, where income is very low of countries like  Congo, Burundi, etc."
   ]
  },
  {
   "cell_type": "markdown",
   "metadata": {},
   "source": [
    "### Performing Hirarchical Clustering"
   ]
  },
  {
   "cell_type": "code",
   "execution_count": 79,
   "metadata": {},
   "outputs": [
    {
     "data": {
      "text/plain": [
       "(167, 5)"
      ]
     },
     "execution_count": 79,
     "metadata": {},
     "output_type": "execute_result"
    }
   ],
   "source": [
    "pcs_df2.shape"
   ]
  },
  {
   "cell_type": "code",
   "execution_count": 80,
   "metadata": {},
   "outputs": [],
   "source": [
    "pcs_df3 = pd.DataFrame({'PC1':pc[0],'PC2':pc[1],'PC3':pc[2],'PC4':pc[3],'PC5':pc[4]})"
   ]
  },
  {
   "cell_type": "code",
   "execution_count": 81,
   "metadata": {},
   "outputs": [
    {
     "data": {
      "text/html": [
       "<div>\n",
       "<style scoped>\n",
       "    .dataframe tbody tr th:only-of-type {\n",
       "        vertical-align: middle;\n",
       "    }\n",
       "\n",
       "    .dataframe tbody tr th {\n",
       "        vertical-align: top;\n",
       "    }\n",
       "\n",
       "    .dataframe thead th {\n",
       "        text-align: right;\n",
       "    }\n",
       "</style>\n",
       "<table border=\"1\" class=\"dataframe\">\n",
       "  <thead>\n",
       "    <tr style=\"text-align: right;\">\n",
       "      <th></th>\n",
       "      <th>PC1</th>\n",
       "      <th>PC2</th>\n",
       "      <th>PC3</th>\n",
       "      <th>PC4</th>\n",
       "      <th>PC5</th>\n",
       "      <th>ClusterID</th>\n",
       "    </tr>\n",
       "  </thead>\n",
       "  <tbody>\n",
       "    <tr>\n",
       "      <th>0</th>\n",
       "      <td>-2.636338</td>\n",
       "      <td>1.472260</td>\n",
       "      <td>-0.548330</td>\n",
       "      <td>0.238302</td>\n",
       "      <td>0.061003</td>\n",
       "      <td>2</td>\n",
       "    </tr>\n",
       "    <tr>\n",
       "      <th>1</th>\n",
       "      <td>-0.023783</td>\n",
       "      <td>-1.435535</td>\n",
       "      <td>-0.015470</td>\n",
       "      <td>-0.428278</td>\n",
       "      <td>-0.154305</td>\n",
       "      <td>1</td>\n",
       "    </tr>\n",
       "    <tr>\n",
       "      <th>2</th>\n",
       "      <td>-0.459228</td>\n",
       "      <td>-0.679705</td>\n",
       "      <td>0.956537</td>\n",
       "      <td>-0.193531</td>\n",
       "      <td>-0.092128</td>\n",
       "      <td>1</td>\n",
       "    </tr>\n",
       "    <tr>\n",
       "      <th>3</th>\n",
       "      <td>-2.723472</td>\n",
       "      <td>2.174966</td>\n",
       "      <td>0.597397</td>\n",
       "      <td>0.417695</td>\n",
       "      <td>0.056694</td>\n",
       "      <td>2</td>\n",
       "    </tr>\n",
       "    <tr>\n",
       "      <th>4</th>\n",
       "      <td>0.649103</td>\n",
       "      <td>-1.026404</td>\n",
       "      <td>-0.258645</td>\n",
       "      <td>-0.276882</td>\n",
       "      <td>0.077087</td>\n",
       "      <td>1</td>\n",
       "    </tr>\n",
       "  </tbody>\n",
       "</table>\n",
       "</div>"
      ],
      "text/plain": [
       "        PC1       PC2       PC3       PC4       PC5  ClusterID\n",
       "0 -2.636338  1.472260 -0.548330  0.238302  0.061003          2\n",
       "1 -0.023783 -1.435535 -0.015470 -0.428278 -0.154305          1\n",
       "2 -0.459228 -0.679705  0.956537 -0.193531 -0.092128          1\n",
       "3 -2.723472  2.174966  0.597397  0.417695  0.056694          2\n",
       "4  0.649103 -1.026404 -0.258645 -0.276882  0.077087          1"
      ]
     },
     "execution_count": 81,
     "metadata": {},
     "output_type": "execute_result"
    }
   ],
   "source": [
    "dat_km.head()"
   ]
  },
  {
   "cell_type": "markdown",
   "metadata": {},
   "source": [
    "#### Performing Single Linkage"
   ]
  },
  {
   "cell_type": "code",
   "execution_count": 82,
   "metadata": {},
   "outputs": [
    {
     "data": {
      "image/png": "[encoded data removed]",
      "text/plain": [
       "<Figure size 432x288 with 1 Axes>"
      ]
     },
     "metadata": {
      "needs_background": "light"
     },
     "output_type": "display_data"
    }
   ],
   "source": [
    "mergings=linkage(pcs_df2,method='single',metric='euclidean')\n",
    "dendrogram(mergings)\n",
    "plt.show()"
   ]
  },
  {
   "cell_type": "markdown",
   "metadata": {},
   "source": [
    "### Performing Complete Linkage"
   ]
  },
  {
   "cell_type": "code",
   "execution_count": 83,
   "metadata": {},
   "outputs": [
    {
     "data": {
      "image/png": "[encoded data removed]",
      "text/plain": [
       "<Figure size 432x288 with 1 Axes>"
      ]
     },
     "metadata": {
      "needs_background": "light"
     },
     "output_type": "display_data"
    }
   ],
   "source": [
    "#mergings=linkage(fin,method='complete',metric='euclidean')\n",
    "mergings=linkage(pcs_df2,method='complete',metric='euclidean')\n",
    "dendrogram(mergings)\n",
    "plt.show()"
   ]
  },
  {
   "cell_type": "markdown",
   "metadata": {},
   "source": [
    "#### From above dendrograms, we can derive the 2 clusters."
   ]
  },
  {
   "cell_type": "code",
   "execution_count": 84,
   "metadata": {},
   "outputs": [
    {
     "data": {
      "text/plain": [
       "(167, 1)"
      ]
     },
     "execution_count": 84,
     "metadata": {},
     "output_type": "execute_result"
    }
   ],
   "source": [
    "cut_tree(mergings,n_clusters=3).shape"
   ]
  },
  {
   "cell_type": "markdown",
   "metadata": {},
   "source": [
    "- Let's  reshape the cut_tree result array"
   ]
  },
  {
   "cell_type": "code",
   "execution_count": 85,
   "metadata": {},
   "outputs": [
    {
     "data": {
      "text/plain": [
       "array([0, 0, 0, 0, 0, 0, 0, 0, 0, 0, 0, 0, 0, 0, 0, 0, 0, 0, 0, 0, 0, 0,\n",
       "       0, 0, 0, 0, 0, 0, 0, 0, 0, 0, 0, 0, 0, 0, 0, 0, 0, 0, 0, 0, 0, 0,\n",
       "       0, 0, 0, 0, 0, 0, 0, 0, 0, 0, 0, 0, 0, 0, 0, 0, 0, 0, 0, 0, 0, 0,\n",
       "       0, 0, 0, 0, 0, 0, 0, 0, 0, 0, 0, 0, 0, 0, 0, 0, 0, 0, 0, 0, 0, 0,\n",
       "       0, 0, 0, 1, 0, 0, 0, 0, 0, 0, 0, 0, 0, 0, 0, 0, 0, 0, 0, 0, 0, 0,\n",
       "       0, 0, 0, 2, 0, 0, 0, 0, 0, 0, 0, 0, 0, 0, 0, 0, 0, 0, 0, 0, 0, 0,\n",
       "       0, 0, 0, 0, 0, 0, 0, 0, 0, 0, 0, 0, 0, 0, 0, 0, 0, 0, 0, 0, 0, 0,\n",
       "       0, 0, 0, 0, 0, 0, 0, 0, 0, 0, 0, 0, 0])"
      ]
     },
     "execution_count": 85,
     "metadata": {},
     "output_type": "execute_result"
    }
   ],
   "source": [
    "cluser_labels=cut_tree(mergings,n_clusters=3).reshape(-1,)\n",
    "cluser_labels"
   ]
  },
  {
   "cell_type": "code",
   "execution_count": 86,
   "metadata": {},
   "outputs": [
    {
     "data": {
      "text/html": [
       "<div>\n",
       "<style scoped>\n",
       "    .dataframe tbody tr th:only-of-type {\n",
       "        vertical-align: middle;\n",
       "    }\n",
       "\n",
       "    .dataframe tbody tr th {\n",
       "        vertical-align: top;\n",
       "    }\n",
       "\n",
       "    .dataframe thead th {\n",
       "        text-align: right;\n",
       "    }\n",
       "</style>\n",
       "<table border=\"1\" class=\"dataframe\">\n",
       "  <thead>\n",
       "    <tr style=\"text-align: right;\">\n",
       "      <th></th>\n",
       "      <th>PC1</th>\n",
       "      <th>PC2</th>\n",
       "      <th>PC3</th>\n",
       "      <th>PC4</th>\n",
       "      <th>PC5</th>\n",
       "      <th>ClusterID</th>\n",
       "      <th>Cluster_lables</th>\n",
       "    </tr>\n",
       "  </thead>\n",
       "  <tbody>\n",
       "    <tr>\n",
       "      <th>0</th>\n",
       "      <td>-2.636338</td>\n",
       "      <td>1.472260</td>\n",
       "      <td>-0.548330</td>\n",
       "      <td>0.238302</td>\n",
       "      <td>0.061003</td>\n",
       "      <td>2</td>\n",
       "      <td>0</td>\n",
       "    </tr>\n",
       "    <tr>\n",
       "      <th>1</th>\n",
       "      <td>-0.023783</td>\n",
       "      <td>-1.435535</td>\n",
       "      <td>-0.015470</td>\n",
       "      <td>-0.428278</td>\n",
       "      <td>-0.154305</td>\n",
       "      <td>1</td>\n",
       "      <td>0</td>\n",
       "    </tr>\n",
       "    <tr>\n",
       "      <th>2</th>\n",
       "      <td>-0.459228</td>\n",
       "      <td>-0.679705</td>\n",
       "      <td>0.956537</td>\n",
       "      <td>-0.193531</td>\n",
       "      <td>-0.092128</td>\n",
       "      <td>1</td>\n",
       "      <td>0</td>\n",
       "    </tr>\n",
       "    <tr>\n",
       "      <th>3</th>\n",
       "      <td>-2.723472</td>\n",
       "      <td>2.174966</td>\n",
       "      <td>0.597397</td>\n",
       "      <td>0.417695</td>\n",
       "      <td>0.056694</td>\n",
       "      <td>2</td>\n",
       "      <td>0</td>\n",
       "    </tr>\n",
       "    <tr>\n",
       "      <th>4</th>\n",
       "      <td>0.649103</td>\n",
       "      <td>-1.026404</td>\n",
       "      <td>-0.258645</td>\n",
       "      <td>-0.276882</td>\n",
       "      <td>0.077087</td>\n",
       "      <td>1</td>\n",
       "      <td>0</td>\n",
       "    </tr>\n",
       "  </tbody>\n",
       "</table>\n",
       "</div>"
      ],
      "text/plain": [
       "        PC1       PC2       PC3       PC4       PC5  ClusterID  Cluster_lables\n",
       "0 -2.636338  1.472260 -0.548330  0.238302  0.061003          2               0\n",
       "1 -0.023783 -1.435535 -0.015470 -0.428278 -0.154305          1               0\n",
       "2 -0.459228 -0.679705  0.956537 -0.193531 -0.092128          1               0\n",
       "3 -2.723472  2.174966  0.597397  0.417695  0.056694          2               0\n",
       "4  0.649103 -1.026404 -0.258645 -0.276882  0.077087          1               0"
      ]
     },
     "execution_count": 86,
     "metadata": {},
     "output_type": "execute_result"
    }
   ],
   "source": [
    "#assign cluster labels\n",
    "\n",
    "dat_km['Cluster_lables']=cluser_labels\n",
    "dat_km.head()"
   ]
  },
  {
   "cell_type": "code",
   "execution_count": 87,
   "metadata": {},
   "outputs": [
    {
     "data": {
      "text/html": [
       "<div>\n",
       "<style scoped>\n",
       "    .dataframe tbody tr th:only-of-type {\n",
       "        vertical-align: middle;\n",
       "    }\n",
       "\n",
       "    .dataframe tbody tr th {\n",
       "        vertical-align: top;\n",
       "    }\n",
       "\n",
       "    .dataframe thead th {\n",
       "        text-align: right;\n",
       "    }\n",
       "</style>\n",
       "<table border=\"1\" class=\"dataframe\">\n",
       "  <thead>\n",
       "    <tr style=\"text-align: right;\">\n",
       "      <th></th>\n",
       "      <th>country</th>\n",
       "      <th>child_mort</th>\n",
       "      <th>exports</th>\n",
       "      <th>health</th>\n",
       "      <th>imports</th>\n",
       "      <th>income</th>\n",
       "      <th>inflation</th>\n",
       "      <th>life_expec</th>\n",
       "      <th>total_fer</th>\n",
       "      <th>gdpp</th>\n",
       "      <th>PC1</th>\n",
       "      <th>PC2</th>\n",
       "      <th>PC3</th>\n",
       "      <th>PC4</th>\n",
       "      <th>PC5</th>\n",
       "      <th>ClusterID</th>\n",
       "      <th>Cluster_lables</th>\n",
       "    </tr>\n",
       "  </thead>\n",
       "  <tbody>\n",
       "    <tr>\n",
       "      <th>0</th>\n",
       "      <td>Afghanistan</td>\n",
       "      <td>90.2</td>\n",
       "      <td>55.30</td>\n",
       "      <td>41.9174</td>\n",
       "      <td>248.297</td>\n",
       "      <td>1610</td>\n",
       "      <td>9.44</td>\n",
       "      <td>56.2</td>\n",
       "      <td>5.82</td>\n",
       "      <td>553</td>\n",
       "      <td>-2.636338</td>\n",
       "      <td>1.472260</td>\n",
       "      <td>-0.548330</td>\n",
       "      <td>0.238302</td>\n",
       "      <td>0.061003</td>\n",
       "      <td>2</td>\n",
       "      <td>0</td>\n",
       "    </tr>\n",
       "    <tr>\n",
       "      <th>1</th>\n",
       "      <td>Albania</td>\n",
       "      <td>16.6</td>\n",
       "      <td>1145.20</td>\n",
       "      <td>267.8950</td>\n",
       "      <td>1987.740</td>\n",
       "      <td>9930</td>\n",
       "      <td>4.49</td>\n",
       "      <td>76.3</td>\n",
       "      <td>1.65</td>\n",
       "      <td>4090</td>\n",
       "      <td>-0.023783</td>\n",
       "      <td>-1.435535</td>\n",
       "      <td>-0.015470</td>\n",
       "      <td>-0.428278</td>\n",
       "      <td>-0.154305</td>\n",
       "      <td>1</td>\n",
       "      <td>0</td>\n",
       "    </tr>\n",
       "    <tr>\n",
       "      <th>2</th>\n",
       "      <td>Algeria</td>\n",
       "      <td>27.3</td>\n",
       "      <td>1712.64</td>\n",
       "      <td>185.9820</td>\n",
       "      <td>1400.440</td>\n",
       "      <td>12900</td>\n",
       "      <td>16.10</td>\n",
       "      <td>76.5</td>\n",
       "      <td>2.89</td>\n",
       "      <td>4460</td>\n",
       "      <td>-0.459228</td>\n",
       "      <td>-0.679705</td>\n",
       "      <td>0.956537</td>\n",
       "      <td>-0.193531</td>\n",
       "      <td>-0.092128</td>\n",
       "      <td>1</td>\n",
       "      <td>0</td>\n",
       "    </tr>\n",
       "    <tr>\n",
       "      <th>3</th>\n",
       "      <td>Angola</td>\n",
       "      <td>119.0</td>\n",
       "      <td>2199.19</td>\n",
       "      <td>100.6050</td>\n",
       "      <td>1514.370</td>\n",
       "      <td>5900</td>\n",
       "      <td>22.40</td>\n",
       "      <td>60.1</td>\n",
       "      <td>6.16</td>\n",
       "      <td>3530</td>\n",
       "      <td>-2.723472</td>\n",
       "      <td>2.174966</td>\n",
       "      <td>0.597397</td>\n",
       "      <td>0.417695</td>\n",
       "      <td>0.056694</td>\n",
       "      <td>2</td>\n",
       "      <td>0</td>\n",
       "    </tr>\n",
       "    <tr>\n",
       "      <th>4</th>\n",
       "      <td>Antigua and Barbuda</td>\n",
       "      <td>10.3</td>\n",
       "      <td>5551.00</td>\n",
       "      <td>735.6600</td>\n",
       "      <td>7185.800</td>\n",
       "      <td>19100</td>\n",
       "      <td>1.44</td>\n",
       "      <td>76.8</td>\n",
       "      <td>2.13</td>\n",
       "      <td>12200</td>\n",
       "      <td>0.649103</td>\n",
       "      <td>-1.026404</td>\n",
       "      <td>-0.258645</td>\n",
       "      <td>-0.276882</td>\n",
       "      <td>0.077087</td>\n",
       "      <td>1</td>\n",
       "      <td>0</td>\n",
       "    </tr>\n",
       "  </tbody>\n",
       "</table>\n",
       "</div>"
      ],
      "text/plain": [
       "               country  child_mort  exports    health   imports  income  \\\n",
       "0          Afghanistan        90.2    55.30   41.9174   248.297    1610   \n",
       "1              Albania        16.6  1145.20  267.8950  1987.740    9930   \n",
       "2              Algeria        27.3  1712.64  185.9820  1400.440   12900   \n",
       "3               Angola       119.0  2199.19  100.6050  1514.370    5900   \n",
       "4  Antigua and Barbuda        10.3  5551.00  735.6600  7185.800   19100   \n",
       "\n",
       "   inflation  life_expec  total_fer   gdpp       PC1       PC2       PC3  \\\n",
       "0       9.44        56.2       5.82    553 -2.636338  1.472260 -0.548330   \n",
       "1       4.49        76.3       1.65   4090 -0.023783 -1.435535 -0.015470   \n",
       "2      16.10        76.5       2.89   4460 -0.459228 -0.679705  0.956537   \n",
       "3      22.40        60.1       6.16   3530 -2.723472  2.174966  0.597397   \n",
       "4       1.44        76.8       2.13  12200  0.649103 -1.026404 -0.258645   \n",
       "\n",
       "        PC4       PC5  ClusterID  Cluster_lables  \n",
       "0  0.238302  0.061003          2               0  \n",
       "1 -0.428278 -0.154305          1               0  \n",
       "2 -0.193531 -0.092128          1               0  \n",
       "3  0.417695  0.056694          2               0  \n",
       "4 -0.276882  0.077087          1               0  "
      ]
     },
     "execution_count": 87,
     "metadata": {},
     "output_type": "execute_result"
    }
   ],
   "source": [
    "dat7=pd.merge(Country_data,dat_km, left_index=True,right_index=True)\n",
    "dat7.head()\n"
   ]
  },
  {
   "cell_type": "code",
   "execution_count": 88,
   "metadata": {},
   "outputs": [
    {
     "data": {
      "text/plain": [
       "(167, 12)"
      ]
     },
     "execution_count": 88,
     "metadata": {},
     "output_type": "execute_result"
    }
   ],
   "source": [
    "dat8=dat7.drop(['PC1','PC2','PC3','PC4','PC5'],axis=1)\n",
    "dat8.shape"
   ]
  },
  {
   "cell_type": "code",
   "execution_count": 89,
   "metadata": {},
   "outputs": [
    {
     "data": {
      "text/html": [
       "<div>\n",
       "<style scoped>\n",
       "    .dataframe tbody tr th:only-of-type {\n",
       "        vertical-align: middle;\n",
       "    }\n",
       "\n",
       "    .dataframe tbody tr th {\n",
       "        vertical-align: top;\n",
       "    }\n",
       "\n",
       "    .dataframe thead th {\n",
       "        text-align: right;\n",
       "    }\n",
       "</style>\n",
       "<table border=\"1\" class=\"dataframe\">\n",
       "  <thead>\n",
       "    <tr style=\"text-align: right;\">\n",
       "      <th></th>\n",
       "      <th>country</th>\n",
       "      <th>child_mort</th>\n",
       "      <th>exports</th>\n",
       "      <th>health</th>\n",
       "      <th>imports</th>\n",
       "      <th>income</th>\n",
       "      <th>inflation</th>\n",
       "      <th>life_expec</th>\n",
       "      <th>total_fer</th>\n",
       "      <th>gdpp</th>\n",
       "      <th>ClusterID</th>\n",
       "      <th>Cluster_lables</th>\n",
       "    </tr>\n",
       "  </thead>\n",
       "  <tbody>\n",
       "    <tr>\n",
       "      <th>0</th>\n",
       "      <td>Afghanistan</td>\n",
       "      <td>90.2</td>\n",
       "      <td>55.30</td>\n",
       "      <td>41.9174</td>\n",
       "      <td>248.297</td>\n",
       "      <td>1610</td>\n",
       "      <td>9.44</td>\n",
       "      <td>56.2</td>\n",
       "      <td>5.82</td>\n",
       "      <td>553</td>\n",
       "      <td>2</td>\n",
       "      <td>0</td>\n",
       "    </tr>\n",
       "    <tr>\n",
       "      <th>1</th>\n",
       "      <td>Albania</td>\n",
       "      <td>16.6</td>\n",
       "      <td>1145.20</td>\n",
       "      <td>267.8950</td>\n",
       "      <td>1987.740</td>\n",
       "      <td>9930</td>\n",
       "      <td>4.49</td>\n",
       "      <td>76.3</td>\n",
       "      <td>1.65</td>\n",
       "      <td>4090</td>\n",
       "      <td>1</td>\n",
       "      <td>0</td>\n",
       "    </tr>\n",
       "    <tr>\n",
       "      <th>2</th>\n",
       "      <td>Algeria</td>\n",
       "      <td>27.3</td>\n",
       "      <td>1712.64</td>\n",
       "      <td>185.9820</td>\n",
       "      <td>1400.440</td>\n",
       "      <td>12900</td>\n",
       "      <td>16.10</td>\n",
       "      <td>76.5</td>\n",
       "      <td>2.89</td>\n",
       "      <td>4460</td>\n",
       "      <td>1</td>\n",
       "      <td>0</td>\n",
       "    </tr>\n",
       "    <tr>\n",
       "      <th>3</th>\n",
       "      <td>Angola</td>\n",
       "      <td>119.0</td>\n",
       "      <td>2199.19</td>\n",
       "      <td>100.6050</td>\n",
       "      <td>1514.370</td>\n",
       "      <td>5900</td>\n",
       "      <td>22.40</td>\n",
       "      <td>60.1</td>\n",
       "      <td>6.16</td>\n",
       "      <td>3530</td>\n",
       "      <td>2</td>\n",
       "      <td>0</td>\n",
       "    </tr>\n",
       "    <tr>\n",
       "      <th>4</th>\n",
       "      <td>Antigua and Barbuda</td>\n",
       "      <td>10.3</td>\n",
       "      <td>5551.00</td>\n",
       "      <td>735.6600</td>\n",
       "      <td>7185.800</td>\n",
       "      <td>19100</td>\n",
       "      <td>1.44</td>\n",
       "      <td>76.8</td>\n",
       "      <td>2.13</td>\n",
       "      <td>12200</td>\n",
       "      <td>1</td>\n",
       "      <td>0</td>\n",
       "    </tr>\n",
       "  </tbody>\n",
       "</table>\n",
       "</div>"
      ],
      "text/plain": [
       "               country  child_mort  exports    health   imports  income  \\\n",
       "0          Afghanistan        90.2    55.30   41.9174   248.297    1610   \n",
       "1              Albania        16.6  1145.20  267.8950  1987.740    9930   \n",
       "2              Algeria        27.3  1712.64  185.9820  1400.440   12900   \n",
       "3               Angola       119.0  2199.19  100.6050  1514.370    5900   \n",
       "4  Antigua and Barbuda        10.3  5551.00  735.6600  7185.800   19100   \n",
       "\n",
       "   inflation  life_expec  total_fer   gdpp  ClusterID  Cluster_lables  \n",
       "0       9.44        56.2       5.82    553          2               0  \n",
       "1       4.49        76.3       1.65   4090          1               0  \n",
       "2      16.10        76.5       2.89   4460          1               0  \n",
       "3      22.40        60.1       6.16   3530          2               0  \n",
       "4       1.44        76.8       2.13  12200          1               0  "
      ]
     },
     "execution_count": 89,
     "metadata": {},
     "output_type": "execute_result"
    }
   ],
   "source": [
    "dat8.head()"
   ]
  },
  {
   "cell_type": "markdown",
   "metadata": {},
   "source": [
    "### Analysis of the clusters"
   ]
  },
  {
   "cell_type": "code",
   "execution_count": 90,
   "metadata": {},
   "outputs": [],
   "source": [
    "Cluster_GDPP_H=pd.DataFrame(dat8.groupby([\"Cluster_lables\"]).gdpp.mean())\n",
    "Cluster_child_mort_H=pd.DataFrame(dat8.groupby([\"Cluster_lables\"]).child_mort.mean())\n",
    "Cluster_income_H=pd.DataFrame(dat8.groupby([\"Cluster_lables\"]).income.mean())"
   ]
  },
  {
   "cell_type": "code",
   "execution_count": 91,
   "metadata": {},
   "outputs": [],
   "source": [
    "df_H = pd.concat([Cluster_GDPP_H,Cluster_child_mort_H,Cluster_income_H], axis=1)"
   ]
  },
  {
   "cell_type": "code",
   "execution_count": 92,
   "metadata": {},
   "outputs": [
    {
     "data": {
      "text/html": [
       "<div>\n",
       "<style scoped>\n",
       "    .dataframe tbody tr th:only-of-type {\n",
       "        vertical-align: middle;\n",
       "    }\n",
       "\n",
       "    .dataframe tbody tr th {\n",
       "        vertical-align: top;\n",
       "    }\n",
       "\n",
       "    .dataframe thead th {\n",
       "        text-align: right;\n",
       "    }\n",
       "</style>\n",
       "<table border=\"1\" class=\"dataframe\">\n",
       "  <thead>\n",
       "    <tr style=\"text-align: right;\">\n",
       "      <th></th>\n",
       "      <th>GDPP</th>\n",
       "      <th>child_mort</th>\n",
       "      <th>income</th>\n",
       "    </tr>\n",
       "    <tr>\n",
       "      <th>Cluster_lables</th>\n",
       "      <th></th>\n",
       "      <th></th>\n",
       "      <th></th>\n",
       "    </tr>\n",
       "  </thead>\n",
       "  <tbody>\n",
       "    <tr>\n",
       "      <th>0</th>\n",
       "      <td>12470.812121</td>\n",
       "      <td>37.929091</td>\n",
       "      <td>16765.533333</td>\n",
       "    </tr>\n",
       "    <tr>\n",
       "      <th>1</th>\n",
       "      <td>105000.000000</td>\n",
       "      <td>2.800000</td>\n",
       "      <td>91700.000000</td>\n",
       "    </tr>\n",
       "    <tr>\n",
       "      <th>2</th>\n",
       "      <td>2330.000000</td>\n",
       "      <td>130.000000</td>\n",
       "      <td>5150.000000</td>\n",
       "    </tr>\n",
       "  </tbody>\n",
       "</table>\n",
       "</div>"
      ],
      "text/plain": [
       "                         GDPP  child_mort        income\n",
       "Cluster_lables                                         \n",
       "0                12470.812121   37.929091  16765.533333\n",
       "1               105000.000000    2.800000  91700.000000\n",
       "2                 2330.000000  130.000000   5150.000000"
      ]
     },
     "execution_count": 92,
     "metadata": {},
     "output_type": "execute_result"
    }
   ],
   "source": [
    "df_H.columns = [\"GDPP\",\"child_mort\",\"income\"]\n",
    "df_H"
   ]
  },
  {
   "cell_type": "markdown",
   "metadata": {},
   "source": [
    "- Filtering the final list of Under-Developed Countries where, more funding is required."
   ]
  },
  {
   "cell_type": "code",
   "execution_count": 93,
   "metadata": {},
   "outputs": [],
   "source": [
    "#Let's use the concept of binning\n",
    "fin_H=Country_data[Country_data['gdpp']<=2330.000000]\n",
    "fin_H=fin[fin['child_mort']>= 130.000000]\n",
    "fin_H=fin[fin['income']<= 5150.000000]"
   ]
  },
  {
   "cell_type": "code",
   "execution_count": 94,
   "metadata": {},
   "outputs": [],
   "source": [
    "fin_H=pd.merge(fin_H,dat_km,left_index=True,right_index=True)"
   ]
  },
  {
   "cell_type": "code",
   "execution_count": 95,
   "metadata": {},
   "outputs": [],
   "source": [
    "fin_H=fin_H.drop(['PC1','PC2','PC3','PC4','PC5'],axis=1)"
   ]
  },
  {
   "cell_type": "code",
   "execution_count": 96,
   "metadata": {},
   "outputs": [
    {
     "data": {
      "text/plain": [
       "(17, 12)"
      ]
     },
     "execution_count": 96,
     "metadata": {},
     "output_type": "execute_result"
    }
   ],
   "source": [
    "fin_H.shape"
   ]
  },
  {
   "cell_type": "code",
   "execution_count": 97,
   "metadata": {},
   "outputs": [
    {
     "data": {
      "text/plain": [
       "<matplotlib.axes._subplots.AxesSubplot at 0x986499fda0>"
      ]
     },
     "execution_count": 97,
     "metadata": {},
     "output_type": "execute_result"
    },
    {
     "data": {
      "image/png": "[encoded data removed]",
      "text/plain": [
       "<Figure size 432x288 with 1 Axes>"
      ]
     },
     "metadata": {
      "needs_background": "light"
     },
     "output_type": "display_data"
    }
   ],
   "source": [
    "sns.boxplot(x='Cluster_lables',y='gdpp',data=dat8)"
   ]
  },
  {
   "cell_type": "markdown",
   "metadata": {},
   "source": [
    "-  Here, Developed countries are falling under 2nd cluster because of high gdpp range. Poor countries are falling under cluster 0."
   ]
  },
  {
   "cell_type": "code",
   "execution_count": 98,
   "metadata": {},
   "outputs": [
    {
     "data": {
      "text/plain": [
       "<matplotlib.axes._subplots.AxesSubplot at 0x986b72c7b8>"
      ]
     },
     "execution_count": 98,
     "metadata": {},
     "output_type": "execute_result"
    },
    {
     "data": {
      "image/png": "[encoded data removed]",
      "text/plain": [
       "<Figure size 432x288 with 1 Axes>"
      ]
     },
     "metadata": {
      "needs_background": "light"
     },
     "output_type": "display_data"
    }
   ],
   "source": [
    "sns.boxplot(x='Cluster_lables',y='child_mort',data=dat8)"
   ]
  },
  {
   "cell_type": "markdown",
   "metadata": {},
   "source": [
    "- From the above plots we can see poor countries are falling under cluster 0. So, the child_mort rate is more in these countries. "
   ]
  },
  {
   "cell_type": "code",
   "execution_count": 99,
   "metadata": {},
   "outputs": [
    {
     "data": {
      "text/plain": [
       "<matplotlib.axes._subplots.AxesSubplot at 0x9865ccd908>"
      ]
     },
     "execution_count": 99,
     "metadata": {},
     "output_type": "execute_result"
    },
    {
     "data": {
      "image/png": "[encoded data removed]",
      "text/plain": [
       "<Figure size 432x288 with 1 Axes>"
      ]
     },
     "metadata": {
      "needs_background": "light"
     },
     "output_type": "display_data"
    }
   ],
   "source": [
    "sns.boxplot(x='Cluster_lables',y='income',data=dat8)"
   ]
  },
  {
   "cell_type": "markdown",
   "metadata": {},
   "source": [
    "- Here, As Developed countries are falling under cluster 1, So the income is in high range "
   ]
  },
  {
   "cell_type": "code",
   "execution_count": 100,
   "metadata": {},
   "outputs": [
    {
     "data": {
      "text/html": [
       "<div>\n",
       "<style scoped>\n",
       "    .dataframe tbody tr th:only-of-type {\n",
       "        vertical-align: middle;\n",
       "    }\n",
       "\n",
       "    .dataframe tbody tr th {\n",
       "        vertical-align: top;\n",
       "    }\n",
       "\n",
       "    .dataframe thead th {\n",
       "        text-align: right;\n",
       "    }\n",
       "</style>\n",
       "<table border=\"1\" class=\"dataframe\">\n",
       "  <thead>\n",
       "    <tr style=\"text-align: right;\">\n",
       "      <th></th>\n",
       "      <th>country</th>\n",
       "      <th>child_mort</th>\n",
       "      <th>exports</th>\n",
       "      <th>health</th>\n",
       "      <th>imports</th>\n",
       "      <th>income</th>\n",
       "      <th>inflation</th>\n",
       "      <th>life_expec</th>\n",
       "      <th>total_fer</th>\n",
       "      <th>gdpp</th>\n",
       "      <th>ClusterID</th>\n",
       "      <th>Cluster_lables</th>\n",
       "    </tr>\n",
       "  </thead>\n",
       "  <tbody>\n",
       "    <tr>\n",
       "      <th>26</th>\n",
       "      <td>Burundi</td>\n",
       "      <td>93.6</td>\n",
       "      <td>20.6052</td>\n",
       "      <td>26.7960</td>\n",
       "      <td>90.552</td>\n",
       "      <td>764</td>\n",
       "      <td>12.30</td>\n",
       "      <td>57.7</td>\n",
       "      <td>6.26</td>\n",
       "      <td>231</td>\n",
       "      <td>2</td>\n",
       "      <td>0</td>\n",
       "    </tr>\n",
       "    <tr>\n",
       "      <th>37</th>\n",
       "      <td>Congo, Dem. Rep.</td>\n",
       "      <td>116.0</td>\n",
       "      <td>137.2740</td>\n",
       "      <td>26.4194</td>\n",
       "      <td>165.664</td>\n",
       "      <td>609</td>\n",
       "      <td>20.80</td>\n",
       "      <td>57.5</td>\n",
       "      <td>6.54</td>\n",
       "      <td>334</td>\n",
       "      <td>2</td>\n",
       "      <td>0</td>\n",
       "    </tr>\n",
       "    <tr>\n",
       "      <th>112</th>\n",
       "      <td>Niger</td>\n",
       "      <td>123.0</td>\n",
       "      <td>77.2560</td>\n",
       "      <td>17.9568</td>\n",
       "      <td>170.868</td>\n",
       "      <td>814</td>\n",
       "      <td>2.55</td>\n",
       "      <td>58.8</td>\n",
       "      <td>7.49</td>\n",
       "      <td>348</td>\n",
       "      <td>2</td>\n",
       "      <td>0</td>\n",
       "    </tr>\n",
       "    <tr>\n",
       "      <th>132</th>\n",
       "      <td>Sierra Leone</td>\n",
       "      <td>160.0</td>\n",
       "      <td>67.0320</td>\n",
       "      <td>52.2690</td>\n",
       "      <td>137.655</td>\n",
       "      <td>1220</td>\n",
       "      <td>17.20</td>\n",
       "      <td>55.0</td>\n",
       "      <td>5.20</td>\n",
       "      <td>399</td>\n",
       "      <td>2</td>\n",
       "      <td>0</td>\n",
       "    </tr>\n",
       "    <tr>\n",
       "      <th>106</th>\n",
       "      <td>Mozambique</td>\n",
       "      <td>101.0</td>\n",
       "      <td>131.9850</td>\n",
       "      <td>21.8299</td>\n",
       "      <td>193.578</td>\n",
       "      <td>918</td>\n",
       "      <td>7.64</td>\n",
       "      <td>54.5</td>\n",
       "      <td>5.56</td>\n",
       "      <td>419</td>\n",
       "      <td>2</td>\n",
       "      <td>0</td>\n",
       "    </tr>\n",
       "    <tr>\n",
       "      <th>31</th>\n",
       "      <td>Central African Republic</td>\n",
       "      <td>149.0</td>\n",
       "      <td>52.6280</td>\n",
       "      <td>17.7508</td>\n",
       "      <td>118.190</td>\n",
       "      <td>888</td>\n",
       "      <td>2.01</td>\n",
       "      <td>47.5</td>\n",
       "      <td>5.21</td>\n",
       "      <td>446</td>\n",
       "      <td>2</td>\n",
       "      <td>0</td>\n",
       "    </tr>\n",
       "    <tr>\n",
       "      <th>64</th>\n",
       "      <td>Guinea-Bissau</td>\n",
       "      <td>114.0</td>\n",
       "      <td>81.5030</td>\n",
       "      <td>46.4950</td>\n",
       "      <td>192.544</td>\n",
       "      <td>1390</td>\n",
       "      <td>2.97</td>\n",
       "      <td>55.6</td>\n",
       "      <td>5.05</td>\n",
       "      <td>547</td>\n",
       "      <td>2</td>\n",
       "      <td>0</td>\n",
       "    </tr>\n",
       "    <tr>\n",
       "      <th>25</th>\n",
       "      <td>Burkina Faso</td>\n",
       "      <td>116.0</td>\n",
       "      <td>110.4000</td>\n",
       "      <td>38.7550</td>\n",
       "      <td>170.200</td>\n",
       "      <td>1430</td>\n",
       "      <td>6.81</td>\n",
       "      <td>57.9</td>\n",
       "      <td>5.87</td>\n",
       "      <td>575</td>\n",
       "      <td>2</td>\n",
       "      <td>0</td>\n",
       "    </tr>\n",
       "  </tbody>\n",
       "</table>\n",
       "</div>"
      ],
      "text/plain": [
       "                      country  child_mort   exports   health  imports  income  \\\n",
       "26                    Burundi        93.6   20.6052  26.7960   90.552     764   \n",
       "37           Congo, Dem. Rep.       116.0  137.2740  26.4194  165.664     609   \n",
       "112                     Niger       123.0   77.2560  17.9568  170.868     814   \n",
       "132              Sierra Leone       160.0   67.0320  52.2690  137.655    1220   \n",
       "106                Mozambique       101.0  131.9850  21.8299  193.578     918   \n",
       "31   Central African Republic       149.0   52.6280  17.7508  118.190     888   \n",
       "64              Guinea-Bissau       114.0   81.5030  46.4950  192.544    1390   \n",
       "25               Burkina Faso       116.0  110.4000  38.7550  170.200    1430   \n",
       "\n",
       "     inflation  life_expec  total_fer  gdpp  ClusterID  Cluster_lables  \n",
       "26       12.30        57.7       6.26   231          2               0  \n",
       "37       20.80        57.5       6.54   334          2               0  \n",
       "112       2.55        58.8       7.49   348          2               0  \n",
       "132      17.20        55.0       5.20   399          2               0  \n",
       "106       7.64        54.5       5.56   419          2               0  \n",
       "31        2.01        47.5       5.21   446          2               0  \n",
       "64        2.97        55.6       5.05   547          2               0  \n",
       "25        6.81        57.9       5.87   575          2               0  "
      ]
     },
     "execution_count": 100,
     "metadata": {},
     "output_type": "execute_result"
    }
   ],
   "source": [
    "fin_H.nsmallest(8,'gdpp')"
   ]
  },
  {
   "cell_type": "markdown",
   "metadata": {},
   "source": [
    "- After comparing both K-means and Heirarchical clustering method, I am going with the K-means outcomes as the plots are clearly visible. As in both the methods, the top 8 under-developed countries are similar. I am considering the result of k-means outcome. "
   ]
  },
  {
   "cell_type": "markdown",
   "metadata": {},
   "source": [
    "## Conclusion \n",
    "\n",
    "- After grouping all the countries into 3 groups by using some socio-economic and health factors, we can determine the overall development of the country.\n",
    "\n",
    "- Here, the countries are categorised into list of developed countries, developeing countries and under-developed countries.\n",
    "\n",
    "- In Developed countries, we can see the GDP per capita and income is high where as Death of children under 5 years of age per 1000 live births i.e. child-mort is very low, which is expected.\n",
    "\n",
    "- In Developing countries and Under-developed countries, the GDP per capita and income are low and child-mort is high. Specifically, for under-developed countries, the death rate of children is very high.\n",
    "\n",
    "## Recomendetions\n",
    "\n",
    "- From bar chats, we can clearly see the socio-economic and heath situation of the under developed countries. \n",
    "- In countries like Haiti, Sierra Leone,Chad, etc., the death rate of children under 5 years of age per 1000 (child-mort) is     high.\n",
    "- In countries like Burundi, Congo, Niger, etc., GDP per capita is very low. So, in those countries, the income per person is also low. So, these countries are considered as poor contries.\n",
    "- Finally, as per categories of the countries, top 8 under-developed countries which are in direst need of aid are as below:\n",
    " \n",
    " 1. Burundi\n",
    " 2. Congo, Dem. Rep.\n",
    " 3. Niger\n",
    " 4. Sierra Leone\n",
    " 5. Haiti\n",
    " 6. Chad\n",
    " 7. Central African Republic\n",
    " 8. Mozambique"
   ]
  },
  {
   "cell_type": "code",
   "execution_count": null,
   "metadata": {},
   "outputs": [],
   "source": []
  }
 ],
 "metadata": {
  "kernelspec": {
   "display_name": "Python 3",
   "language": "python",
   "name": "python3"
  },
  "language_info": {
   "codemirror_mode": {
    "name": "ipython",
    "version": 3
   },
   "file_extension": ".py",
   "mimetype": "text/x-python",
   "name": "python",
   "nbconvert_exporter": "python",
   "pygments_lexer": "ipython3",
   "version": "3.7.1"
  }
 },
 "nbformat": 4,
 "nbformat_minor": 2
}
